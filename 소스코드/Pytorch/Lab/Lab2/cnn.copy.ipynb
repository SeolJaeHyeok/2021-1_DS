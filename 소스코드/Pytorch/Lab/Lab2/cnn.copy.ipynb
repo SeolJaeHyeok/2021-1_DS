{
 "cells": [
  {
   "cell_type": "markdown",
   "metadata": {},
   "source": [
    "# CNN으로 패션 아이템 구분하기\n",
    "Convolutional Neural Network (CNN) 을 이용하여 패션아이템 구분 성능을 높여보겠습니다."
   ]
  },
  {
   "cell_type": "code",
   "execution_count": 1,
   "metadata": {},
   "outputs": [],
   "source": [
    "import torch\n",
    "import torch.nn as nn\n",
    "import torch.optim as optim\n",
    "import torch.nn.functional as F\n",
    "from torchvision import transforms, datasets"
   ]
  },
  {
   "cell_type": "code",
   "execution_count": 2,
   "metadata": {},
   "outputs": [],
   "source": [
    "USE_CUDA = torch.cuda.is_available()\n",
    "DEVICE = torch.device(\"cuda\" if USE_CUDA else \"cpu\")"
   ]
  },
  {
   "cell_type": "code",
   "execution_count": 3,
   "metadata": {},
   "outputs": [],
   "source": [
    "EPOCHS     = 40\n",
    "BATCH_SIZE = 64"
   ]
  },
  {
   "cell_type": "markdown",
   "metadata": {},
   "source": [
    "## 데이터셋 불러오기"
   ]
  },
  {
   "cell_type": "code",
   "execution_count": 4,
   "metadata": {},
   "outputs": [
    {
     "name": "stdout",
     "output_type": "stream",
     "text": [
      "Downloading http://fashion-mnist.s3-website.eu-central-1.amazonaws.com/train-images-idx3-ubyte.gz\n",
      "Downloading http://fashion-mnist.s3-website.eu-central-1.amazonaws.com/train-images-idx3-ubyte.gz to ./.data/FashionMNIST/raw/train-images-idx3-ubyte.gz\n"
     ]
    },
    {
     "data": {
      "application/vnd.jupyter.widget-view+json": {
       "model_id": "b0140dc6ba0349fda9140009ea12b581",
       "version_major": 2,
       "version_minor": 0
      },
      "text/plain": [
       "  0%|          | 0/26421880 [00:00<?, ?it/s]"
      ]
     },
     "metadata": {},
     "output_type": "display_data"
    },
    {
     "name": "stdout",
     "output_type": "stream",
     "text": [
      "Extracting ./.data/FashionMNIST/raw/train-images-idx3-ubyte.gz to ./.data/FashionMNIST/raw\n",
      "\n",
      "Downloading http://fashion-mnist.s3-website.eu-central-1.amazonaws.com/train-labels-idx1-ubyte.gz\n",
      "Downloading http://fashion-mnist.s3-website.eu-central-1.amazonaws.com/train-labels-idx1-ubyte.gz to ./.data/FashionMNIST/raw/train-labels-idx1-ubyte.gz\n"
     ]
    },
    {
     "data": {
      "application/vnd.jupyter.widget-view+json": {
       "model_id": "0c0422f835564206b57b7710f4b392fc",
       "version_major": 2,
       "version_minor": 0
      },
      "text/plain": [
       "  0%|          | 0/29515 [00:00<?, ?it/s]"
      ]
     },
     "metadata": {},
     "output_type": "display_data"
    },
    {
     "name": "stdout",
     "output_type": "stream",
     "text": [
      "Extracting ./.data/FashionMNIST/raw/train-labels-idx1-ubyte.gz to ./.data/FashionMNIST/raw\n",
      "\n",
      "Downloading http://fashion-mnist.s3-website.eu-central-1.amazonaws.com/t10k-images-idx3-ubyte.gz\n",
      "Downloading http://fashion-mnist.s3-website.eu-central-1.amazonaws.com/t10k-images-idx3-ubyte.gz to ./.data/FashionMNIST/raw/t10k-images-idx3-ubyte.gz\n"
     ]
    },
    {
     "data": {
      "application/vnd.jupyter.widget-view+json": {
       "model_id": "5c915c972a58482ba69538fe6ecd3587",
       "version_major": 2,
       "version_minor": 0
      },
      "text/plain": [
       "  0%|          | 0/4422102 [00:00<?, ?it/s]"
      ]
     },
     "metadata": {},
     "output_type": "display_data"
    },
    {
     "name": "stdout",
     "output_type": "stream",
     "text": [
      "Extracting ./.data/FashionMNIST/raw/t10k-images-idx3-ubyte.gz to ./.data/FashionMNIST/raw\n",
      "\n",
      "Downloading http://fashion-mnist.s3-website.eu-central-1.amazonaws.com/t10k-labels-idx1-ubyte.gz\n",
      "Downloading http://fashion-mnist.s3-website.eu-central-1.amazonaws.com/t10k-labels-idx1-ubyte.gz to ./.data/FashionMNIST/raw/t10k-labels-idx1-ubyte.gz\n"
     ]
    },
    {
     "data": {
      "application/vnd.jupyter.widget-view+json": {
       "model_id": "1acc8cd511a142ccad97f2eb395c130b",
       "version_major": 2,
       "version_minor": 0
      },
      "text/plain": [
       "  0%|          | 0/5148 [00:00<?, ?it/s]"
      ]
     },
     "metadata": {},
     "output_type": "display_data"
    },
    {
     "name": "stdout",
     "output_type": "stream",
     "text": [
      "Extracting ./.data/FashionMNIST/raw/t10k-labels-idx1-ubyte.gz to ./.data/FashionMNIST/raw\n",
      "\n",
      "Processing...\n",
      "Done!\n"
     ]
    },
    {
     "name": "stderr",
     "output_type": "stream",
     "text": [
      "/Users/seoljaehyeok/opt/anaconda3/envs/pytorch/lib/python3.8/site-packages/torchvision/datasets/mnist.py:502: UserWarning: The given NumPy array is not writeable, and PyTorch does not support non-writeable tensors. This means you can write to the underlying (supposedly non-writeable) NumPy array using the tensor. You may want to copy the array to protect its data or make it writeable before converting it to a tensor. This type of warning will be suppressed for the rest of this program. (Triggered internally at  /Users/distiller/project/conda/conda-bld/pytorch_1616554845587/work/torch/csrc/utils/tensor_numpy.cpp:143.)\n",
      "  return torch.from_numpy(parsed.astype(m[2], copy=False)).view(*s)\n"
     ]
    }
   ],
   "source": [
    "train_loader = torch.utils.data.DataLoader(\n",
    "    datasets.FashionMNIST('./.data',\n",
    "                   train=True,\n",
    "                   download=True,\n",
    "                   transform=transforms.Compose([\n",
    "                       transforms.ToTensor(),\n",
    "                       transforms.Normalize((0.2860,), (0.3205,))\n",
    "                   ])),\n",
    "    batch_size=BATCH_SIZE, shuffle=True)\n",
    "test_loader = torch.utils.data.DataLoader(\n",
    "    datasets.FashionMNIST('./.data',\n",
    "                   train=False, \n",
    "                   transform=transforms.Compose([\n",
    "                       transforms.ToTensor(),\n",
    "                       transforms.Normalize((0.2860,), (0.3205,))\n",
    "                   ])),\n",
    "    batch_size=BATCH_SIZE, shuffle=True)"
   ]
  },
  {
   "cell_type": "markdown",
   "metadata": {},
   "source": [
    "## 뉴럴넷으로 Fashion MNIST 학습하기"
   ]
  },
  {
   "cell_type": "code",
   "execution_count": 5,
   "metadata": {},
   "outputs": [],
   "source": [
    "class Net(nn.Module):\n",
    "    def __init__(self):\n",
    "        super(Net, self).__init__()\n",
    "        self.conv1 = nn.Conv2d(1, 10, kernel_size=5)\n",
    "        self.conv2 = nn.Conv2d(10, 20, kernel_size=5)\n",
    "        self.conv2_drop = nn.Dropout2d()\n",
    "        self.fc1 = nn.Linear(320, 50)\n",
    "        self.fc2 = nn.Linear(50, 10)\n",
    "\n",
    "    def forward(self, x):\n",
    "        x = F.relu(F.max_pool2d(self.conv1(x), 2))\n",
    "        x = F.relu(F.max_pool2d(self.conv2_drop(self.conv2(x)), 2))\n",
    "        x = x.view(-1, 320)\n",
    "        x = F.relu(self.fc1(x))\n",
    "        x = F.dropout(x, training=self.training)\n",
    "        x = self.fc2(x)\n",
    "        return x"
   ]
  },
  {
   "cell_type": "markdown",
   "metadata": {},
   "source": [
    "## 하이퍼파라미터 \n",
    "\n",
    "`to()` 함수는 모델의 파라미터들을 지정한 곳으로 보내는 역할을 합니다. 일반적으로 CPU 1개만 사용할 경우 필요는 없지만, GPU를 사용하고자 하는 경우 `to(\"cuda\")`로 지정하여 GPU로 보내야 합니다. 지정하지 않을 경우 계속 CPU에 남아 있게 되며 빠른 훈련의 이점을 누리실 수 없습니다.\n",
    "\n",
    "최적화 알고리즘으로 파이토치에 내장되어 있는 `optim.SGD`를 사용하겠습니다."
   ]
  },
  {
   "cell_type": "code",
   "execution_count": 6,
   "metadata": {},
   "outputs": [],
   "source": [
    "model     = Net().to(DEVICE)\n",
    "optimizer = optim.SGD(model.parameters(), lr=0.01, momentum=0.5)"
   ]
  },
  {
   "cell_type": "markdown",
   "metadata": {},
   "source": [
    "## 학습하기"
   ]
  },
  {
   "cell_type": "code",
   "execution_count": 7,
   "metadata": {},
   "outputs": [],
   "source": [
    "def train(model, train_loader, optimizer, epoch):\n",
    "    model.train()\n",
    "    for batch_idx, (data, target) in enumerate(train_loader):\n",
    "        data, target = data.to(DEVICE), target.to(DEVICE)\n",
    "        optimizer.zero_grad()\n",
    "        output = model(data)\n",
    "        loss = F.cross_entropy(output, target)\n",
    "        loss.backward()\n",
    "        optimizer.step()\n",
    "\n",
    "        if batch_idx % 200 == 0:\n",
    "            print('Train Epoch: {} [{}/{} ({:.0f}%)]\\tLoss: {:.6f}'.format(\n",
    "                epoch, batch_idx * len(data), len(train_loader.dataset),\n",
    "                100. * batch_idx / len(train_loader), loss.item()))"
   ]
  },
  {
   "cell_type": "markdown",
   "metadata": {},
   "source": [
    "## 테스트하기"
   ]
  },
  {
   "cell_type": "code",
   "execution_count": 8,
   "metadata": {},
   "outputs": [],
   "source": [
    "def evaluate(model, test_loader):\n",
    "    model.eval()\n",
    "    test_loss = 0\n",
    "    correct = 0\n",
    "    with torch.no_grad():\n",
    "        for data, target in test_loader:\n",
    "            data, target = data.to(DEVICE), target.to(DEVICE)\n",
    "            output = model(data)\n",
    "\n",
    "            # 배치 오차를 합산\n",
    "            test_loss += F.cross_entropy(output, target,\n",
    "                                         reduction='sum').item()\n",
    "\n",
    "            # 가장 높은 값을 가진 인덱스가 바로 예측값\n",
    "            pred = output.max(1, keepdim=True)[1]\n",
    "            correct += pred.eq(target.view_as(pred)).sum().item()\n",
    "\n",
    "    test_loss /= len(test_loader.dataset)\n",
    "    test_accuracy = 100. * correct / len(test_loader.dataset)\n",
    "    return test_loss, test_accuracy"
   ]
  },
  {
   "cell_type": "markdown",
   "metadata": {},
   "source": [
    "## 코드 돌려보기\n",
    "\n",
    "자, 이제 모든 준비가 끝났습니다. 코드를 돌려서 실제로 학습이 되는지 확인해봅시다!"
   ]
  },
  {
   "cell_type": "code",
   "execution_count": 9,
   "metadata": {},
   "outputs": [
    {
     "name": "stdout",
     "output_type": "stream",
     "text": [
      "Train Epoch: 1 [0/60000 (0%)]\tLoss: 2.323287\n",
      "Train Epoch: 1 [12800/60000 (21%)]\tLoss: 1.378723\n",
      "Train Epoch: 1 [25600/60000 (43%)]\tLoss: 1.048072\n",
      "Train Epoch: 1 [38400/60000 (64%)]\tLoss: 0.865630\n",
      "Train Epoch: 1 [51200/60000 (85%)]\tLoss: 0.928363\n",
      "[1] Test Loss: 0.6931, Accuracy: 73.42%\n",
      "Train Epoch: 2 [0/60000 (0%)]\tLoss: 1.055698\n",
      "Train Epoch: 2 [12800/60000 (21%)]\tLoss: 1.087029\n",
      "Train Epoch: 2 [25600/60000 (43%)]\tLoss: 0.915712\n",
      "Train Epoch: 2 [38400/60000 (64%)]\tLoss: 0.670475\n",
      "Train Epoch: 2 [51200/60000 (85%)]\tLoss: 0.800351\n",
      "[2] Test Loss: 0.5826, Accuracy: 77.00%\n",
      "Train Epoch: 3 [0/60000 (0%)]\tLoss: 0.695309\n",
      "Train Epoch: 3 [12800/60000 (21%)]\tLoss: 0.961285\n",
      "Train Epoch: 3 [25600/60000 (43%)]\tLoss: 0.618899\n",
      "Train Epoch: 3 [38400/60000 (64%)]\tLoss: 0.742240\n",
      "Train Epoch: 3 [51200/60000 (85%)]\tLoss: 0.726388\n",
      "[3] Test Loss: 0.5426, Accuracy: 78.88%\n",
      "Train Epoch: 4 [0/60000 (0%)]\tLoss: 0.954827\n",
      "Train Epoch: 4 [12800/60000 (21%)]\tLoss: 0.554349\n",
      "Train Epoch: 4 [25600/60000 (43%)]\tLoss: 0.687106\n",
      "Train Epoch: 4 [38400/60000 (64%)]\tLoss: 0.564264\n",
      "Train Epoch: 4 [51200/60000 (85%)]\tLoss: 0.893468\n",
      "[4] Test Loss: 0.5128, Accuracy: 80.65%\n",
      "Train Epoch: 5 [0/60000 (0%)]\tLoss: 0.746399\n",
      "Train Epoch: 5 [12800/60000 (21%)]\tLoss: 0.812472\n",
      "Train Epoch: 5 [25600/60000 (43%)]\tLoss: 0.489298\n",
      "Train Epoch: 5 [38400/60000 (64%)]\tLoss: 0.744498\n",
      "Train Epoch: 5 [51200/60000 (85%)]\tLoss: 0.478354\n",
      "[5] Test Loss: 0.4929, Accuracy: 80.33%\n",
      "Train Epoch: 6 [0/60000 (0%)]\tLoss: 0.647311\n",
      "Train Epoch: 6 [12800/60000 (21%)]\tLoss: 0.672102\n",
      "Train Epoch: 6 [25600/60000 (43%)]\tLoss: 0.617017\n",
      "Train Epoch: 6 [38400/60000 (64%)]\tLoss: 0.521713\n",
      "Train Epoch: 6 [51200/60000 (85%)]\tLoss: 0.742565\n",
      "[6] Test Loss: 0.4621, Accuracy: 82.23%\n",
      "Train Epoch: 7 [0/60000 (0%)]\tLoss: 0.747487\n",
      "Train Epoch: 7 [12800/60000 (21%)]\tLoss: 0.587883\n",
      "Train Epoch: 7 [25600/60000 (43%)]\tLoss: 0.563329\n",
      "Train Epoch: 7 [38400/60000 (64%)]\tLoss: 0.741222\n",
      "Train Epoch: 7 [51200/60000 (85%)]\tLoss: 0.516560\n",
      "[7] Test Loss: 0.4414, Accuracy: 83.62%\n",
      "Train Epoch: 8 [0/60000 (0%)]\tLoss: 0.520078\n",
      "Train Epoch: 8 [12800/60000 (21%)]\tLoss: 0.704451\n",
      "Train Epoch: 8 [25600/60000 (43%)]\tLoss: 0.681468\n",
      "Train Epoch: 8 [38400/60000 (64%)]\tLoss: 0.645135\n",
      "Train Epoch: 8 [51200/60000 (85%)]\tLoss: 0.408169\n",
      "[8] Test Loss: 0.4304, Accuracy: 83.76%\n",
      "Train Epoch: 9 [0/60000 (0%)]\tLoss: 0.604422\n",
      "Train Epoch: 9 [12800/60000 (21%)]\tLoss: 0.367552\n",
      "Train Epoch: 9 [25600/60000 (43%)]\tLoss: 0.449890\n",
      "Train Epoch: 9 [38400/60000 (64%)]\tLoss: 0.544868\n",
      "Train Epoch: 9 [51200/60000 (85%)]\tLoss: 0.457131\n",
      "[9] Test Loss: 0.4084, Accuracy: 84.70%\n",
      "Train Epoch: 10 [0/60000 (0%)]\tLoss: 0.353390\n",
      "Train Epoch: 10 [12800/60000 (21%)]\tLoss: 0.643599\n",
      "Train Epoch: 10 [25600/60000 (43%)]\tLoss: 0.521981\n",
      "Train Epoch: 10 [38400/60000 (64%)]\tLoss: 0.388520\n",
      "Train Epoch: 10 [51200/60000 (85%)]\tLoss: 0.554748\n",
      "[10] Test Loss: 0.4020, Accuracy: 84.96%\n",
      "Train Epoch: 11 [0/60000 (0%)]\tLoss: 0.377769\n",
      "Train Epoch: 11 [12800/60000 (21%)]\tLoss: 0.587559\n",
      "Train Epoch: 11 [25600/60000 (43%)]\tLoss: 0.470304\n",
      "Train Epoch: 11 [38400/60000 (64%)]\tLoss: 0.430390\n",
      "Train Epoch: 11 [51200/60000 (85%)]\tLoss: 0.548266\n",
      "[11] Test Loss: 0.3904, Accuracy: 85.58%\n",
      "Train Epoch: 12 [0/60000 (0%)]\tLoss: 0.792942\n",
      "Train Epoch: 12 [12800/60000 (21%)]\tLoss: 0.504815\n",
      "Train Epoch: 12 [25600/60000 (43%)]\tLoss: 0.529524\n",
      "Train Epoch: 12 [38400/60000 (64%)]\tLoss: 0.367140\n",
      "Train Epoch: 12 [51200/60000 (85%)]\tLoss: 0.585782\n",
      "[12] Test Loss: 0.3826, Accuracy: 85.89%\n",
      "Train Epoch: 13 [0/60000 (0%)]\tLoss: 0.345565\n",
      "Train Epoch: 13 [12800/60000 (21%)]\tLoss: 0.611877\n",
      "Train Epoch: 13 [25600/60000 (43%)]\tLoss: 0.404587\n",
      "Train Epoch: 13 [38400/60000 (64%)]\tLoss: 0.948000\n",
      "Train Epoch: 13 [51200/60000 (85%)]\tLoss: 0.549740\n",
      "[13] Test Loss: 0.3817, Accuracy: 85.83%\n",
      "Train Epoch: 14 [0/60000 (0%)]\tLoss: 0.429532\n",
      "Train Epoch: 14 [12800/60000 (21%)]\tLoss: 0.384792\n",
      "Train Epoch: 14 [25600/60000 (43%)]\tLoss: 0.377426\n",
      "Train Epoch: 14 [38400/60000 (64%)]\tLoss: 0.421175\n",
      "Train Epoch: 14 [51200/60000 (85%)]\tLoss: 0.456652\n",
      "[14] Test Loss: 0.3732, Accuracy: 86.23%\n",
      "Train Epoch: 15 [0/60000 (0%)]\tLoss: 0.533854\n",
      "Train Epoch: 15 [12800/60000 (21%)]\tLoss: 0.396338\n",
      "Train Epoch: 15 [25600/60000 (43%)]\tLoss: 0.270834\n",
      "Train Epoch: 15 [38400/60000 (64%)]\tLoss: 0.556409\n",
      "Train Epoch: 15 [51200/60000 (85%)]\tLoss: 0.443305\n",
      "[15] Test Loss: 0.3689, Accuracy: 86.45%\n",
      "Train Epoch: 16 [0/60000 (0%)]\tLoss: 0.443810\n",
      "Train Epoch: 16 [12800/60000 (21%)]\tLoss: 0.658982\n",
      "Train Epoch: 16 [25600/60000 (43%)]\tLoss: 0.301719\n",
      "Train Epoch: 16 [38400/60000 (64%)]\tLoss: 0.464775\n",
      "Train Epoch: 16 [51200/60000 (85%)]\tLoss: 0.427971\n",
      "[16] Test Loss: 0.3599, Accuracy: 86.73%\n",
      "Train Epoch: 17 [0/60000 (0%)]\tLoss: 0.519157\n",
      "Train Epoch: 17 [12800/60000 (21%)]\tLoss: 0.566248\n",
      "Train Epoch: 17 [25600/60000 (43%)]\tLoss: 0.398702\n",
      "Train Epoch: 17 [38400/60000 (64%)]\tLoss: 0.380858\n",
      "Train Epoch: 17 [51200/60000 (85%)]\tLoss: 0.495138\n",
      "[17] Test Loss: 0.3622, Accuracy: 86.60%\n",
      "Train Epoch: 18 [0/60000 (0%)]\tLoss: 0.516905\n",
      "Train Epoch: 18 [12800/60000 (21%)]\tLoss: 0.335050\n",
      "Train Epoch: 18 [25600/60000 (43%)]\tLoss: 0.397403\n",
      "Train Epoch: 18 [38400/60000 (64%)]\tLoss: 0.356473\n",
      "Train Epoch: 18 [51200/60000 (85%)]\tLoss: 0.501391\n",
      "[18] Test Loss: 0.3576, Accuracy: 86.86%\n",
      "Train Epoch: 19 [0/60000 (0%)]\tLoss: 0.742972\n",
      "Train Epoch: 19 [12800/60000 (21%)]\tLoss: 0.347447\n",
      "Train Epoch: 19 [25600/60000 (43%)]\tLoss: 0.454135\n",
      "Train Epoch: 19 [38400/60000 (64%)]\tLoss: 0.348576\n",
      "Train Epoch: 19 [51200/60000 (85%)]\tLoss: 0.505570\n",
      "[19] Test Loss: 0.3539, Accuracy: 87.08%\n",
      "Train Epoch: 20 [0/60000 (0%)]\tLoss: 0.288134\n",
      "Train Epoch: 20 [12800/60000 (21%)]\tLoss: 0.495463\n",
      "Train Epoch: 20 [25600/60000 (43%)]\tLoss: 0.516162\n",
      "Train Epoch: 20 [38400/60000 (64%)]\tLoss: 0.481013\n",
      "Train Epoch: 20 [51200/60000 (85%)]\tLoss: 0.388762\n",
      "[20] Test Loss: 0.3499, Accuracy: 87.17%\n",
      "Train Epoch: 21 [0/60000 (0%)]\tLoss: 0.579275\n",
      "Train Epoch: 21 [12800/60000 (21%)]\tLoss: 0.370678\n",
      "Train Epoch: 21 [25600/60000 (43%)]\tLoss: 0.613727\n",
      "Train Epoch: 21 [38400/60000 (64%)]\tLoss: 0.540164\n",
      "Train Epoch: 21 [51200/60000 (85%)]\tLoss: 0.682150\n",
      "[21] Test Loss: 0.3459, Accuracy: 87.18%\n",
      "Train Epoch: 22 [0/60000 (0%)]\tLoss: 0.639447\n",
      "Train Epoch: 22 [12800/60000 (21%)]\tLoss: 0.479153\n",
      "Train Epoch: 22 [25600/60000 (43%)]\tLoss: 0.463917\n",
      "Train Epoch: 22 [38400/60000 (64%)]\tLoss: 0.362316\n",
      "Train Epoch: 22 [51200/60000 (85%)]\tLoss: 0.475139\n",
      "[22] Test Loss: 0.3424, Accuracy: 87.41%\n",
      "Train Epoch: 23 [0/60000 (0%)]\tLoss: 0.388463\n",
      "Train Epoch: 23 [12800/60000 (21%)]\tLoss: 0.453505\n",
      "Train Epoch: 23 [25600/60000 (43%)]\tLoss: 0.284064\n",
      "Train Epoch: 23 [38400/60000 (64%)]\tLoss: 0.222347\n",
      "Train Epoch: 23 [51200/60000 (85%)]\tLoss: 0.444412\n",
      "[23] Test Loss: 0.3392, Accuracy: 87.89%\n",
      "Train Epoch: 24 [0/60000 (0%)]\tLoss: 0.698234\n",
      "Train Epoch: 24 [12800/60000 (21%)]\tLoss: 0.476299\n",
      "Train Epoch: 24 [25600/60000 (43%)]\tLoss: 0.309225\n",
      "Train Epoch: 24 [38400/60000 (64%)]\tLoss: 0.474969\n",
      "Train Epoch: 24 [51200/60000 (85%)]\tLoss: 0.401930\n",
      "[24] Test Loss: 0.3410, Accuracy: 87.88%\n",
      "Train Epoch: 25 [0/60000 (0%)]\tLoss: 0.443371\n",
      "Train Epoch: 25 [12800/60000 (21%)]\tLoss: 0.391493\n",
      "Train Epoch: 25 [25600/60000 (43%)]\tLoss: 0.466684\n",
      "Train Epoch: 25 [38400/60000 (64%)]\tLoss: 0.480376\n",
      "Train Epoch: 25 [51200/60000 (85%)]\tLoss: 0.603985\n",
      "[25] Test Loss: 0.3388, Accuracy: 87.53%\n",
      "Train Epoch: 26 [0/60000 (0%)]\tLoss: 0.504575\n",
      "Train Epoch: 26 [12800/60000 (21%)]\tLoss: 0.436117\n",
      "Train Epoch: 26 [25600/60000 (43%)]\tLoss: 0.345799\n",
      "Train Epoch: 26 [38400/60000 (64%)]\tLoss: 0.341397\n",
      "Train Epoch: 26 [51200/60000 (85%)]\tLoss: 0.418928\n",
      "[26] Test Loss: 0.3377, Accuracy: 87.68%\n",
      "Train Epoch: 27 [0/60000 (0%)]\tLoss: 0.286556\n",
      "Train Epoch: 27 [12800/60000 (21%)]\tLoss: 0.244776\n",
      "Train Epoch: 27 [25600/60000 (43%)]\tLoss: 0.462745\n",
      "Train Epoch: 27 [38400/60000 (64%)]\tLoss: 0.527796\n",
      "Train Epoch: 27 [51200/60000 (85%)]\tLoss: 0.535123\n",
      "[27] Test Loss: 0.3334, Accuracy: 87.77%\n",
      "Train Epoch: 28 [0/60000 (0%)]\tLoss: 0.377779\n",
      "Train Epoch: 28 [12800/60000 (21%)]\tLoss: 0.347844\n",
      "Train Epoch: 28 [25600/60000 (43%)]\tLoss: 0.338614\n",
      "Train Epoch: 28 [38400/60000 (64%)]\tLoss: 0.410615\n",
      "Train Epoch: 28 [51200/60000 (85%)]\tLoss: 0.300015\n",
      "[28] Test Loss: 0.3294, Accuracy: 87.79%\n",
      "Train Epoch: 29 [0/60000 (0%)]\tLoss: 0.532152\n",
      "Train Epoch: 29 [12800/60000 (21%)]\tLoss: 0.320134\n",
      "Train Epoch: 29 [25600/60000 (43%)]\tLoss: 0.309875\n"
     ]
    },
    {
     "name": "stdout",
     "output_type": "stream",
     "text": [
      "Train Epoch: 29 [38400/60000 (64%)]\tLoss: 0.373369\n",
      "Train Epoch: 29 [51200/60000 (85%)]\tLoss: 0.537059\n",
      "[29] Test Loss: 0.3360, Accuracy: 87.32%\n",
      "Train Epoch: 30 [0/60000 (0%)]\tLoss: 0.475977\n",
      "Train Epoch: 30 [12800/60000 (21%)]\tLoss: 0.467247\n",
      "Train Epoch: 30 [25600/60000 (43%)]\tLoss: 0.312116\n",
      "Train Epoch: 30 [38400/60000 (64%)]\tLoss: 0.421507\n",
      "Train Epoch: 30 [51200/60000 (85%)]\tLoss: 0.402309\n",
      "[30] Test Loss: 0.3291, Accuracy: 87.80%\n",
      "Train Epoch: 31 [0/60000 (0%)]\tLoss: 0.481519\n",
      "Train Epoch: 31 [12800/60000 (21%)]\tLoss: 0.460736\n",
      "Train Epoch: 31 [25600/60000 (43%)]\tLoss: 0.395387\n",
      "Train Epoch: 31 [38400/60000 (64%)]\tLoss: 0.272805\n",
      "Train Epoch: 31 [51200/60000 (85%)]\tLoss: 0.297940\n",
      "[31] Test Loss: 0.3266, Accuracy: 88.17%\n",
      "Train Epoch: 32 [0/60000 (0%)]\tLoss: 0.411531\n",
      "Train Epoch: 32 [12800/60000 (21%)]\tLoss: 0.364586\n",
      "Train Epoch: 32 [25600/60000 (43%)]\tLoss: 0.359515\n",
      "Train Epoch: 32 [38400/60000 (64%)]\tLoss: 0.257916\n",
      "Train Epoch: 32 [51200/60000 (85%)]\tLoss: 0.334575\n",
      "[32] Test Loss: 0.3234, Accuracy: 88.16%\n",
      "Train Epoch: 33 [0/60000 (0%)]\tLoss: 0.400643\n",
      "Train Epoch: 33 [12800/60000 (21%)]\tLoss: 0.377767\n",
      "Train Epoch: 33 [25600/60000 (43%)]\tLoss: 0.386826\n",
      "Train Epoch: 33 [38400/60000 (64%)]\tLoss: 0.428810\n",
      "Train Epoch: 33 [51200/60000 (85%)]\tLoss: 0.399943\n",
      "[33] Test Loss: 0.3301, Accuracy: 88.17%\n",
      "Train Epoch: 34 [0/60000 (0%)]\tLoss: 0.292352\n",
      "Train Epoch: 34 [12800/60000 (21%)]\tLoss: 0.412038\n",
      "Train Epoch: 34 [25600/60000 (43%)]\tLoss: 0.342457\n",
      "Train Epoch: 34 [38400/60000 (64%)]\tLoss: 0.264077\n",
      "Train Epoch: 34 [51200/60000 (85%)]\tLoss: 0.773691\n",
      "[34] Test Loss: 0.3244, Accuracy: 87.96%\n",
      "Train Epoch: 35 [0/60000 (0%)]\tLoss: 0.602241\n",
      "Train Epoch: 35 [12800/60000 (21%)]\tLoss: 0.406806\n",
      "Train Epoch: 35 [25600/60000 (43%)]\tLoss: 0.446349\n",
      "Train Epoch: 35 [38400/60000 (64%)]\tLoss: 0.303918\n",
      "Train Epoch: 35 [51200/60000 (85%)]\tLoss: 0.305375\n",
      "[35] Test Loss: 0.3242, Accuracy: 88.04%\n",
      "Train Epoch: 36 [0/60000 (0%)]\tLoss: 0.454715\n",
      "Train Epoch: 36 [12800/60000 (21%)]\tLoss: 0.387893\n",
      "Train Epoch: 36 [25600/60000 (43%)]\tLoss: 0.503555\n",
      "Train Epoch: 36 [38400/60000 (64%)]\tLoss: 0.509826\n",
      "Train Epoch: 36 [51200/60000 (85%)]\tLoss: 0.364818\n",
      "[36] Test Loss: 0.3183, Accuracy: 88.33%\n",
      "Train Epoch: 37 [0/60000 (0%)]\tLoss: 0.419207\n",
      "Train Epoch: 37 [12800/60000 (21%)]\tLoss: 0.484465\n",
      "Train Epoch: 37 [25600/60000 (43%)]\tLoss: 0.422678\n",
      "Train Epoch: 37 [38400/60000 (64%)]\tLoss: 0.499431\n",
      "Train Epoch: 37 [51200/60000 (85%)]\tLoss: 0.472257\n",
      "[37] Test Loss: 0.3223, Accuracy: 88.17%\n",
      "Train Epoch: 38 [0/60000 (0%)]\tLoss: 0.454382\n",
      "Train Epoch: 38 [12800/60000 (21%)]\tLoss: 0.364193\n",
      "Train Epoch: 38 [25600/60000 (43%)]\tLoss: 0.381221\n",
      "Train Epoch: 38 [38400/60000 (64%)]\tLoss: 0.415907\n",
      "Train Epoch: 38 [51200/60000 (85%)]\tLoss: 0.404081\n",
      "[38] Test Loss: 0.3194, Accuracy: 88.17%\n",
      "Train Epoch: 39 [0/60000 (0%)]\tLoss: 0.355481\n",
      "Train Epoch: 39 [12800/60000 (21%)]\tLoss: 0.312461\n",
      "Train Epoch: 39 [25600/60000 (43%)]\tLoss: 0.397570\n",
      "Train Epoch: 39 [38400/60000 (64%)]\tLoss: 0.405490\n",
      "Train Epoch: 39 [51200/60000 (85%)]\tLoss: 0.381869\n",
      "[39] Test Loss: 0.3198, Accuracy: 88.29%\n",
      "Train Epoch: 40 [0/60000 (0%)]\tLoss: 0.382321\n",
      "Train Epoch: 40 [12800/60000 (21%)]\tLoss: 0.301165\n",
      "Train Epoch: 40 [25600/60000 (43%)]\tLoss: 0.509217\n",
      "Train Epoch: 40 [38400/60000 (64%)]\tLoss: 0.279369\n",
      "Train Epoch: 40 [51200/60000 (85%)]\tLoss: 0.558924\n",
      "[40] Test Loss: 0.3233, Accuracy: 88.02%\n"
     ]
    }
   ],
   "source": [
    "for epoch in range(1, EPOCHS + 1):\n",
    "    train(model, train_loader, optimizer, epoch)\n",
    "    test_loss, test_accuracy = evaluate(model, test_loader)\n",
    "    \n",
    "    print('[{}] Test Loss: {:.4f}, Accuracy: {:.2f}%'.format(\n",
    "          epoch, test_loss, test_accuracy))"
   ]
  }
 ],
 "metadata": {
  "kernelspec": {
   "display_name": "Python 3",
   "language": "python",
   "name": "python3"
  },
  "language_info": {
   "codemirror_mode": {
    "name": "ipython",
    "version": 3
   },
   "file_extension": ".py",
   "mimetype": "text/x-python",
   "name": "python",
   "nbconvert_exporter": "python",
   "pygments_lexer": "ipython3",
   "version": "3.8.3"
  }
 },
 "nbformat": 4,
 "nbformat_minor": 2
}
