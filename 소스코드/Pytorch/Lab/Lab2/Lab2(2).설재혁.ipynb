{
 "cells": [
  {
   "cell_type": "markdown",
   "metadata": {},
   "source": [
    "# CNN으로 패션 아이템 구분하기\n",
    "Convolutional Neural Network (CNN) 을 이용하여 패션아이템 구분 성능을 높여보겠습니다."
   ]
  },
  {
   "cell_type": "code",
   "execution_count": 28,
   "metadata": {},
   "outputs": [],
   "source": [
    "import torch\n",
    "import torch.nn as nn\n",
    "import torch.optim as optim\n",
    "import torch.nn.functional as F\n",
    "from torchvision import transforms, datasets"
   ]
  },
  {
   "cell_type": "code",
   "execution_count": 29,
   "metadata": {},
   "outputs": [],
   "source": [
    "USE_CUDA = torch.cuda.is_available()\n",
    "DEVICE = torch.device(\"cuda\" if USE_CUDA else \"cpu\")"
   ]
  },
  {
   "cell_type": "code",
   "execution_count": 30,
   "metadata": {},
   "outputs": [],
   "source": [
    "EPOCHS     = 40\n",
    "BATCH_SIZE = 64"
   ]
  },
  {
   "cell_type": "markdown",
   "metadata": {},
   "source": [
    "## 데이터셋 불러오기"
   ]
  },
  {
   "cell_type": "code",
   "execution_count": 31,
   "metadata": {},
   "outputs": [],
   "source": [
    "train_loader = torch.utils.data.DataLoader(\n",
    "    datasets.FashionMNIST('./.data',\n",
    "                   train=True,\n",
    "                   download=True,\n",
    "                   transform=transforms.Compose([\n",
    "                       transforms.ToTensor(),\n",
    "                       transforms.Normalize((0.2860,), (0.3205,))\n",
    "                   ])),\n",
    "    batch_size=BATCH_SIZE, shuffle=True)\n",
    "test_loader = torch.utils.data.DataLoader(\n",
    "    datasets.FashionMNIST('./.data',\n",
    "                   train=False, \n",
    "                   transform=transforms.Compose([\n",
    "                       transforms.ToTensor(),\n",
    "                       transforms.Normalize((0.2860,), (0.3205,))\n",
    "                   ])),\n",
    "    batch_size=BATCH_SIZE, shuffle=True)"
   ]
  },
  {
   "cell_type": "markdown",
   "metadata": {},
   "source": [
    "## 뉴럴넷으로 Fashion MNIST 학습하기"
   ]
  },
  {
   "cell_type": "code",
   "execution_count": 32,
   "metadata": {},
   "outputs": [],
   "source": [
    "class Net(nn.Module):\n",
    "    def __init__(self):\n",
    "        super(Net, self).__init__()\n",
    "        self.conv1 = nn.Conv2d(1, 10, kernel_size=5)\n",
    "        self.conv2 = nn.Conv2d(10, 20, kernel_size=5)\n",
    "        self.conv2_drop = nn.Dropout2d()\n",
    "        self.fc1 = nn.Linear(320, 50)\n",
    "        self.fc2 = nn.Linear(50, 10)\n",
    "\n",
    "    def forward(self, x):\n",
    "        x = F.relu(F.max_pool2d(self.conv1(x), 2))\n",
    "        x = F.relu(F.max_pool2d(self.conv2_drop(self.conv2(x)), 2))\n",
    "        x = x.view(-1, 320)\n",
    "        x = F.relu(self.fc1(x))\n",
    "        x = F.dropout(x, training=self.training)\n",
    "        x = self.fc2(x)\n",
    "        return x"
   ]
  },
  {
   "cell_type": "markdown",
   "metadata": {},
   "source": [
    "## 하이퍼파라미터 \n",
    "\n",
    "`to()` 함수는 모델의 파라미터들을 지정한 곳으로 보내는 역할을 합니다. 일반적으로 CPU 1개만 사용할 경우 필요는 없지만, GPU를 사용하고자 하는 경우 `to(\"cuda\")`로 지정하여 GPU로 보내야 합니다. 지정하지 않을 경우 계속 CPU에 남아 있게 되며 빠른 훈련의 이점을 누리실 수 없습니다.\n",
    "\n",
    "최적화 알고리즘으로 파이토치에 내장되어 있는 `optim.SGD`를 사용하겠습니다."
   ]
  },
  {
   "cell_type": "code",
   "execution_count": 33,
   "metadata": {},
   "outputs": [],
   "source": [
    "model     = Net().to(DEVICE)\n",
    "optimizer = optim.SGD(model.parameters(), lr=0.01, momentum=0.5)"
   ]
  },
  {
   "cell_type": "markdown",
   "metadata": {},
   "source": [
    "## 학습하기"
   ]
  },
  {
   "cell_type": "code",
   "execution_count": 34,
   "metadata": {},
   "outputs": [],
   "source": [
    "def train(model, train_loader, optimizer, epoch):\n",
    "    model.train()\n",
    "    for batch_idx, (data, target) in enumerate(train_loader):\n",
    "        data, target = data.to(DEVICE), target.to(DEVICE)\n",
    "        optimizer.zero_grad()\n",
    "        output = model(data)\n",
    "        loss = F.cross_entropy(output, target)\n",
    "        loss.backward()\n",
    "        optimizer.step()\n",
    "\n",
    "        if batch_idx % 200 == 0:\n",
    "            print('Train Epoch: {} [{}/{} ({:.0f}%)]\\tLoss: {:.6f}'.format(\n",
    "                epoch, batch_idx * len(data), len(train_loader.dataset),\n",
    "                100. * batch_idx / len(train_loader), loss.item()))"
   ]
  },
  {
   "cell_type": "markdown",
   "metadata": {},
   "source": [
    "## 테스트하기"
   ]
  },
  {
   "cell_type": "code",
   "execution_count": 35,
   "metadata": {},
   "outputs": [],
   "source": [
    "def evaluate(model, test_loader):\n",
    "    model.eval()\n",
    "    test_loss = 0\n",
    "    correct = 0\n",
    "    with torch.no_grad():\n",
    "        for data, target in test_loader:\n",
    "            data, target = data.to(DEVICE), target.to(DEVICE)\n",
    "            output = model(data)\n",
    "\n",
    "            # 배치 오차를 합산\n",
    "            test_loss += F.cross_entropy(output, target,\n",
    "                                         reduction='sum').item()\n",
    "\n",
    "            # 가장 높은 값을 가진 인덱스가 바로 예측값\n",
    "            pred = output.max(1, keepdim=True)[1]\n",
    "            correct += pred.eq(target.view_as(pred)).sum().item()\n",
    "\n",
    "    test_loss /= len(test_loader.dataset)\n",
    "    test_accuracy = 100. * correct / len(test_loader.dataset)\n",
    "    return test_loss, test_accuracy"
   ]
  },
  {
   "cell_type": "markdown",
   "metadata": {},
   "source": [
    "## 코드 돌려보기\n",
    "\n",
    "자, 이제 모든 준비가 끝났습니다. 코드를 돌려서 실제로 학습이 되는지 확인해봅시다!"
   ]
  },
  {
   "cell_type": "code",
   "execution_count": null,
   "metadata": {},
   "outputs": [
    {
     "name": "stdout",
     "output_type": "stream",
     "text": [
      "Train Epoch: 1 [0/60000 (0%)]\tLoss: 2.349327\n",
      "Train Epoch: 1 [12800/60000 (21%)]\tLoss: 1.561423\n",
      "Train Epoch: 1 [25600/60000 (43%)]\tLoss: 1.060073\n",
      "Train Epoch: 1 [38400/60000 (64%)]\tLoss: 0.926569\n",
      "Train Epoch: 1 [51200/60000 (85%)]\tLoss: 1.029216\n",
      "[1] Test Loss: 0.6610, Accuracy: 75.02%\n",
      "Train Epoch: 2 [0/60000 (0%)]\tLoss: 0.769466\n",
      "Train Epoch: 2 [12800/60000 (21%)]\tLoss: 0.795348\n",
      "Train Epoch: 2 [25600/60000 (43%)]\tLoss: 0.683912\n",
      "Train Epoch: 2 [38400/60000 (64%)]\tLoss: 0.798276\n",
      "Train Epoch: 2 [51200/60000 (85%)]\tLoss: 0.799819\n",
      "[2] Test Loss: 0.5727, Accuracy: 77.01%\n",
      "Train Epoch: 3 [0/60000 (0%)]\tLoss: 0.824110\n",
      "Train Epoch: 3 [12800/60000 (21%)]\tLoss: 0.696965\n",
      "Train Epoch: 3 [25600/60000 (43%)]\tLoss: 1.049394\n",
      "Train Epoch: 3 [38400/60000 (64%)]\tLoss: 0.503077\n",
      "Train Epoch: 3 [51200/60000 (85%)]\tLoss: 0.587694\n",
      "[3] Test Loss: 0.5149, Accuracy: 79.96%\n",
      "Train Epoch: 4 [0/60000 (0%)]\tLoss: 0.580829\n",
      "Train Epoch: 4 [12800/60000 (21%)]\tLoss: 0.653683\n",
      "Train Epoch: 4 [25600/60000 (43%)]\tLoss: 0.737678\n",
      "Train Epoch: 4 [38400/60000 (64%)]\tLoss: 0.568299\n",
      "Train Epoch: 4 [51200/60000 (85%)]\tLoss: 0.624823\n",
      "[4] Test Loss: 0.4988, Accuracy: 81.12%\n",
      "Train Epoch: 5 [0/60000 (0%)]\tLoss: 0.577439\n",
      "Train Epoch: 5 [12800/60000 (21%)]\tLoss: 0.651029\n",
      "Train Epoch: 5 [25600/60000 (43%)]\tLoss: 0.743132\n",
      "Train Epoch: 5 [38400/60000 (64%)]\tLoss: 0.523226\n",
      "Train Epoch: 5 [51200/60000 (85%)]\tLoss: 0.682519\n",
      "[5] Test Loss: 0.4689, Accuracy: 82.47%\n",
      "Train Epoch: 6 [0/60000 (0%)]\tLoss: 0.822935\n",
      "Train Epoch: 6 [12800/60000 (21%)]\tLoss: 0.579240\n",
      "Train Epoch: 6 [25600/60000 (43%)]\tLoss: 0.471352\n",
      "Train Epoch: 6 [38400/60000 (64%)]\tLoss: 0.455119\n",
      "Train Epoch: 6 [51200/60000 (85%)]\tLoss: 0.508509\n",
      "[6] Test Loss: 0.4384, Accuracy: 83.78%\n",
      "Train Epoch: 7 [0/60000 (0%)]\tLoss: 0.544958\n",
      "Train Epoch: 7 [12800/60000 (21%)]\tLoss: 0.488715\n",
      "Train Epoch: 7 [25600/60000 (43%)]\tLoss: 0.585312\n",
      "Train Epoch: 7 [38400/60000 (64%)]\tLoss: 0.670474\n",
      "Train Epoch: 7 [51200/60000 (85%)]\tLoss: 0.533515\n",
      "[7] Test Loss: 0.4180, Accuracy: 84.62%\n",
      "Train Epoch: 8 [0/60000 (0%)]\tLoss: 0.467883\n",
      "Train Epoch: 8 [12800/60000 (21%)]\tLoss: 0.650769\n",
      "Train Epoch: 8 [25600/60000 (43%)]\tLoss: 0.415582\n",
      "Train Epoch: 8 [38400/60000 (64%)]\tLoss: 0.382792\n",
      "Train Epoch: 8 [51200/60000 (85%)]\tLoss: 0.515765\n",
      "[8] Test Loss: 0.4130, Accuracy: 84.45%\n",
      "Train Epoch: 9 [0/60000 (0%)]\tLoss: 0.494722\n",
      "Train Epoch: 9 [12800/60000 (21%)]\tLoss: 0.874049\n",
      "Train Epoch: 9 [25600/60000 (43%)]\tLoss: 0.572469\n",
      "Train Epoch: 9 [38400/60000 (64%)]\tLoss: 0.938265\n",
      "Train Epoch: 9 [51200/60000 (85%)]\tLoss: 0.544204\n",
      "[9] Test Loss: 0.3974, Accuracy: 85.61%\n",
      "Train Epoch: 10 [0/60000 (0%)]\tLoss: 0.684246\n",
      "Train Epoch: 10 [12800/60000 (21%)]\tLoss: 0.376959\n",
      "Train Epoch: 10 [25600/60000 (43%)]\tLoss: 0.643209\n",
      "Train Epoch: 10 [38400/60000 (64%)]\tLoss: 0.306935\n",
      "Train Epoch: 10 [51200/60000 (85%)]\tLoss: 0.469387\n",
      "[10] Test Loss: 0.3943, Accuracy: 85.21%\n",
      "Train Epoch: 11 [0/60000 (0%)]\tLoss: 0.459696\n",
      "Train Epoch: 11 [12800/60000 (21%)]\tLoss: 0.492928\n",
      "Train Epoch: 11 [25600/60000 (43%)]\tLoss: 0.365844\n",
      "Train Epoch: 11 [38400/60000 (64%)]\tLoss: 0.435498\n",
      "Train Epoch: 11 [51200/60000 (85%)]\tLoss: 0.482078\n",
      "[11] Test Loss: 0.3842, Accuracy: 85.35%\n",
      "Train Epoch: 12 [0/60000 (0%)]\tLoss: 0.323977\n",
      "Train Epoch: 12 [12800/60000 (21%)]\tLoss: 0.660068\n",
      "Train Epoch: 12 [25600/60000 (43%)]\tLoss: 0.460840\n",
      "Train Epoch: 12 [38400/60000 (64%)]\tLoss: 0.331351\n",
      "Train Epoch: 12 [51200/60000 (85%)]\tLoss: 0.347815\n",
      "[12] Test Loss: 0.3786, Accuracy: 85.90%\n",
      "Train Epoch: 13 [0/60000 (0%)]\tLoss: 0.537173\n",
      "Train Epoch: 13 [12800/60000 (21%)]\tLoss: 0.494969\n",
      "Train Epoch: 13 [25600/60000 (43%)]\tLoss: 0.555594\n",
      "Train Epoch: 13 [38400/60000 (64%)]\tLoss: 0.553815\n",
      "Train Epoch: 13 [51200/60000 (85%)]\tLoss: 0.493981\n",
      "[13] Test Loss: 0.3724, Accuracy: 86.06%\n",
      "Train Epoch: 14 [0/60000 (0%)]\tLoss: 0.598501\n",
      "Train Epoch: 14 [12800/60000 (21%)]\tLoss: 0.388055\n",
      "Train Epoch: 14 [25600/60000 (43%)]\tLoss: 0.295060\n",
      "Train Epoch: 14 [38400/60000 (64%)]\tLoss: 0.407462\n",
      "Train Epoch: 14 [51200/60000 (85%)]\tLoss: 0.580346\n",
      "[14] Test Loss: 0.3736, Accuracy: 85.67%\n",
      "Train Epoch: 15 [0/60000 (0%)]\tLoss: 0.409256\n",
      "Train Epoch: 15 [12800/60000 (21%)]\tLoss: 0.449005\n",
      "Train Epoch: 15 [25600/60000 (43%)]\tLoss: 0.530770\n",
      "Train Epoch: 15 [38400/60000 (64%)]\tLoss: 0.499281\n",
      "Train Epoch: 15 [51200/60000 (85%)]\tLoss: 0.458003\n",
      "[15] Test Loss: 0.3636, Accuracy: 86.12%\n",
      "Train Epoch: 16 [0/60000 (0%)]\tLoss: 0.361435\n",
      "Train Epoch: 16 [12800/60000 (21%)]\tLoss: 0.438624\n",
      "Train Epoch: 16 [25600/60000 (43%)]\tLoss: 0.337607\n",
      "Train Epoch: 16 [38400/60000 (64%)]\tLoss: 0.381574\n",
      "Train Epoch: 16 [51200/60000 (85%)]\tLoss: 0.444621\n",
      "[16] Test Loss: 0.3589, Accuracy: 86.42%\n",
      "Train Epoch: 17 [0/60000 (0%)]\tLoss: 0.438526\n",
      "Train Epoch: 17 [12800/60000 (21%)]\tLoss: 0.506153\n",
      "Train Epoch: 17 [25600/60000 (43%)]\tLoss: 0.411604\n",
      "Train Epoch: 17 [38400/60000 (64%)]\tLoss: 0.426677\n",
      "Train Epoch: 17 [51200/60000 (85%)]\tLoss: 0.329782\n",
      "[17] Test Loss: 0.3558, Accuracy: 86.44%\n",
      "Train Epoch: 18 [0/60000 (0%)]\tLoss: 0.320558\n",
      "Train Epoch: 18 [12800/60000 (21%)]\tLoss: 0.487264\n",
      "Train Epoch: 18 [25600/60000 (43%)]\tLoss: 0.418976\n",
      "Train Epoch: 18 [38400/60000 (64%)]\tLoss: 0.314703\n",
      "Train Epoch: 18 [51200/60000 (85%)]\tLoss: 0.392885\n",
      "[18] Test Loss: 0.3492, Accuracy: 87.06%\n",
      "Train Epoch: 19 [0/60000 (0%)]\tLoss: 0.445922\n",
      "Train Epoch: 19 [12800/60000 (21%)]\tLoss: 0.587781\n",
      "Train Epoch: 19 [25600/60000 (43%)]\tLoss: 0.556854\n",
      "Train Epoch: 19 [38400/60000 (64%)]\tLoss: 0.366899\n",
      "Train Epoch: 19 [51200/60000 (85%)]\tLoss: 0.415767\n",
      "[19] Test Loss: 0.3500, Accuracy: 86.78%\n",
      "Train Epoch: 20 [0/60000 (0%)]\tLoss: 0.632601\n",
      "Train Epoch: 20 [12800/60000 (21%)]\tLoss: 0.308879\n",
      "Train Epoch: 20 [25600/60000 (43%)]\tLoss: 0.300876\n",
      "Train Epoch: 20 [38400/60000 (64%)]\tLoss: 0.350480\n",
      "Train Epoch: 20 [51200/60000 (85%)]\tLoss: 0.809624\n",
      "[20] Test Loss: 0.3453, Accuracy: 86.97%\n",
      "Train Epoch: 21 [0/60000 (0%)]\tLoss: 0.374256\n",
      "Train Epoch: 21 [12800/60000 (21%)]\tLoss: 0.280988\n",
      "Train Epoch: 21 [25600/60000 (43%)]\tLoss: 0.243743\n",
      "Train Epoch: 21 [38400/60000 (64%)]\tLoss: 0.506818\n",
      "Train Epoch: 21 [51200/60000 (85%)]\tLoss: 0.290649\n",
      "[21] Test Loss: 0.3457, Accuracy: 87.36%\n",
      "Train Epoch: 22 [0/60000 (0%)]\tLoss: 0.330850\n",
      "Train Epoch: 22 [12800/60000 (21%)]\tLoss: 0.510940\n",
      "Train Epoch: 22 [25600/60000 (43%)]\tLoss: 0.419625\n",
      "Train Epoch: 22 [38400/60000 (64%)]\tLoss: 0.438502\n",
      "Train Epoch: 22 [51200/60000 (85%)]\tLoss: 0.374666\n",
      "[22] Test Loss: 0.3461, Accuracy: 87.44%\n",
      "Train Epoch: 23 [0/60000 (0%)]\tLoss: 0.469524\n",
      "Train Epoch: 23 [12800/60000 (21%)]\tLoss: 0.402189\n",
      "Train Epoch: 23 [25600/60000 (43%)]\tLoss: 0.503660\n",
      "Train Epoch: 23 [38400/60000 (64%)]\tLoss: 0.493642\n",
      "Train Epoch: 23 [51200/60000 (85%)]\tLoss: 0.420937\n",
      "[23] Test Loss: 0.3387, Accuracy: 86.95%\n",
      "Train Epoch: 24 [0/60000 (0%)]\tLoss: 0.453758\n",
      "Train Epoch: 24 [12800/60000 (21%)]\tLoss: 0.514506\n",
      "Train Epoch: 24 [25600/60000 (43%)]\tLoss: 0.362304\n",
      "Train Epoch: 24 [38400/60000 (64%)]\tLoss: 0.373561\n",
      "Train Epoch: 24 [51200/60000 (85%)]\tLoss: 0.399478\n",
      "[24] Test Loss: 0.3401, Accuracy: 86.77%\n",
      "Train Epoch: 25 [0/60000 (0%)]\tLoss: 0.431848\n",
      "Train Epoch: 25 [12800/60000 (21%)]\tLoss: 0.371130\n",
      "Train Epoch: 25 [25600/60000 (43%)]\tLoss: 0.420873\n",
      "Train Epoch: 25 [38400/60000 (64%)]\tLoss: 0.352074\n",
      "Train Epoch: 25 [51200/60000 (85%)]\tLoss: 0.450411\n",
      "[25] Test Loss: 0.3355, Accuracy: 87.31%\n",
      "Train Epoch: 26 [0/60000 (0%)]\tLoss: 0.570934\n",
      "Train Epoch: 26 [12800/60000 (21%)]\tLoss: 0.488282\n",
      "Train Epoch: 26 [25600/60000 (43%)]\tLoss: 0.392349\n"
     ]
    }
   ],
   "source": [
    "for epoch in range(1, EPOCHS + 1):\n",
    "    train(model, train_loader, optimizer, epoch)\n",
    "    test_loss, test_accuracy = evaluate(model, test_loader)\n",
    "    \n",
    "    print('[{}] Test Loss: {:.4f}, Accuracy: {:.2f}%'.format(\n",
    "          epoch, test_loss, test_accuracy))"
   ]
  },
  {
   "cell_type": "markdown",
   "metadata": {},
   "source": [
    "# 201700949 설재혁"
   ]
  },
  {
   "cell_type": "code",
   "execution_count": null,
   "metadata": {},
   "outputs": [],
   "source": []
  }
 ],
 "metadata": {
  "kernelspec": {
   "display_name": "Python 3",
   "language": "python",
   "name": "python3"
  },
  "language_info": {
   "codemirror_mode": {
    "name": "ipython",
    "version": 3
   },
   "file_extension": ".py",
   "mimetype": "text/x-python",
   "name": "python",
   "nbconvert_exporter": "python",
   "pygments_lexer": "ipython3",
   "version": "3.8.3"
  }
 },
 "nbformat": 4,
 "nbformat_minor": 2
}
