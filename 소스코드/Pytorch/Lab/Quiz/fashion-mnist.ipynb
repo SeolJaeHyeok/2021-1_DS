{
 "cells": [
  {
   "cell_type": "code",
   "execution_count": 5,
   "id": "88abfcc3",
   "metadata": {},
   "outputs": [],
   "source": [
    "# 3계층의 신경망으로 MNIST 데이터를 학습하는 코드\n",
    "\n",
    "import numpy\n",
    "# 시그모이드 함수 expit() 사용을 위해 scipy.special 불러오기\n",
    "import scipy.special\n",
    "# 행렬을 시각화 하기 위한 라이브러리\n",
    "import matplotlib.pyplot\n",
    "# 시각화가 외부 윈도우가 아닌 현재의 노트북 내에서 보이도록 설정\n",
    "%matplotlib inline"
   ]
  },
  {
   "cell_type": "code",
   "execution_count": 6,
   "id": "2b91d481",
   "metadata": {},
   "outputs": [],
   "source": [
    "class neuralNetwork:\n",
    "    def __init__(self, inputnodes, hiddennodes1, hiddennodes2, outputnodes, learningrate):\n",
    "        # 입력, 은닉, 출력 계층의 노드 개수 설정\n",
    "        self.innodes = inputnodes\n",
    "        self.hnodes1 = hiddennodes1\n",
    "        self.hnodes2 = hiddennodes2\n",
    "        self.onodes = outputnodes\n",
    "        \n",
    "        # 가중치 행령 wih와 who\n",
    "        # 배열 내 가중치는 w_i_j로 표기, 노드 i에서 다음 계층의 노드 j로 연결됨을 의미\n",
    "        # w11 w21\n",
    "        # w12 w22 등\n",
    "        self.wih = numpy.random.normal(0.0, pow(self.hnodes1, -0.5), (self.hnodes1, self.innodes))\n",
    "        self.whh = numpy.random.normal(0.0, pow(self.hnodes2, -0.5), (self.hnodes2, self.hnodes1))\n",
    "        self.who = numpy.random.normal(0.0, pow(self.onodes, -0.5), (self.onodes, self.hnodes2))\n",
    "        \n",
    "        # 학습률\n",
    "        self.lr = learningrate\n",
    "        \n",
    "        # 활성화 함수로는 시그모이드 함수를 이용\n",
    "        self.activation_function = lambda x: scipy.special.expit(x)\n",
    "        \n",
    "        pass\n",
    "    \n",
    "    \n",
    "    # 신경망 학습시키기\n",
    "    def train(self, input_list, targets_list):\n",
    "        # 입력 리스트를 2차원의 행렬로 변환\n",
    "        inputs = numpy.array(input_list, ndmin=2).T\n",
    "        targets = numpy.array(targets_list, ndmin=2).T\n",
    "        \n",
    "        # 은닉 계층1으로 들어오는 신호를 계산\n",
    "        hidden_inputs1 = numpy.dot(self.wih, inputs)\n",
    "        # 은닉 계층1에서 나가는 신호를 계산\n",
    "        hidden_outputs1 = self.activation_function(hidden_inputs1)\n",
    "        \n",
    "        # 은닉 계층2으로 들어오는 신호를 계산\n",
    "        hidden_inputs2 = numpy.dot(self.whh, hidden_outputs1)\n",
    "        # 은닉 계층2에서 나가는 신호를 계산\n",
    "        hidden_outputs2 = self.activation_function(hidden_inputs2)\n",
    "        \n",
    "        # 최종 출력 계층으로 들어오는 신호를 계산\n",
    "        final_inputs = numpy.dot(self.who, hidden_outputs2)\n",
    "        # 최종 출력 계층에서 나가는 신호를 계산\n",
    "        final_outputs = self.activation_function(final_inputs)\n",
    "        \n",
    "        # 출력 계층의 오차는 (실제 값 - 계산 값)\n",
    "        output_errors = targets - final_outputs\n",
    "        \n",
    "        # 은닉 계층의 오차는 가중치에 의해 나뉜 출력 계층의 오차들을 재조합해 계산\n",
    "        hidden_errors1 = numpy.dot(self.who.T, output_errors)\n",
    "        hidden_errors2 = numpy.dot(self.whh.T, hidden_errors1)\n",
    "        \n",
    "        # 은닉 계층2과 출력 계층 간의 가중치 업데이트\n",
    "        self.who += self.lr * numpy.dot((output_errors*final_outputs*(1.0-final_outputs)), numpy.transpose(hidden_outputs2))\n",
    "        \n",
    "        # 은닉 계층1과 은닉 계층2 간의 가중치 업데이트\n",
    "        self.whh += self.lr * numpy.dot((hidden_errors2*hidden_outputs2*(1.0-hidden_outputs2)), numpy.transpose(hidden_outputs1))\n",
    "        \n",
    "        # 입력 계층과 은닉 계층1 간의 가중치 업데이트\n",
    "        self.wih += self.lr * numpy.dot((hidden_errors1*hidden_outputs1*(1.0-hidden_outputs1)), numpy.transpose(inputs))\n",
    "        \n",
    "        pass\n",
    "    \n",
    "    # 신경망에 질의하기\n",
    "    def query(self, inputs_list):\n",
    "        # 입력 리스트를 2차원 행렬로 변환\n",
    "        inputs = numpy.array(inputs_list, ndmin=2).T\n",
    "        \n",
    "        # 은닉 계층1으로 들어오는 신호를 계산\n",
    "        hidden_inputs1 = numpy.dot(self.wih, inputs)\n",
    "        # 은닉 계층1에서 나가는 신호를 계산\n",
    "        hidden_outputs1 = self.activation_function(hidden_inputs1)\n",
    "        \n",
    "        # 은닉 계층2으로 들어오는 신호를 계산\n",
    "        hidden_inputs2 = numpy.dot(self.whh, hidden_outputs1)\n",
    "        # 은닉 계층2에서 나가는 신호를 계산\n",
    "        hidden_outputs2 = self.activation_function(hidden_inputs2)\n",
    "        \n",
    "        # 최종 출력 계층으로 들어오는 신호를 계산\n",
    "        final_inputs = numpy.dot(self.who, hidden_outputs2)\n",
    "        # 최종 출력 계층에서 들어오는 신호를 계산\n",
    "        final_outputs = self.activation_function(final_inputs)\n",
    "        \n",
    "        return final_outputs"
   ]
  },
  {
   "cell_type": "code",
   "execution_count": 7,
   "id": "5f719546",
   "metadata": {},
   "outputs": [],
   "source": [
    "# 입력, 은닉, 출력 노드의 수\n",
    "input_nodes = 784\n",
    "hidden_nodes1 = 200\n",
    "hidden_nodes2 = 200\n",
    "output_nodes = 10\n",
    "\n",
    "# 학습률\n",
    "learning_rate = 0.01\n",
    "\n",
    "# 신경망의 인스턴스를 생성\n",
    "n = neuralNetwork(input_nodes, hidden_nodes1, hidden_nodes2, output_nodes, learning_rate)"
   ]
  },
  {
   "cell_type": "code",
   "execution_count": 17,
   "id": "4c737c90",
   "metadata": {},
   "outputs": [
    {
     "name": "stderr",
     "output_type": "stream",
     "text": [
      "IOPub data rate exceeded.\n",
      "The notebook server will temporarily stop sending output\n",
      "to the client in order to avoid crashing it.\n",
      "To change this limit, set the config variable\n",
      "`--NotebookApp.iopub_data_rate_limit`.\n",
      "\n",
      "Current values:\n",
      "NotebookApp.iopub_data_rate_limit=1000000.0 (bytes/sec)\n",
      "NotebookApp.rate_limit_window=3.0 (secs)\n",
      "\n"
     ]
    }
   ],
   "source": [
    "# mnist 학습 데이터인 csv 파일 리스트로 불러오기\n",
    "training_data_file = open('fashion-mnist_train.csv', 'r')\n",
    "next(training_data_file)\n",
    "training_data_list = training_data_file.readlines()\n",
    "training_data_file.close()"
   ]
  },
  {
   "cell_type": "code",
   "execution_count": 12,
   "id": "396a2885",
   "metadata": {},
   "outputs": [],
   "source": [
    "# 신경망 학습시키기\n",
    "\n",
    "# 주기(epoch)란 학습 데이터가 학습을 위해 사용되는 횟수를 의미\n",
    "epoch = 5\n",
    "\n",
    "for e in range(epoch):\n",
    "    # 학습 데이터 모음 내의 모든 레코드 탐색\n",
    "    for record in training_data_list:\n",
    "        # 레코드를 쉼표에 의해 분리\n",
    "        all_values = record.split(',')\n",
    "        # 입력 값의 범위와 값 조정\n",
    "        inputs = (numpy.asfarray(all_values[1:]) / 255.0 * 0.99) + 0.01\n",
    "        # 결과 값 생성 (실제 값인 0.99 외에는 모두 0.01)\n",
    "        targets = numpy.zeros(output_nodes) + 0.01\n",
    "        # all_values[0]은 이 레코드에 대한 결과 값\n",
    "        targets[int(all_values[0])] = 0.99\n",
    "        n.train(inputs,targets)\n",
    "        pass\n",
    "    pass"
   ]
  },
  {
   "cell_type": "code",
   "execution_count": 22,
   "id": "1ff2b99f",
   "metadata": {},
   "outputs": [
    {
     "name": "stdout",
     "output_type": "stream",
     "text": [
      "['0,0,0,0,0,0,0,0,9,8,0,0,34,29,7,0,11,24,0,0,3,3,1,0,1,1,0,0,0,0,0,4,0,0,1,0,0,0,0,0,44,88,99,122,123,80,0,0,0,0,1,1,1,0,0,0,0,0,0,1,2,0,0,0,3,46,174,249,67,0,94,210,61,14,212,157,37,0,0,0,0,1,0,0,0,0,0,2,2,0,23,168,206,242,239,238,214,125,61,113,74,133,236,238,236,203,184,20,0,1,0,0,0,0,0,1,0,0,175,245,223,207,205,206,216,255,237,251,232,223,212,200,205,216,249,173,0,0,2,0,0,0,0,7,0,53,225,201,197,200,201,206,199,197,185,194,204,232,226,249,219,194,205,229,33,0,1,0,0,0,0,1,0,133,223,208,192,195,233,226,216,191,210,188,236,186,0,50,234,207,208,231,133,0,0,0,0,0,0,0,0,216,218,216,194,229,172,64,219,201,200,200,247,68,72,54,165,237,212,219,226,0,0,0,0,0,0,0,50,221,207,220,211,207,165,138,205,192,191,190,232,119,113,67,173,237,217,208,221,29,0,0,0,0,0,0,131,216,200,219,207,212,231,226,193,214,224,206,203,230,122,112,234,224,214,204,224,123,0,0,0,0,0,0,195,212,204,211,203,205,200,184,213,162,138,193,207,203,231,245,208,220,211,203,219,179,0,0,0,0,0,8,185,191,218,233,219,201,221,213,246,114,127,80,129,232,198,218,207,236,227,220,216,172,21,0,0,0,0,21,4,5,64,160,224,224,144,187,197,211,207,186,192,210,212,218,225,236,177,106,56,28,1,0,0,0,0,1,1,0,2,0,116,252,96,120,51,73,70,123,79,76,64,162,252,118,1,3,0,4,2,0,0,0,0,0,0,0,0,0,115,226,145,170,155,165,161,159,125,175,140,174,236,95,0,2,2,0,0,0,0,0,0,0,0,1,2,0,131,225,204,217,221,220,217,224,231,226,237,203,237,102,0,4,2,1,2,0,0,0,0,1,1,0,3,0,135,223,201,199,194,198,195,198,192,203,199,207,231,112,0,4,0,0,0,0,0,0,0,1,1,0,1,0,134,223,199,206,199,201,200,203,206,207,210,206,227,119,0,3,0,0,1,0,0,0,0,0,0,0,1,0,139,223,198,204,200,201,200,201,204,206,208,206,229,128,0,4,0,0,0,0,0,0,0,0,0,0,1,0,145,223,195,205,201,201,200,204,204,206,211,205,230,139,0,2,0,0,0,0,0,0,0,1,0,1,0,0,157,221,194,204,204,201,201,203,205,208,211,204,230,148,0,2,0,1,1,0,0,0,0,1,1,1,0,0,166,220,194,203,203,205,203,203,206,207,212,204,230,157,0,2,1,1,1,0,0,0,0,0,0,0,0,0,171,221,195,206,200,199,203,203,205,206,207,204,226,181,0,0,0,0,0,0,0,0,0,0,0,1,0,0,165,224,197,201,208,199,204,205,207,210,213,207,229,187,0,1,2,0,0,0,0,0,0,0,0,0,0,0,128,201,203,201,207,211,203,205,206,210,213,205,225,191,0,0,2,0,0,0,0,0,0,0,0,1,1,0,141,201,191,188,194,187,187,191,193,195,199,199,218,161,0,0,0,0,0,0,0,0,0,0,0,0,1,0,212,240,213,239,233,239,231,232,236,242,245,224,245,234,0,3,0,0,0,0,0,0,0,0,0,0,0,0,37,69,94,123,127,138,138,142,145,135,125,103,87,56,0,0,0,0,0,0,0\\n']\n"
     ]
    }
   ],
   "source": [
    "# mnist 테스트 데이터의 csv 파일을 리스트로 불러오기\n",
    "test_data_file = open('fashion-mnist_test.csv', 'r')\n",
    "next(test_data_file)\n",
    "# test_data_list = test_data_file.readlines()\n",
    "# test_data_file.close()"
   ]
  },
  {
   "cell_type": "code",
   "execution_count": 14,
   "id": "206c9f69",
   "metadata": {},
   "outputs": [],
   "source": [
    "# 신경망 테스트하기\n",
    "\n",
    "# 신경망의 성능의 지표가 되는 성적표를 아무 값도 가지지 않도록 초기화\n",
    "scorecard = []\n",
    "\n",
    "# 테스트 데이터 모음 내에서 모든 레코드 탐색\n",
    "for record in test_data_list:\n",
    "    # 레코드를 쉼표에 의해 분리\n",
    "    all_values = record.split(',')\n",
    "    # 정답은 첫 번째 값\n",
    "    correct_label = int(all_values[0])\n",
    "    # 입력 값의 범위와 값 조정\n",
    "    inputs = (numpy.asfarray(all_values[1:])/ 255.0 * 0.99) + 0.01\n",
    "    # 신경망에 질의\n",
    "    outputs = n.query(inputs)\n",
    "    # 가장 높은 값의 인덱스는 레이블의 인덱스와 일치\n",
    "    label = numpy.argmax(outputs)\n",
    "    # 정답 또는 오답을 리스트에 추가\n",
    "    if(label == correct_label):\n",
    "        # 정답인 경우 성적표에 1을 더함\n",
    "        scorecard.append(1)\n",
    "    else:\n",
    "        # 정답이 아닌 경우 성적표에 0을 더함\n",
    "        scorecard.append(0)\n",
    "        pass\n",
    "    pass"
   ]
  },
  {
   "cell_type": "code",
   "execution_count": 15,
   "id": "f179670c",
   "metadata": {},
   "outputs": [
    {
     "name": "stdout",
     "output_type": "stream",
     "text": [
      "epochs = 5\n",
      "hidden_nodes1 = 200\n",
      "hidden_nodes2 = 200\n",
      "learning_rate = 0.01\n",
      "performance = 0.8637\n",
      "201700949 설재혁\n"
     ]
    }
   ],
   "source": [
    "# 정답의 비율인 성적을 계산해 출력\n",
    "scorecard_array = numpy.asarray(scorecard)\n",
    "print(f'epochs = {epoch}')\n",
    "print(f'hidden_nodes1 = {hidden_nodes1}')\n",
    "print(f'hidden_nodes2 = {hidden_nodes2}')\n",
    "print(f'learning_rate = {learning_rate}')\n",
    "print(f'performance = {scorecard_array.sum()/scorecard_array.size}')\n",
    "print('201700949 설재혁')"
   ]
  },
  {
   "cell_type": "code",
   "execution_count": null,
   "id": "5a00fdd9",
   "metadata": {},
   "outputs": [],
   "source": []
  }
 ],
 "metadata": {
  "kernelspec": {
   "display_name": "Python 3",
   "language": "python",
   "name": "python3"
  },
  "language_info": {
   "codemirror_mode": {
    "name": "ipython",
    "version": 3
   },
   "file_extension": ".py",
   "mimetype": "text/x-python",
   "name": "python",
   "nbconvert_exporter": "python",
   "pygments_lexer": "ipython3",
   "version": "3.8.3"
  }
 },
 "nbformat": 4,
 "nbformat_minor": 5
}
