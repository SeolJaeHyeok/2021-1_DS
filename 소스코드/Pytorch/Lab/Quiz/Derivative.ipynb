{
 "cells": [
  {
   "cell_type": "code",
   "execution_count": 2,
   "id": "326d22e9",
   "metadata": {},
   "outputs": [],
   "source": [
    "import torch\n",
    "import sympy as sym"
   ]
  },
  {
   "cell_type": "code",
   "execution_count": 3,
   "id": "ead6a0ce",
   "metadata": {},
   "outputs": [
    {
     "name": "stdout",
     "output_type": "stream",
     "text": [
      "y를 x로 미분한 결과: 3*x**2 + 1\n",
      "f를 미분한 결과: 12*x*(3*x**2 + 1)\n"
     ]
    }
   ],
   "source": [
    "# Python\n",
    "x = sym.Symbol('x')\n",
    "y = sym.diff((x**3 + x),x)\n",
    "f = sym.diff(y**2, x)\n",
    "\n",
    "print('y를 x로 미분한 결과: {}'.format(y))\n",
    "print('f를 미분한 결과: {}'.format(f))"
   ]
  },
  {
   "cell_type": "code",
   "execution_count": 6,
   "id": "8613d491",
   "metadata": {},
   "outputs": [
    {
     "name": "stdout",
     "output_type": "stream",
     "text": [
      "tensor(8.)\n",
      "x가 2.0일 때 z을 x로 미분한 값은 8.0\n"
     ]
    }
   ],
   "source": [
    "# Pytorch\n",
    "x = torch.tensor(2.0, requires_grad = True)\n",
    "y = x**2\n",
    "z = 2*y+3\n",
    "z.backward()\n",
    "print(x.grad)\n",
    "print('x가 2.0일 때 z을 x로 미분한 값은 {}'.format(x.grad))"
   ]
  },
  {
   "cell_type": "code",
   "execution_count": 7,
   "id": "e55d23b4",
   "metadata": {},
   "outputs": [
    {
     "name": "stdout",
     "output_type": "stream",
     "text": [
      "tensor(12.)\n",
      "x가 3.0일 때 z을 x로 미분한 값은 12.0\n"
     ]
    }
   ],
   "source": [
    "x = torch.tensor(3.0, requires_grad = True)\n",
    "y = x**2\n",
    "z = 2*y+3\n",
    "z.backward()\n",
    "print(x.grad)\n",
    "print('x가 3.0일 때 z을 x로 미분한 값은 {}'.format(x.grad))"
   ]
  },
  {
   "cell_type": "code",
   "execution_count": null,
   "id": "91c5bae0",
   "metadata": {},
   "outputs": [],
   "source": []
  }
 ],
 "metadata": {
  "kernelspec": {
   "display_name": "Python 3",
   "language": "python",
   "name": "python3"
  },
  "language_info": {
   "codemirror_mode": {
    "name": "ipython",
    "version": 3
   },
   "file_extension": ".py",
   "mimetype": "text/x-python",
   "name": "python",
   "nbconvert_exporter": "python",
   "pygments_lexer": "ipython3",
   "version": "3.8.3"
  }
 },
 "nbformat": 4,
 "nbformat_minor": 5
}
