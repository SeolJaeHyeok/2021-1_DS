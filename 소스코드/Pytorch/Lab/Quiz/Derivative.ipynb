{
 "cells": [
  {
   "cell_type": "code",
   "execution_count": 26,
   "id": "326d22e9",
   "metadata": {},
   "outputs": [],
   "source": [
    "import torch\n",
    "import sympy as sym"
   ]
  },
  {
   "cell_type": "code",
   "execution_count": 40,
   "id": "ead6a0ce",
   "metadata": {},
   "outputs": [
    {
     "name": "stdout",
     "output_type": "stream",
     "text": [
      "y를 x로 미분한 결과: 3*x**2 + 1\n",
      "f를 미분한 결과: 12*x*(3*x**2 + 1)\n"
     ]
    }
   ],
   "source": [
    "# Python\n",
    "x = sym.Symbol('x')\n",
    "y = sym.diff((x**3 + x),x)\n",
    "f = sym.diff(y**2, x)\n",
    "\n",
    "print('y를 x로 미분한 결과: {}'.format(y))\n",
    "print('f를 미분한 결과: {}'.format(f))"
   ]
  },
  {
   "cell_type": "code",
   "execution_count": 28,
   "id": "8613d491",
   "metadata": {},
   "outputs": [
    {
     "name": "stdout",
     "output_type": "stream",
     "text": [
      "tensor(16.)\n",
      "f을 x로 미분한 값은 16.0\n"
     ]
    }
   ],
   "source": [
    "# Pytorch\n",
    "x = torch.tensor(1.0, requires_grad = True)\n",
    "y = x**3 + x\n",
    "f = y**2\n",
    "f.backward()\n",
    "print(x.grad)\n",
    "print('f을 x로 미분한 값은 {}'.format(x.grad))"
   ]
  },
  {
   "cell_type": "code",
   "execution_count": null,
   "id": "e55d23b4",
   "metadata": {},
   "outputs": [],
   "source": []
  }
 ],
 "metadata": {
  "kernelspec": {
   "display_name": "Python 3",
   "language": "python",
   "name": "python3"
  },
  "language_info": {
   "codemirror_mode": {
    "name": "ipython",
    "version": 3
   },
   "file_extension": ".py",
   "mimetype": "text/x-python",
   "name": "python",
   "nbconvert_exporter": "python",
   "pygments_lexer": "ipython3",
   "version": "3.8.3"
  }
 },
 "nbformat": 4,
 "nbformat_minor": 5
}
