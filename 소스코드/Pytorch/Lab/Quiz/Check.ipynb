{
 "cells": [
  {
   "cell_type": "code",
   "execution_count": 106,
   "id": "304bf78c",
   "metadata": {},
   "outputs": [],
   "source": [
    "import torch"
   ]
  },
  {
   "cell_type": "code",
   "execution_count": 107,
   "id": "650d4af3",
   "metadata": {},
   "outputs": [
    {
     "name": "stdout",
     "output_type": "stream",
     "text": [
      "tensor(7)\n",
      "Rank:  0\n",
      "Shape:  torch.Size([])\n"
     ]
    }
   ],
   "source": [
    "# 1\n",
    "x = torch.tensor(7)\n",
    "print(x)\n",
    "print(\"Rank: \", x.ndimension())\n",
    "print(\"Shape: \", x.shape)"
   ]
  },
  {
   "cell_type": "code",
   "execution_count": 108,
   "id": "bad59938",
   "metadata": {},
   "outputs": [
    {
     "name": "stdout",
     "output_type": "stream",
     "text": [
      "tensor([[1, 2, 3],\n",
      "        [4, 5, 6]])\n",
      "Rank:  2\n",
      "Shape:  torch.Size([2, 3])\n"
     ]
    }
   ],
   "source": [
    "# 2\n",
    "x = torch.tensor([[1,2,3], [4,5,6]])\n",
    "print(x)\n",
    "print(\"Rank: \", x.ndimension())\n",
    "print(\"Shape: \", x.shape)"
   ]
  },
  {
   "cell_type": "code",
   "execution_count": 109,
   "id": "cda7e4cc",
   "metadata": {},
   "outputs": [
    {
     "name": "stdout",
     "output_type": "stream",
     "text": [
      "tensor([[[1, 2, 3],\n",
      "         [4, 5, 6]]])\n",
      "Rank:  3\n",
      "Shape:  torch.Size([1, 2, 3])\n"
     ]
    }
   ],
   "source": [
    "# 3\n",
    "x = torch.tensor([[[1,2,3], [4,5,6]]])\n",
    "print(x)\n",
    "print(\"Rank: \", x.ndimension())\n",
    "print(\"Shape: \", x.shape)"
   ]
  },
  {
   "cell_type": "code",
   "execution_count": 110,
   "id": "c513b474",
   "metadata": {},
   "outputs": [
    {
     "name": "stdout",
     "output_type": "stream",
     "text": [
      "tensor([[[[1, 2, 3],\n",
      "          [4, 5, 6]]]])\n",
      "Rank:  4\n",
      "Shape:  torch.Size([1, 1, 2, 3])\n"
     ]
    }
   ],
   "source": [
    "# 4\n",
    "x = torch.tensor([[[[1,2,3], [4,5,6]]]])\n",
    "print(x)\n",
    "print(\"Rank: \", x.ndimension())\n",
    "print(\"Shape: \", x.shape)"
   ]
  },
  {
   "cell_type": "code",
   "execution_count": 111,
   "id": "630ec630",
   "metadata": {},
   "outputs": [
    {
     "name": "stdout",
     "output_type": "stream",
     "text": [
      "tensor([[[[[1, 2, 3],\n",
      "           [4, 5, 6]]]]])\n",
      "Rank:  5\n",
      "Shape:  torch.Size([1, 1, 1, 2, 3])\n"
     ]
    }
   ],
   "source": [
    "# 5\n",
    "x = torch.tensor([[[[[1,2,3], [4,5,6]]]]])\n",
    "print(x)\n",
    "print(\"Rank: \", x.ndimension())\n",
    "print(\"Shape: \", x.shape)"
   ]
  },
  {
   "cell_type": "code",
   "execution_count": 112,
   "id": "4447507b",
   "metadata": {},
   "outputs": [
    {
     "name": "stdout",
     "output_type": "stream",
     "text": [
      "tensor([[[[[[1, 2, 3],\n",
      "            [4, 5, 6]]]]]])\n",
      "Rank:  6\n",
      "Shape:  torch.Size([1, 1, 1, 1, 2, 3])\n"
     ]
    }
   ],
   "source": [
    "# 6 . 차원 늘리기\n",
    "x = torch.unsqueeze(x,0)\n",
    "print(x)\n",
    "print(\"Rank: \", x.ndimension())\n",
    "print(\"Shape: \", x.shape)"
   ]
  },
  {
   "cell_type": "code",
   "execution_count": 113,
   "id": "add02fd0",
   "metadata": {},
   "outputs": [
    {
     "name": "stdout",
     "output_type": "stream",
     "text": [
      "tensor([[1, 2, 3],\n",
      "        [4, 5, 6]])\n",
      "Rank:  2\n",
      "Shape:  torch.Size([2, 3])\n"
     ]
    }
   ],
   "source": [
    "# 7. 랭크 삭제(줄이기)\n",
    "x = torch.squeeze(x)\n",
    "print(x)\n",
    "print(\"Rank: \", x.ndimension())\n",
    "print(\"Shape: \", x.shape)"
   ]
  },
  {
   "cell_type": "code",
   "execution_count": 114,
   "id": "13ab86b6",
   "metadata": {},
   "outputs": [
    {
     "name": "stdout",
     "output_type": "stream",
     "text": [
      "tensor([[1, 2, 3],\n",
      "        [4, 5, 6]])\n",
      "Rank:  2\n",
      "Shape:  torch.Size([2, 3])\n"
     ]
    }
   ],
   "source": [
    "# 8. 랭크 1\n",
    "x.view(6)\n",
    "print(x)\n",
    "print(\"Rank: \", x.ndimension())\n",
    "print(\"Shape: \", x.shape)"
   ]
  },
  {
   "cell_type": "code",
   "execution_count": 116,
   "id": "ecd3ed5a",
   "metadata": {},
   "outputs": [
    {
     "name": "stdout",
     "output_type": "stream",
     "text": [
      "shape '[2, 4]' is invalid for input of size 6\n"
     ]
    }
   ],
   "source": [
    "try:\n",
    "    x = x.view(2,4)\n",
    "except Exception as e:\n",
    "    print(e) #에러 출력"
   ]
  },
  {
   "cell_type": "code",
   "execution_count": null,
   "id": "d57b3045",
   "metadata": {},
   "outputs": [],
   "source": []
  }
 ],
 "metadata": {
  "kernelspec": {
   "display_name": "Python 3",
   "language": "python",
   "name": "python3"
  },
  "language_info": {
   "codemirror_mode": {
    "name": "ipython",
    "version": 3
   },
   "file_extension": ".py",
   "mimetype": "text/x-python",
   "name": "python",
   "nbconvert_exporter": "python",
   "pygments_lexer": "ipython3",
   "version": "3.8.3"
  }
 },
 "nbformat": 4,
 "nbformat_minor": 5
}
