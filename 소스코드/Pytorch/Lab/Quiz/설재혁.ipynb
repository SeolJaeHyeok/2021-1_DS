{
 "cells": [
  {
   "cell_type": "markdown",
   "id": "e40366f6",
   "metadata": {},
   "source": [
    "# 201700949 설재혁"
   ]
  },
  {
   "cell_type": "markdown",
   "id": "ad6e58f5",
   "metadata": {},
   "source": [
    "# 2번"
   ]
  },
  {
   "cell_type": "code",
   "execution_count": 150,
   "id": "34d6d210",
   "metadata": {},
   "outputs": [],
   "source": [
    "import torch"
   ]
  },
  {
   "cell_type": "code",
   "execution_count": 151,
   "id": "e3d0d3cd",
   "metadata": {},
   "outputs": [
    {
     "name": "stdout",
     "output_type": "stream",
     "text": [
      "tensor(260.)\n",
      "x가 3.0일 때 z을 x로 미분한 값은 260.0\n"
     ]
    }
   ],
   "source": [
    "# Pytorch\n",
    "x = torch.tensor(2.0, requires_grad = True)\n",
    "y = x**3 + x\n",
    "z = y**2\n",
    "z.backward()\n",
    "print(x.grad)\n",
    "print('x가 3.0일 때 z을 x로 미분한 값은 {}'.format(x.grad))"
   ]
  },
  {
   "cell_type": "code",
   "execution_count": 152,
   "id": "2c203ecb",
   "metadata": {},
   "outputs": [
    {
     "name": "stdout",
     "output_type": "stream",
     "text": [
      "tensor(1680.)\n",
      "x가 3.0일 때 z을 x로 미분한 값은 1680.0\n"
     ]
    }
   ],
   "source": [
    "x = torch.tensor(3.0, requires_grad = True)\n",
    "y = x**3 + x\n",
    "z = y**2\n",
    "z.backward()\n",
    "print(x.grad)\n",
    "print('x가 3.0일 때 z을 x로 미분한 값은 {}'.format(x.grad))"
   ]
  },
  {
   "cell_type": "markdown",
   "id": "664451f9",
   "metadata": {},
   "source": [
    "# 3번"
   ]
  },
  {
   "cell_type": "code",
   "execution_count": 153,
   "id": "71323124",
   "metadata": {},
   "outputs": [],
   "source": [
    "import numpy\n",
    "# 시그모이드 함수 expit() 사용을 위해 scipy.special 불러오기\n",
    "import scipy.special\n",
    "# 행렬을 시각화 하기 위한 라이브러리\n",
    "import matplotlib.pyplot\n",
    "# 시각화가 외부 윈도우가 아닌 현재의 노트북 내에서 보이도록 설정\n",
    "%matplotlib inline"
   ]
  },
  {
   "cell_type": "code",
   "execution_count": 154,
   "id": "fb748573",
   "metadata": {},
   "outputs": [],
   "source": [
    "class neuralNetwork:\n",
    "    def __init__(self, inputnodes, hiddennodes1, hiddennodes2, outputnodes, learningrate):\n",
    "        # 입력, 은닉, 출력 계층의 노드 개수 설정\n",
    "        self.innodes = inputnodes\n",
    "        self.hnodes1 = hiddennodes1\n",
    "        self.hnodes2 = hiddennodes2\n",
    "        self.onodes = outputnodes\n",
    "        \n",
    "        # 가중치 행령 wih와 who\n",
    "        # 배열 내 가중치는 w_i_j로 표기, 노드 i에서 다음 계층의 노드 j로 연결됨을 의미\n",
    "        # w11 w21\n",
    "        # w12 w22 등\n",
    "        self.wih = numpy.random.normal(0.0, pow(self.hnodes1, -0.5), (self.hnodes1, self.innodes))\n",
    "        self.whh = numpy.random.normal(0.0, pow(self.hnodes2, -0.5), (self.hnodes2, self.hnodes1))\n",
    "        self.who = numpy.random.normal(0.0, pow(self.onodes, -0.5), (self.onodes, self.hnodes2))\n",
    "        \n",
    "        # 학습률\n",
    "        self.lr = learningrate\n",
    "        \n",
    "        # 활성화 함수로 ReLU함수를 이용\n",
    "        self.activation_function = lambda x: numpy.maximum(x,0)\n",
    "        \n",
    "        pass\n",
    "    \n",
    "    \n",
    "    # 신경망 학습시키기\n",
    "    def train(self, input_list, targets_list):\n",
    "        # 입력 리스트를 2차원의 행렬로 변환\n",
    "        inputs = numpy.array(input_list, ndmin=2).T\n",
    "        targets = numpy.array(targets_list, ndmin=2).T\n",
    "        \n",
    "        # 은닉 계층1으로 들어오는 신호를 계산\n",
    "        hidden_inputs1 = numpy.dot(self.wih, inputs)\n",
    "        # 은닉 계층1에서 나가는 신호를 계산\n",
    "        hidden_outputs1 = self.activation_function(hidden_inputs1)\n",
    "        \n",
    "        # 은닉 계층2으로 들어오는 신호를 계산\n",
    "        hidden_inputs2 = numpy.dot(self.whh, hidden_outputs1)\n",
    "        # 은닉 계층2에서 나가는 신호를 계산\n",
    "        hidden_outputs2 = self.activation_function(hidden_inputs2)\n",
    "        \n",
    "        # 최종 출력 계층으로 들어오는 신호를 계산\n",
    "        final_inputs = numpy.dot(self.who, hidden_outputs2)\n",
    "        # 최종 출력 계층에서 나가는 신호를 계산\n",
    "        final_outputs = self.activation_function(final_inputs)\n",
    "        \n",
    "        # 출력 계층의 오차는 (실제 값 - 계산 값)\n",
    "        output_errors = targets - final_outputs\n",
    "        \n",
    "        # 은닉 계층의 오차는 가중치에 의해 나뉜 출력 계층의 오차들을 재조합해 계산\n",
    "        hidden_errors1 = numpy.dot(self.who.T, output_errors)\n",
    "        hidden_errors2 = numpy.dot(self.whh.T, hidden_errors1)\n",
    "        \n",
    "        # 은닉 계층2과 출력 계층 간의 가중치 업데이트\n",
    "        self.who += self.lr * numpy.dot((output_errors*final_outputs*(1.0-final_outputs)), numpy.transpose(hidden_outputs2))\n",
    "        \n",
    "        # 은닉 계층1과 은닉 계층2 간의 가중치 업데이트\n",
    "        self.whh += self.lr * numpy.dot((hidden_errors2*hidden_outputs2*(1.0-hidden_outputs2)), numpy.transpose(hidden_outputs1))\n",
    "        \n",
    "        # 입력 계층과 은닉 계층1 간의 가중치 업데이트\n",
    "        self.wih += self.lr * numpy.dot((hidden_errors1*hidden_outputs1*(1.0-hidden_outputs1)), numpy.transpose(inputs))\n",
    "        \n",
    "        pass\n",
    "    \n",
    "    # 신경망에 질의하기\n",
    "    def query(self, inputs_list):\n",
    "        # 입력 리스트를 2차원 행렬로 변환\n",
    "        inputs = numpy.array(inputs_list, ndmin=2).T\n",
    "        \n",
    "        # 은닉 계층1으로 들어오는 신호를 계산\n",
    "        hidden_inputs1 = numpy.dot(self.wih, inputs)\n",
    "        # 은닉 계층1에서 나가는 신호를 계산\n",
    "        hidden_outputs1 = self.activation_function(hidden_inputs1)\n",
    "        \n",
    "        # 은닉 계층2으로 들어오는 신호를 계산\n",
    "        hidden_inputs2 = numpy.dot(self.whh, hidden_outputs1)\n",
    "        # 은닉 계층2에서 나가는 신호를 계산\n",
    "        hidden_outputs2 = self.activation_function(hidden_inputs2)\n",
    "        \n",
    "        # 최종 출력 계층으로 들어오는 신호를 계산\n",
    "        final_inputs = numpy.dot(self.who, hidden_outputs2)\n",
    "        # 최종 출력 계층에서 들어오는 신호를 계산\n",
    "        final_outputs = self.activation_function(final_inputs)\n",
    "        \n",
    "        return final_outputs"
   ]
  },
  {
   "cell_type": "code",
   "execution_count": 155,
   "id": "f7a248fc",
   "metadata": {},
   "outputs": [],
   "source": [
    "# 입력, 은닉, 출력 노드의 수\n",
    "input_nodes = 784\n",
    "hidden_nodes1 = 200\n",
    "hidden_nodes2 = 200\n",
    "output_nodes = 10\n",
    "\n",
    "# 학습률\n",
    "learning_rate = 0.01\n",
    "\n",
    "# 신경망의 인스턴스를 생성\n",
    "n = neuralNetwork(input_nodes, hidden_nodes1, hidden_nodes2, output_nodes, learning_rate)"
   ]
  },
  {
   "cell_type": "code",
   "execution_count": 156,
   "id": "4171780b",
   "metadata": {},
   "outputs": [],
   "source": [
    "# Fashion mnist 학습 데이터인 csv 파일 리스트로 불러오기\n",
    "training_data_file = open('fashion-mnist_train.csv', 'r')\n",
    "training_data_list = training_data_file.readlines()\n",
    "training_data_file.close()"
   ]
  },
  {
   "cell_type": "code",
   "execution_count": 157,
   "id": "01b8e78b",
   "metadata": {},
   "outputs": [
    {
     "name": "stderr",
     "output_type": "stream",
     "text": [
      "<ipython-input-154-aa4b655fa94a>:55: RuntimeWarning: overflow encountered in multiply\n",
      "  self.who += self.lr * numpy.dot((output_errors*final_outputs*(1.0-final_outputs)), numpy.transpose(hidden_outputs2))\n",
      "<ipython-input-154-aa4b655fa94a>:58: RuntimeWarning: overflow encountered in multiply\n",
      "  self.whh += self.lr * numpy.dot((hidden_errors2*hidden_outputs2*(1.0-hidden_outputs2)), numpy.transpose(hidden_outputs1))\n"
     ]
    }
   ],
   "source": [
    "# 신경망 학습시키기\n",
    "\n",
    "# 주기(epoch)란 학습 데이터가 학습을 위해 사용되는 횟수를 의미\n",
    "epoch = 5\n",
    "\n",
    "for e in range(epoch):\n",
    "    # 학습 데이터 모음 내의 모든 레코드 탐색\n",
    "    for record in training_data_list:\n",
    "        # 레코드를 쉼표에 의해 분리\n",
    "        all_values = record.split(',')\n",
    "        # 입력 값의 범위와 값 조정\n",
    "        inputs = (numpy.asfarray(all_values[1:]) / 255.0 * 0.99) + 0.01\n",
    "        # 결과 값 생성 (실제 값인 0.99 외에는 모두 0.01)\n",
    "        targets = numpy.zeros(output_nodes) + 0.01\n",
    "        # all_values[0]은 이 레코드에 대한 결과 값\n",
    "        targets[int(all_values[0])] = 0.99\n",
    "        n.train(inputs,targets)\n",
    "        pass\n",
    "    pass"
   ]
  },
  {
   "cell_type": "code",
   "execution_count": 158,
   "id": "b174bc55",
   "metadata": {},
   "outputs": [],
   "source": [
    "# Fashion mnist 테스트 데이터의 csv 파일을 리스트로 불러오기\n",
    "test_data_file = open('fashion-mnist_test.csv', 'r')\n",
    "test_data_list = test_data_file.readlines()\n",
    "test_data_file.close()"
   ]
  },
  {
   "cell_type": "code",
   "execution_count": 159,
   "id": "10388964",
   "metadata": {},
   "outputs": [],
   "source": [
    "# 신경망 테스트하기\n",
    "\n",
    "# 신경망의 성능의 지표가 되는 성적표를 아무 값도 가지지 않도록 초기화\n",
    "scorecard = []\n",
    "\n",
    "# 테스트 데이터 모음 내에서 모든 레코드 탐색\n",
    "for record in test_data_list:\n",
    "    # 레코드를 쉼표에 의해 분리\n",
    "    all_values = record.split(',')\n",
    "    # 정답은 첫 번째 값\n",
    "    correct_label = int(all_values[0])\n",
    "    # 입력 값의 범위와 값 조정\n",
    "    inputs = (numpy.asfarray(all_values[1:])/ 255.0 * 0.99) + 0.01\n",
    "    # 신경망에 질의\n",
    "    outputs = n.query(inputs)\n",
    "    # 가장 높은 값의 인덱스는 레이블의 인덱스와 일치\n",
    "    label = numpy.argmax(outputs)\n",
    "    # 정답 또는 오답을 리스트에 추가\n",
    "    if(label == correct_label):\n",
    "        # 정답인 경우 성적표에 1을 더함\n",
    "        scorecard.append(1)\n",
    "    else:\n",
    "        # 정답이 아닌 경우 성적표에 0을 더함\n",
    "        scorecard.append(0)\n",
    "        pass\n",
    "    pass"
   ]
  },
  {
   "cell_type": "code",
   "execution_count": 160,
   "id": "79eeb66d",
   "metadata": {},
   "outputs": [
    {
     "name": "stdout",
     "output_type": "stream",
     "text": [
      "epochs = 5\n",
      "hidden_nodes1 = 200\n",
      "hidden_nodes2 = 200\n",
      "learning_rate = 0.01\n",
      "performance = 0.1\n",
      "201700949 설재혁\n"
     ]
    }
   ],
   "source": [
    "# 정답의 비율인 성적을 계산해 출력\n",
    "scorecard_array = numpy.asarray(scorecard)\n",
    "print(f'epochs = {epoch}')\n",
    "print(f'hidden_nodes1 = {hidden_nodes1}')\n",
    "print(f'hidden_nodes2 = {hidden_nodes2}')\n",
    "print(f'learning_rate = {learning_rate}')\n",
    "print(f'performance = {scorecard_array.sum()/scorecard_array.size}')\n",
    "print('201700949 설재혁')"
   ]
  },
  {
   "cell_type": "markdown",
   "id": "c78cbc18",
   "metadata": {},
   "source": [
    "# 4번"
   ]
  },
  {
   "cell_type": "code",
   "execution_count": 161,
   "id": "8096a2e3",
   "metadata": {},
   "outputs": [
    {
     "name": "stdout",
     "output_type": "stream",
     "text": [
      "공부 시간: 2, 실제 점수: 81, 예측 점수: 82\n",
      "공부 시간: 4, 실제 점수: 93, 예측 점수: 88\n",
      "공부 시간: 6, 실제 점수: 91, 예측 점수: 94\n",
      "공부 시간: 8, 실제 점수: 97, 예측 점수: 100\n",
      "공부 시간: 10, 실제 점수: 99, 예측 점수: 106\n",
      "공부 시간: 12, 실제 점수: 100, 예측 점수: 112\n",
      "rmse 최종 값: 6.284902544988268\n"
     ]
    },
    {
     "data": {
      "text/plain": [
       "<matplotlib.collections.PathCollection at 0x7ff438721ca0>"
      ]
     },
     "execution_count": 161,
     "metadata": {},
     "output_type": "execute_result"
    },
    {
     "data": {
      "text/plain": [
       "Text(0.5, 0, 'Predict Score')"
      ]
     },
     "execution_count": 161,
     "metadata": {},
     "output_type": "execute_result"
    },
    {
     "data": {
      "text/plain": [
       "Text(0, 0.5, 'Actual Score')"
      ]
     },
     "execution_count": 161,
     "metadata": {},
     "output_type": "execute_result"
    },
    {
     "data": {
      "image/png": "[encoded data removed]",
      "text/plain": [
       "<Figure size 432x288 with 1 Axes>"
      ]
     },
     "metadata": {
      "needs_background": "light"
     },
     "output_type": "display_data"
    }
   ],
   "source": [
    "from IPython.core.interactiveshell import InteractiveShell\n",
    "InteractiveShell.ast_node_interactivity = 'all'\n",
    "\n",
    "import numpy as np\n",
    "import matplotlib.pyplot as plt\n",
    "%matplotlib inline\n",
    "\n",
    "# 기울기 a와 y절편 b\n",
    "wb = [3,76]\n",
    "\n",
    "# x,y의 데이터 값\n",
    "data = [[2,81], [4,93], [6,91], [8,97], [10,99], [12,100]]\n",
    "x = [i[0] for i in data]\n",
    "y = [i[1] for i in data]\n",
    "\n",
    "# y = ax + b에 a,b값을 대입하여 결과를 출력하는 함수\n",
    "def predict(x):\n",
    "    return wb[0]*x + wb[1]\n",
    "\n",
    "# RMSE 함수\n",
    "def rmse(a,p):\n",
    "    return np.sqrt(((a-p) ** 2).mean())\n",
    "\n",
    "# RMSE 함수를 각 y값에 대입하여 최종 값을 구하는 함수\n",
    "def rmse_val(predict_result, y):\n",
    "    return rmse(np.array(predict_result), np.array(y))\n",
    "\n",
    "# 예측 값이 들어 있는 빈 리스트\n",
    "predict_result = []\n",
    "# \n",
    "actual_list = []\n",
    "\n",
    "# 모든 x 값을 한 번씩 대입하여 predict_result 환성\n",
    "for i in range(len(x)):\n",
    "    predict_result.append(predict(x[i]))\n",
    "    actual_list.append(y[i])\n",
    "    print('공부 시간: %.f, 실제 점수: %.f, 예측 점수: %.f' % (x[i], y[i], predict(x[i])))\n",
    "\n",
    "# 최종 RMSE 출력\n",
    "print('rmse 최종 값: ' + str(rmse_val(y, predict_result)))\n",
    "\n",
    "plt.scatter(predict_result, actual_list, c=\"blue\")\n",
    "plt.xlabel('Predict Score')\n",
    "plt.ylabel('Actual Score')\n",
    "plt.show()"
   ]
  },
  {
   "cell_type": "code",
   "execution_count": null,
   "id": "e474bc13",
   "metadata": {},
   "outputs": [],
   "source": []
  }
 ],
 "metadata": {
  "kernelspec": {
   "display_name": "Python 3",
   "language": "python",
   "name": "python3"
  },
  "language_info": {
   "codemirror_mode": {
    "name": "ipython",
    "version": 3
   },
   "file_extension": ".py",
   "mimetype": "text/x-python",
   "name": "python",
   "nbconvert_exporter": "python",
   "pygments_lexer": "ipython3",
   "version": "3.8.3"
  }
 },
 "nbformat": 4,
 "nbformat_minor": 5
}
