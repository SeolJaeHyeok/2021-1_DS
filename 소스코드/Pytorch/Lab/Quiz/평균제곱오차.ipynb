{
 "cells": [
  {
   "cell_type": "code",
   "execution_count": 34,
   "id": "9388db44",
   "metadata": {},
   "outputs": [
    {
     "name": "stdout",
     "output_type": "stream",
     "text": [
      "공부 시간: 2, 실제 점수: 81, 예측 점수: 82\n",
      "공부 시간: 4, 실제 점수: 93, 예측 점수: 88\n",
      "공부 시간: 6, 실제 점수: 91, 예측 점수: 94\n",
      "공부 시간: 8, 실제 점수: 97, 예측 점수: 100\n",
      "공부 시간: 10, 실제 점수: 99, 예측 점수: 106\n",
      "공부 시간: 12, 실제 점수: 100, 예측 점수: 112\n",
      "rmse 최종 값: 6.284902544988268\n"
     ]
    },
    {
     "data": {
      "text/plain": [
       "<matplotlib.collections.PathCollection at 0x7fa006780130>"
      ]
     },
     "execution_count": 34,
     "metadata": {},
     "output_type": "execute_result"
    },
    {
     "data": {
      "text/plain": [
       "Text(0.5, 0, 'Predict Score')"
      ]
     },
     "execution_count": 34,
     "metadata": {},
     "output_type": "execute_result"
    },
    {
     "data": {
      "text/plain": [
       "Text(0, 0.5, 'Actual Score')"
      ]
     },
     "execution_count": 34,
     "metadata": {},
     "output_type": "execute_result"
    },
    {
     "data": {
      "image/png": "[encoded data removed]",
      "text/plain": [
       "<Figure size 432x288 with 1 Axes>"
      ]
     },
     "metadata": {
      "needs_background": "light"
     },
     "output_type": "display_data"
    }
   ],
   "source": [
    "from IPython.core.interactiveshell import InteractiveShell\n",
    "InteractiveShell.ast_node_interactivity = 'all'\n",
    "\n",
    "import numpy as np\n",
    "import matplotlib.pyplot as plt\n",
    "%matplotlib inline\n",
    "\n",
    "# 기울기 a와 y절편 b\n",
    "wb = [3,76]\n",
    "\n",
    "# x,y의 데이터 값\n",
    "data = [[2,81], [4,93], [6,91], [8,97], [10,99], [12,100]]\n",
    "x = [i[0] for i in data]\n",
    "y = [i[1] for i in data]\n",
    "\n",
    "# y = ax + b에 a,b값을 대입하여 결과를 출력하는 함수\n",
    "def predict(x):\n",
    "    return wb[0]*x + wb[1]\n",
    "\n",
    "# RMSE 함수\n",
    "def rmse(a,p):\n",
    "    return np.sqrt(((a-p) ** 2).mean())\n",
    "\n",
    "# RMSE 함수를 각 y값에 대입하여 최종 값을 구하는 함수\n",
    "def rmse_val(predict_result, y):\n",
    "    return rmse(np.array(predict_result), np.array(y))\n",
    "\n",
    "# 예측 값이 들어 있는 빈 리스트\n",
    "predict_result = []\n",
    "# \n",
    "actual_list = []\n",
    "\n",
    "# 모든 x 값을 한 번씩 대입하여 predict_result 환성\n",
    "for i in range(len(x)):\n",
    "    predict_result.append(predict(x[i]))\n",
    "    actual_list.append(y[i])\n",
    "    print('공부 시간: %.f, 실제 점수: %.f, 예측 점수: %.f' % (x[i], y[i], predict(x[i])))\n",
    "\n",
    "# 최종 RMSE 출력\n",
    "print('rmse 최종 값: ' + str(rmse_val(y, predict_result)))\n",
    "\n",
    "plt.scatter(predict_result, actual_list, c=\"blue\")\n",
    "plt.xlabel('Predict Score')\n",
    "plt.ylabel('Actual Score')\n",
    "plt.show()"
   ]
  },
  {
   "cell_type": "code",
   "execution_count": null,
   "id": "27ce88d9",
   "metadata": {},
   "outputs": [],
   "source": []
  }
 ],
 "metadata": {
  "kernelspec": {
   "display_name": "Python 3",
   "language": "python",
   "name": "python3"
  },
  "language_info": {
   "codemirror_mode": {
    "name": "ipython",
    "version": 3
   },
   "file_extension": ".py",
   "mimetype": "text/x-python",
   "name": "python",
   "nbconvert_exporter": "python",
   "pygments_lexer": "ipython3",
   "version": "3.8.3"
  }
 },
 "nbformat": 4,
 "nbformat_minor": 5
}
