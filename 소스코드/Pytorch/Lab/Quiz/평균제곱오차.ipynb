{
 "cells": [
  {
   "cell_type": "code",
   "execution_count": 3,
   "id": "9388db44",
   "metadata": {},
   "outputs": [
    {
     "name": "stdout",
     "output_type": "stream",
     "text": [
      "공부 시간: 2, 실제 점수: 81, 예측 점수: 82\n",
      "공부 시간: 4, 실제 점수: 93, 예측 점수: 88\n",
      "공부 시간: 6, 실제 점수: 91, 예측 점수: 94\n",
      "공부 시간: 8, 실제 점수: 97, 예측 점수: 100\n",
      "rmse 최종 값: 3.3166247903554\n",
      "기울기 a = 3\n",
      "y절편 b = 76\n"
     ]
    }
   ],
   "source": [
    "from IPython.core.interactiveshell import InteractiveShell\n",
    "InteractiveShell.ast_node_interactivity = 'all'\n",
    "\n",
    "import numpy as np\n",
    "import matplotlib.pyplot as plt\n",
    "%matplotlib inline\n",
    "\n",
    "# 기울기 a와 y절편 b\n",
    "wb = [3,76]\n",
    "\n",
    "# x,y의 데이터 값\n",
    "data = [[2,81], [4,93], [6,91], [8,97]]\n",
    "x = [i[0] for i in data]\n",
    "y = [i[1] for i in data]\n",
    "\n",
    "# y = ax + b에 a,b값을 대입하여 결과를 출력하는 함수\n",
    "def predict(x):\n",
    "    return wb[0]*x + wb[1]\n",
    "\n",
    "# RMSE 함수\n",
    "def rmse(a,p):\n",
    "    return np.sqrt(((a-p) ** 2).mean())\n",
    "\n",
    "# RMSE 함수를 각 y값에 대입하여 최종 값을 구하는 함수\n",
    "def rmse_val(predict_result, y):\n",
    "    return rmse(np.array(predict_result), np.array(y))\n",
    "\n",
    "# 예측 값이 들어 있는 빈 리스트\n",
    "predict_result = []\n",
    "\n",
    "# 모든 x 값을 한 번씩 대입하여 predict_result 환성\n",
    "for i in range(len(x)):\n",
    "    predict_result.append(predict(x[i]))\n",
    "    print('공부 시간: %.f, 실제 점수: %.f, 예측 점수: %.f' % (x[i], y[i], predict(x[i])))\n",
    "    \n",
    "# 최종 RMSE 출력\n",
    "print('rmse 최종 값: ' + str(rmse_val(y, predict_result)))\n",
    "\n",
    "# 출력으로 확인\n",
    "print('기울기 a = {}'.format(wb[0]))\n",
    "print('y절편 b = {}'.format(wb[1]))"
   ]
  },
  {
   "cell_type": "code",
   "execution_count": null,
   "id": "27ce88d9",
   "metadata": {},
   "outputs": [],
   "source": []
  }
 ],
 "metadata": {
  "kernelspec": {
   "display_name": "Python 3",
   "language": "python",
   "name": "python3"
  },
  "language_info": {
   "codemirror_mode": {
    "name": "ipython",
    "version": 3
   },
   "file_extension": ".py",
   "mimetype": "text/x-python",
   "name": "python",
   "nbconvert_exporter": "python",
   "pygments_lexer": "ipython3",
   "version": "3.8.3"
  }
 },
 "nbformat": 4,
 "nbformat_minor": 5
}
