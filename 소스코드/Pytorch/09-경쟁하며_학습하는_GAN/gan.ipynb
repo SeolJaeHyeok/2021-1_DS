{
 "cells": [
  {
   "cell_type": "markdown",
   "metadata": {},
   "source": [
    "# GAN으로 새로운 패션아이템 생성하기\n",
    "*GAN을 이용하여 새로운 패션 아이템을 만들어봅니다*\n",
    "\n",
    "이 프로젝트는 최윤제님의 파이토치 튜토리얼 사용 허락을 받아 참고했습니다.\n",
    "\n",
    "* [yunjey/pytorch-tutorial](https://github.com/yunjey/pytorch-tutorial) - MIT License"
   ]
  },
  {
   "cell_type": "code",
   "execution_count": 1,
   "metadata": {},
   "outputs": [],
   "source": [
    "import os\n",
    "import torch\n",
    "import torchvision\n",
    "import torch.nn as nn\n",
    "import torch.optim as optim\n",
    "from torchvision import transforms, datasets\n",
    "from torchvision.utils import save_image\n",
    "import matplotlib.pyplot as plt\n",
    "import numpy as np"
   ]
  },
  {
   "cell_type": "markdown",
   "metadata": {},
   "source": [
    "EPOCHS 과 BATCH_SIZE 등 학습에 필요한 하이퍼 파라미터 들을 설정해 줍니다."
   ]
  },
  {
   "cell_type": "code",
   "execution_count": 2,
   "metadata": {},
   "outputs": [
    {
     "name": "stdout",
     "output_type": "stream",
     "text": [
      "Using Device: cpu\n"
     ]
    }
   ],
   "source": [
    "# 하이퍼파라미터\n",
    "# EPOCHS = 500\n",
    "EPOCHS = 50\n",
    "BATCH_SIZE = 100\n",
    "USE_CUDA = torch.cuda.is_available()\n",
    "DEVICE = torch.device(\"cuda\" if USE_CUDA else \"cpu\")\n",
    "print(\"Using Device:\", DEVICE)"
   ]
  },
  {
   "cell_type": "markdown",
   "metadata": {},
   "source": [
    "학습에 필요한 데이터셋을 로딩합니다. "
   ]
  },
  {
   "cell_type": "code",
   "execution_count": 3,
   "metadata": {},
   "outputs": [
    {
     "name": "stdout",
     "output_type": "stream",
     "text": [
      "Downloading http://fashion-mnist.s3-website.eu-central-1.amazonaws.com/train-images-idx3-ubyte.gz\n",
      "Downloading http://fashion-mnist.s3-website.eu-central-1.amazonaws.com/train-images-idx3-ubyte.gz to ./.data/FashionMNIST/raw/train-images-idx3-ubyte.gz\n"
     ]
    },
    {
     "data": {
      "application/vnd.jupyter.widget-view+json": {
       "model_id": "7df09aaca30f43b2918e4575e5c5c7d2",
       "version_major": 2,
       "version_minor": 0
      },
      "text/plain": [
       "  0%|          | 0/26421880 [00:00<?, ?it/s]"
      ]
     },
     "metadata": {},
     "output_type": "display_data"
    },
    {
     "name": "stdout",
     "output_type": "stream",
     "text": [
      "Extracting ./.data/FashionMNIST/raw/train-images-idx3-ubyte.gz to ./.data/FashionMNIST/raw\n",
      "\n",
      "Downloading http://fashion-mnist.s3-website.eu-central-1.amazonaws.com/train-labels-idx1-ubyte.gz\n",
      "Using downloaded and verified file: ./.data/FashionMNIST/raw/train-labels-idx1-ubyte.gz\n",
      "Extracting ./.data/FashionMNIST/raw/train-labels-idx1-ubyte.gz to ./.data/FashionMNIST/raw\n",
      "\n",
      "Downloading http://fashion-mnist.s3-website.eu-central-1.amazonaws.com/t10k-images-idx3-ubyte.gz\n",
      "Downloading http://fashion-mnist.s3-website.eu-central-1.amazonaws.com/t10k-images-idx3-ubyte.gz to ./.data/FashionMNIST/raw/t10k-images-idx3-ubyte.gz\n"
     ]
    },
    {
     "data": {
      "application/vnd.jupyter.widget-view+json": {
       "model_id": "e481db3b380243afaf9a7c7ed4076c85",
       "version_major": 2,
       "version_minor": 0
      },
      "text/plain": [
       "  0%|          | 0/4422102 [00:00<?, ?it/s]"
      ]
     },
     "metadata": {},
     "output_type": "display_data"
    },
    {
     "name": "stdout",
     "output_type": "stream",
     "text": [
      "Extracting ./.data/FashionMNIST/raw/t10k-images-idx3-ubyte.gz to ./.data/FashionMNIST/raw\n",
      "\n",
      "Downloading http://fashion-mnist.s3-website.eu-central-1.amazonaws.com/t10k-labels-idx1-ubyte.gz\n",
      "Downloading http://fashion-mnist.s3-website.eu-central-1.amazonaws.com/t10k-labels-idx1-ubyte.gz to ./.data/FashionMNIST/raw/t10k-labels-idx1-ubyte.gz\n"
     ]
    },
    {
     "data": {
      "application/vnd.jupyter.widget-view+json": {
       "model_id": "6a3dae5a4ed741c89064c65e1ecaaea7",
       "version_major": 2,
       "version_minor": 0
      },
      "text/plain": [
       "  0%|          | 0/5148 [00:00<?, ?it/s]"
      ]
     },
     "metadata": {},
     "output_type": "display_data"
    },
    {
     "name": "stdout",
     "output_type": "stream",
     "text": [
      "Extracting ./.data/FashionMNIST/raw/t10k-labels-idx1-ubyte.gz to ./.data/FashionMNIST/raw\n",
      "\n",
      "Processing...\n",
      "Done!\n"
     ]
    },
    {
     "name": "stderr",
     "output_type": "stream",
     "text": [
      "/Users/seoljaehyeok/opt/anaconda3/envs/pytorch/lib/python3.8/site-packages/torchvision/datasets/mnist.py:502: UserWarning: The given NumPy array is not writeable, and PyTorch does not support non-writeable tensors. This means you can write to the underlying (supposedly non-writeable) NumPy array using the tensor. You may want to copy the array to protect its data or make it writeable before converting it to a tensor. This type of warning will be suppressed for the rest of this program. (Triggered internally at  /Users/distiller/project/conda/conda-bld/pytorch_1616554845587/work/torch/csrc/utils/tensor_numpy.cpp:143.)\n",
      "  return torch.from_numpy(parsed.astype(m[2], copy=False)).view(*s)\n"
     ]
    }
   ],
   "source": [
    "# Fashion MNIST 데이터셋\n",
    "trainset = datasets.FashionMNIST(\n",
    "    './.data',\n",
    "    train=True,\n",
    "    download=True,\n",
    "    transform=transforms.Compose([\n",
    "       transforms.ToTensor(),\n",
    "       transforms.Normalize((0.5,), (0.5,))\n",
    "    ])\n",
    ")\n",
    "train_loader = torch.utils.data.DataLoader(\n",
    "    dataset     = trainset,\n",
    "    batch_size  = BATCH_SIZE,\n",
    "    shuffle     = True\n",
    ")"
   ]
  },
  {
   "cell_type": "markdown",
   "metadata": {},
   "source": [
    "생성자는 64차원의 랜덤한 텐서를 입력받아 이에 행렬곱(Linear)과 활성화 함수(ReLU, Tanh) 연산을 실행합니다. 생성자의 결과값은 784차원, 즉 Fashion MNIST 속의 이미지와 같은 차원의 텐서입니다."
   ]
  },
  {
   "cell_type": "code",
   "execution_count": 4,
   "metadata": {},
   "outputs": [],
   "source": [
    "# 생성자 (Generator)\n",
    "G = nn.Sequential(\n",
    "        nn.Linear(64, 256),\n",
    "        nn.ReLU(),\n",
    "        nn.Linear(256, 256),\n",
    "        nn.ReLU(),\n",
    "        nn.Linear(256, 784),\n",
    "        nn.Tanh())"
   ]
  },
  {
   "cell_type": "markdown",
   "metadata": {},
   "source": [
    "판별자는 784차원의 텐서를 입력받습니다. 판별자 역시 입력된 데이터에 행렬곱과 활성화 함수를 실행시키지만, 생성자와 달리 판별자의 결과값은 입력받은 텐서가 진짜인지 구분하는 예측값입니다."
   ]
  },
  {
   "cell_type": "code",
   "execution_count": 5,
   "metadata": {},
   "outputs": [],
   "source": [
    "# 판별자 (Discriminator)\n",
    "D = nn.Sequential(\n",
    "        nn.Linear(784, 256),\n",
    "        nn.LeakyReLU(0.2),\n",
    "        nn.Linear(256, 256),\n",
    "        nn.LeakyReLU(0.2),\n",
    "        nn.Linear(256, 1),\n",
    "        nn.Sigmoid())"
   ]
  },
  {
   "cell_type": "markdown",
   "metadata": {},
   "source": [
    "생성자와 판별자 학습에 쓰일 오차 함수와 최적화 알고리즘도 정의해 줍니다."
   ]
  },
  {
   "cell_type": "code",
   "execution_count": 6,
   "metadata": {},
   "outputs": [],
   "source": [
    "# 모델의 가중치를 지정한 장치로 보내기\n",
    "D = D.to(DEVICE)\n",
    "G = G.to(DEVICE)\n",
    "\n",
    "# 이진 크로스 엔트로피 (Binary cross entropy) 오차 함수와\n",
    "# 생성자와 판별자를 최적화할 Adam 모듈\n",
    "criterion = nn.BCELoss()\n",
    "d_optimizer = optim.Adam(D.parameters(), lr=0.0002)\n",
    "g_optimizer = optim.Adam(G.parameters(), lr=0.0002)"
   ]
  },
  {
   "cell_type": "markdown",
   "metadata": {},
   "source": [
    "모델 학습에 필요한 준비는 끝났습니다. 그럼 본격적으로 GAN을 학습시키는 loop을 만들어 보겠습니다. "
   ]
  },
  {
   "cell_type": "code",
   "execution_count": 7,
   "metadata": {},
   "outputs": [
    {
     "name": "stdout",
     "output_type": "stream",
     "text": [
      "Epoch [0/50], d_loss: 0.0654, g_loss: 4.5485, D(x): 0.97, D(G(z)): 0.03\n",
      "Epoch [1/50], d_loss: 0.0612, g_loss: 5.3340, D(x): 0.98, D(G(z)): 0.01\n",
      "Epoch [2/50], d_loss: 0.1337, g_loss: 7.2926, D(x): 0.96, D(G(z)): 0.00\n",
      "Epoch [3/50], d_loss: 0.0852, g_loss: 7.1885, D(x): 0.96, D(G(z)): 0.00\n",
      "Epoch [4/50], d_loss: 0.0526, g_loss: 6.5823, D(x): 0.99, D(G(z)): 0.04\n",
      "Epoch [5/50], d_loss: 0.0852, g_loss: 5.4274, D(x): 0.99, D(G(z)): 0.06\n",
      "Epoch [6/50], d_loss: 0.2144, g_loss: 7.0482, D(x): 0.95, D(G(z)): 0.01\n",
      "Epoch [7/50], d_loss: 0.1313, g_loss: 5.6424, D(x): 0.94, D(G(z)): 0.02\n",
      "Epoch [8/50], d_loss: 0.1281, g_loss: 6.1142, D(x): 0.95, D(G(z)): 0.01\n",
      "Epoch [9/50], d_loss: 0.0503, g_loss: 5.4193, D(x): 0.99, D(G(z)): 0.03\n",
      "Epoch [10/50], d_loss: 0.3066, g_loss: 4.8318, D(x): 0.89, D(G(z)): 0.06\n",
      "Epoch [11/50], d_loss: 0.5082, g_loss: 4.2723, D(x): 0.91, D(G(z)): 0.16\n",
      "Epoch [12/50], d_loss: 0.2567, g_loss: 5.1727, D(x): 0.98, D(G(z)): 0.16\n",
      "Epoch [13/50], d_loss: 0.1625, g_loss: 4.3293, D(x): 0.97, D(G(z)): 0.10\n",
      "Epoch [14/50], d_loss: 0.2846, g_loss: 5.0272, D(x): 0.91, D(G(z)): 0.04\n",
      "Epoch [15/50], d_loss: 0.5261, g_loss: 3.1952, D(x): 0.85, D(G(z)): 0.03\n",
      "Epoch [16/50], d_loss: 0.2623, g_loss: 5.0370, D(x): 0.91, D(G(z)): 0.04\n",
      "Epoch [17/50], d_loss: 0.3865, g_loss: 4.6691, D(x): 0.87, D(G(z)): 0.04\n",
      "Epoch [18/50], d_loss: 0.4477, g_loss: 3.8114, D(x): 0.84, D(G(z)): 0.05\n",
      "Epoch [19/50], d_loss: 0.5294, g_loss: 4.2023, D(x): 0.85, D(G(z)): 0.09\n",
      "Epoch [20/50], d_loss: 0.4584, g_loss: 2.5735, D(x): 0.89, D(G(z)): 0.12\n",
      "Epoch [21/50], d_loss: 0.4976, g_loss: 3.0561, D(x): 0.88, D(G(z)): 0.16\n",
      "Epoch [22/50], d_loss: 0.4405, g_loss: 3.0583, D(x): 0.92, D(G(z)): 0.20\n",
      "Epoch [23/50], d_loss: 0.3876, g_loss: 2.9891, D(x): 0.88, D(G(z)): 0.14\n",
      "Epoch [24/50], d_loss: 0.3732, g_loss: 3.9126, D(x): 0.84, D(G(z)): 0.05\n",
      "Epoch [25/50], d_loss: 0.6940, g_loss: 2.7338, D(x): 0.80, D(G(z)): 0.16\n",
      "Epoch [26/50], d_loss: 0.6232, g_loss: 2.2197, D(x): 0.80, D(G(z)): 0.13\n",
      "Epoch [27/50], d_loss: 0.4705, g_loss: 2.8811, D(x): 0.83, D(G(z)): 0.14\n",
      "Epoch [28/50], d_loss: 0.4128, g_loss: 2.7999, D(x): 0.87, D(G(z)): 0.14\n",
      "Epoch [29/50], d_loss: 0.4328, g_loss: 3.3559, D(x): 0.87, D(G(z)): 0.11\n",
      "Epoch [30/50], d_loss: 0.5092, g_loss: 2.9777, D(x): 0.83, D(G(z)): 0.09\n",
      "Epoch [31/50], d_loss: 0.4024, g_loss: 3.8315, D(x): 0.85, D(G(z)): 0.08\n",
      "Epoch [32/50], d_loss: 0.6238, g_loss: 2.6071, D(x): 0.89, D(G(z)): 0.26\n",
      "Epoch [33/50], d_loss: 0.4799, g_loss: 3.8887, D(x): 0.83, D(G(z)): 0.09\n",
      "Epoch [34/50], d_loss: 0.4603, g_loss: 3.6251, D(x): 0.83, D(G(z)): 0.12\n",
      "Epoch [35/50], d_loss: 0.4463, g_loss: 2.5956, D(x): 0.85, D(G(z)): 0.16\n",
      "Epoch [36/50], d_loss: 0.4602, g_loss: 2.6889, D(x): 0.87, D(G(z)): 0.13\n",
      "Epoch [37/50], d_loss: 0.6590, g_loss: 2.5830, D(x): 0.85, D(G(z)): 0.22\n",
      "Epoch [38/50], d_loss: 0.6416, g_loss: 2.8260, D(x): 0.86, D(G(z)): 0.23\n",
      "Epoch [39/50], d_loss: 0.4893, g_loss: 3.1983, D(x): 0.84, D(G(z)): 0.13\n",
      "Epoch [40/50], d_loss: 0.7500, g_loss: 2.3893, D(x): 0.86, D(G(z)): 0.28\n",
      "Epoch [41/50], d_loss: 0.5261, g_loss: 2.6723, D(x): 0.81, D(G(z)): 0.12\n",
      "Epoch [42/50], d_loss: 0.3454, g_loss: 3.2547, D(x): 0.87, D(G(z)): 0.10\n",
      "Epoch [43/50], d_loss: 0.2867, g_loss: 2.9937, D(x): 0.89, D(G(z)): 0.09\n",
      "Epoch [44/50], d_loss: 0.4128, g_loss: 3.4470, D(x): 0.88, D(G(z)): 0.14\n",
      "Epoch [45/50], d_loss: 0.7061, g_loss: 3.5751, D(x): 0.81, D(G(z)): 0.16\n",
      "Epoch [46/50], d_loss: 0.7831, g_loss: 2.1718, D(x): 0.76, D(G(z)): 0.21\n",
      "Epoch [47/50], d_loss: 0.7353, g_loss: 2.3843, D(x): 0.83, D(G(z)): 0.25\n",
      "Epoch [48/50], d_loss: 0.6423, g_loss: 2.7388, D(x): 0.84, D(G(z)): 0.24\n",
      "Epoch [49/50], d_loss: 0.7075, g_loss: 2.8485, D(x): 0.76, D(G(z)): 0.17\n"
     ]
    }
   ],
   "source": [
    "total_step = len(train_loader)\n",
    "for epoch in range(EPOCHS):\n",
    "    for i, (images, _) in enumerate(train_loader):\n",
    "        images = images.reshape(BATCH_SIZE, -1).to(DEVICE)\n",
    "        \n",
    "        # '진짜'와 '가짜' 레이블 생성\n",
    "        real_labels = torch.ones(BATCH_SIZE, 1).to(DEVICE)\n",
    "        fake_labels = torch.zeros(BATCH_SIZE, 1).to(DEVICE)\n",
    "        \n",
    "        # 판별자가 진짜 이미지를 진짜로 인식하는 오차를 예산\n",
    "        outputs = D(images)\n",
    "        d_loss_real = criterion(outputs, real_labels)\n",
    "        real_score = outputs\n",
    "        \n",
    "        # 무작위 텐서로 가짜 이미지 생성\n",
    "        z = torch.randn(BATCH_SIZE, 64).to(DEVICE)\n",
    "        fake_images = G(z)\n",
    "        \n",
    "        # 판별자가 가짜 이미지를 가짜로 인식하는 오차를 계산\n",
    "        outputs = D(fake_images)\n",
    "        d_loss_fake = criterion(outputs, fake_labels)\n",
    "        fake_score = outputs\n",
    "        \n",
    "        # 진짜와 가짜 이미지를 갖고 낸 오차를 더해서 판별자의 오차 계산\n",
    "        d_loss = d_loss_real + d_loss_fake\n",
    "\n",
    "        # 역전파 알고리즘으로 판별자 모델의 학습을 진행\n",
    "        d_optimizer.zero_grad()\n",
    "        g_optimizer.zero_grad()\n",
    "        d_loss.backward()\n",
    "        d_optimizer.step()\n",
    "        \n",
    "        # 생성자가 판별자를 속였는지에 대한 오차를 계산\n",
    "        fake_images = G(z)\n",
    "        outputs = D(fake_images)\n",
    "        g_loss = criterion(outputs, real_labels)\n",
    "        \n",
    "        # 역전파 알고리즘으로 생성자 모델의 학습을 진행\n",
    "        d_optimizer.zero_grad()\n",
    "        g_optimizer.zero_grad()\n",
    "        g_loss.backward()\n",
    "        g_optimizer.step()\n",
    "        \n",
    "    # 학습 진행 알아보기\n",
    "    print('Epoch [{}/{}], d_loss: {:.4f}, g_loss: {:.4f}, D(x): {:.2f}, D(G(z)): {:.2f}' \n",
    "          .format(epoch, EPOCHS, d_loss.item(), g_loss.item(), \n",
    "                  real_score.mean().item(), fake_score.mean().item()))"
   ]
  },
  {
   "cell_type": "markdown",
   "metadata": {},
   "source": [
    "학습이 끝난 생성자의 결과물을 한번 확인해 보겠습니다."
   ]
  },
  {
   "cell_type": "code",
   "execution_count": 8,
   "metadata": {},
   "outputs": [
    {
     "data": {
      "image/png": "[encoded data removed]",
      "text/plain": [
       "<Figure size 432x288 with 1 Axes>"
      ]
     },
     "metadata": {
      "needs_background": "light"
     },
     "output_type": "display_data"
    },
    {
     "data": {
      "image/png": "[encoded data removed]",
      "text/plain": [
       "<Figure size 432x288 with 1 Axes>"
      ]
     },
     "metadata": {
      "needs_background": "light"
     },
     "output_type": "display_data"
    },
    {
     "data": {
      "image/png": "[encoded data removed]",
      "text/plain": [
       "<Figure size 432x288 with 1 Axes>"
      ]
     },
     "metadata": {
      "needs_background": "light"
     },
     "output_type": "display_data"
    },
    {
     "data": {
      "image/png": "[encoded data removed]",
      "text/plain": [
       "<Figure size 432x288 with 1 Axes>"
      ]
     },
     "metadata": {
      "needs_background": "light"
     },
     "output_type": "display_data"
    },
    {
     "data": {
      "image/png": "[encoded data removed]",
      "text/plain": [
       "<Figure size 432x288 with 1 Axes>"
      ]
     },
     "metadata": {
      "needs_background": "light"
     },
     "output_type": "display_data"
    },
    {
     "data": {
      "image/png": "[encoded data removed]",
      "text/plain": [
       "<Figure size 432x288 with 1 Axes>"
      ]
     },
     "metadata": {
      "needs_background": "light"
     },
     "output_type": "display_data"
    },
    {
     "data": {
      "image/png": "[encoded data removed]",
      "text/plain": [
       "<Figure size 432x288 with 1 Axes>"
      ]
     },
     "metadata": {
      "needs_background": "light"
     },
     "output_type": "display_data"
    },
    {
     "data": {
      "image/png": "[encoded data removed]",
      "text/plain": [
       "<Figure size 432x288 with 1 Axes>"
      ]
     },
     "metadata": {
      "needs_background": "light"
     },
     "output_type": "display_data"
    },
    {
     "data": {
      "image/png": "[encoded data removed]",
      "text/plain": [
       "<Figure size 432x288 with 1 Axes>"
      ]
     },
     "metadata": {
      "needs_background": "light"
     },
     "output_type": "display_data"
    },
    {
     "data": {
      "image/png": "[encoded data removed]",
      "text/plain": [
       "<Figure size 432x288 with 1 Axes>"
      ]
     },
     "metadata": {
      "needs_background": "light"
     },
     "output_type": "display_data"
    }
   ],
   "source": [
    "z = torch.randn(BATCH_SIZE, 64).to(DEVICE)\n",
    "fake_images = G(z)\n",
    "for i in range(10):\n",
    "    fake_images_img = np.reshape(fake_images.data.cpu().numpy()[i],(28, 28))\n",
    "    plt.imshow(fake_images_img, cmap = 'gray')\n",
    "    plt.show()"
   ]
  }
 ],
 "metadata": {
  "kernelspec": {
   "display_name": "Python 3",
   "language": "python",
   "name": "python3"
  },
  "language_info": {
   "codemirror_mode": {
    "name": "ipython",
    "version": 3
   },
   "file_extension": ".py",
   "mimetype": "text/x-python",
   "name": "python",
   "nbconvert_exporter": "python",
   "pygments_lexer": "ipython3",
   "version": "3.8.3"
  }
 },
 "nbformat": 4,
 "nbformat_minor": 2
}
