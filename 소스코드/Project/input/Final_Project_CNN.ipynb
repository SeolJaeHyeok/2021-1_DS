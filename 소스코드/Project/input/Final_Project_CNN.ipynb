{
 "cells": [
  {
   "cell_type": "code",
   "execution_count": 1,
   "id": "2a4217de",
   "metadata": {},
   "outputs": [],
   "source": [
    "#about torch...\n",
    "import torch\n",
    "import torch.nn as nn\n",
    "import torch\n",
    "import torch.optim as optim\n",
    "import torch.nn.functional as F\n",
    "\n",
    "from torchvision import datasets, models, transforms\n",
    "from torch.utils.data import DataLoader, Dataset\n",
    "\n",
    "#using numpy\n",
    "import numpy as np\n",
    "\n",
    "#for data load or save\n",
    "import pandas as pd\n",
    "\n",
    "#visualize some datasets\n",
    "import matplotlib.pyplot as plt\n",
    "\n",
    "#check our work directory\n",
    "import os\n",
    "\n",
    "#to unzip datasets\n",
    "import zipfile"
   ]
  },
  {
   "cell_type": "code",
   "execution_count": 2,
   "id": "a44f03f1",
   "metadata": {},
   "outputs": [],
   "source": [
    "lr = 0.001 # learning_rate\n",
    "batch_size = 100 # we will use mini-batch method\n",
    "epochs = 10 # How much to train a model"
   ]
  },
  {
   "cell_type": "code",
   "execution_count": 3,
   "id": "d3f23625",
   "metadata": {},
   "outputs": [],
   "source": [
    "device = 'cuda' if torch.cuda.is_available() else 'cpu'\n",
    "\n",
    "torch.manual_seed(1234)\n",
    "if device =='cuda':\n",
    "    torch.cuda.manual_seed_all(1234)"
   ]
  },
  {
   "cell_type": "code",
   "execution_count": 4,
   "id": "59735c3a",
   "metadata": {},
   "outputs": [
    {
     "data": {
      "text/plain": [
       "['.DS_Store',\n",
       " 'test.zip',\n",
       " '.ipynb_checkpoints',\n",
       " 'train.zip',\n",
       " 'sample_submission.csv']"
      ]
     },
     "execution_count": 4,
     "metadata": {},
     "output_type": "execute_result"
    }
   ],
   "source": [
    "os.listdir('../input/dogs-vs-cats-redux-kernels-edition')"
   ]
  },
  {
   "cell_type": "code",
   "execution_count": 5,
   "id": "388e4b46",
   "metadata": {},
   "outputs": [],
   "source": [
    "os.makedirs('../data', exist_ok=True)"
   ]
  },
  {
   "cell_type": "code",
   "execution_count": 6,
   "id": "a52ec192",
   "metadata": {},
   "outputs": [],
   "source": [
    "base_dir = '../input/dogs-vs-cats-redux-kernels-edition'\n",
    "train_dir = '../data/train'\n",
    "test_dir = '../data/test'"
   ]
  },
  {
   "cell_type": "code",
   "execution_count": 7,
   "id": "4224524d",
   "metadata": {},
   "outputs": [],
   "source": [
    "with zipfile.ZipFile(os.path.join(base_dir, 'train.zip')) as train_zip:\n",
    "    train_zip.extractall('../data')\n",
    "    \n",
    "with zipfile.ZipFile(os.path.join(base_dir, 'test.zip')) as test_zip:\n",
    "    test_zip.extractall('../data')"
   ]
  },
  {
   "cell_type": "code",
   "execution_count": 8,
   "id": "04ce51cf",
   "metadata": {},
   "outputs": [
    {
     "data": {
      "text/plain": [
       "['dog.8011.jpg',\n",
       " 'cat.5077.jpg',\n",
       " 'dog.7322.jpg',\n",
       " 'cat.2718.jpg',\n",
       " 'cat.10151.jpg']"
      ]
     },
     "execution_count": 8,
     "metadata": {},
     "output_type": "execute_result"
    }
   ],
   "source": [
    "os.listdir(train_dir)[:5]\n"
   ]
  },
  {
   "cell_type": "code",
   "execution_count": null,
   "id": "74c500c2",
   "metadata": {},
   "outputs": [],
   "source": []
  }
 ],
 "metadata": {
  "kernelspec": {
   "display_name": "Python 3",
   "language": "python",
   "name": "python3"
  },
  "language_info": {
   "codemirror_mode": {
    "name": "ipython",
    "version": 3
   },
   "file_extension": ".py",
   "mimetype": "text/x-python",
   "name": "python",
   "nbconvert_exporter": "python",
   "pygments_lexer": "ipython3",
   "version": "3.8.3"
  }
 },
 "nbformat": 4,
 "nbformat_minor": 5
}
