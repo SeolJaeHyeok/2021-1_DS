{
 "cells": [
  {
   "cell_type": "code",
   "execution_count": 2,
   "id": "f9146e98",
   "metadata": {},
   "outputs": [
    {
     "name": "stdout",
     "output_type": "stream",
     "text": [
      "축하합니다! 3분 딥러닝 파이토치맛 예제 실행을 위한 환경설정이 끝났습니다.\n",
      "설치된 라이브러리 정보:\n",
      " * 파이토치(torch) 버전:1.8.1\n",
      " * 토치비전(torchvision) 버전:0.9.1\n",
      " * 토치텍스트(torchtext) 버전:0.9.1\n",
      " * 넘파이(numpy) 버전:1.20.1\n",
      " * 맷플롯립(matplotlib) 버전:3.3.4\n",
      " * 사이킷런(sklearn) 버전:0.24.1\n"
     ]
    }
   ],
   "source": [
    "from importlib import import_module\n",
    "\n",
    "required_packages = [\n",
    "    (\"torch\", \"파이토치\"),\n",
    "    (\"torchvision\", \"토치비전\"),\n",
    "    (\"torchtext\", \"토치텍스트\"),\n",
    "    (\"numpy\", \"넘파이\"), \n",
    "    (\"matplotlib\", \"맷플롯립\"),\n",
    "    (\"sklearn\", \"사이킷런\"),\n",
    "]\n",
    "installed_packages = []\n",
    "uninstalled_packages = []\n",
    "\n",
    "def run():\n",
    "    is_ready = True\n",
    "    for package_name, korean_name in required_packages:\n",
    "        printed_name = \"%s(%s)\" % (korean_name, package_name)\n",
    "        try:\n",
    "            imported_package = import_module(package_name)\n",
    "            installed_packages.append(\"%s 버전:%s\" % (printed_name, imported_package.__version__))\n",
    "        except:\n",
    "            is_ready = False\n",
    "            uninstalled_packages.append(printed_name)\n",
    "\n",
    "    if is_ready:\n",
    "        print(\"축하합니다! 3분 딥러닝 파이토치맛 예제 실행을 위한 환경설정이 끝났습니다.\")\n",
    "        print(\"설치된 라이브러리 정보:\")\n",
    "        for pkg in installed_packages:\n",
    "            print(\" * \" + pkg)\n",
    "    else:\n",
    "        print(\"미설치된 라이브러리가 있습니다.\")\n",
    "        print(\"설치된 라이브러리 정보:\")\n",
    "        for pkg in installed_packages:\n",
    "            print(\" * \" + pkg)\n",
    "        print(\"미설치된 라이브러리 정보:\")\n",
    "        for pkg in uninstalled_packages:\n",
    "            print(\" * \" + pkg)\n",
    "    return is_ready \n",
    "\n",
    "\n",
    "if __name__ == \"__main__\":\n",
    "    run()"
   ]
  },
  {
   "cell_type": "markdown",
   "id": "bb9eda95",
   "metadata": {},
   "source": [
    "# 201700949 설재혁"
   ]
  },
  {
   "cell_type": "code",
   "execution_count": null,
   "id": "384ed6c3",
   "metadata": {},
   "outputs": [],
   "source": []
  }
 ],
 "metadata": {
  "kernelspec": {
   "display_name": "Python 3",
   "language": "python",
   "name": "python3"
  },
  "language_info": {
   "codemirror_mode": {
    "name": "ipython",
    "version": 3
   },
   "file_extension": ".py",
   "mimetype": "text/x-python",
   "name": "python",
   "nbconvert_exporter": "python",
   "pygments_lexer": "ipython3",
   "version": "3.8.3"
  }
 },
 "nbformat": 4,
 "nbformat_minor": 5
}
