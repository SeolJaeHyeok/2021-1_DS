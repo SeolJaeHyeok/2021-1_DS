{
 "cells": [
  {
   "cell_type": "markdown",
   "metadata": {},
   "source": [
    "# 201700949 설재혁"
   ]
  },
  {
   "cell_type": "code",
   "execution_count": 12,
   "metadata": {},
   "outputs": [
    {
     "data": {
      "text/plain": [
       "'2로 나눴을 때 0이 아니면 홀수라는 뜻 range함수를 통해 0~10까지 반복문을 돌려 조건에 일치하는 숫자를 리스트에 저장, 저장된 리스트 안의 요소들을 제곱하여 새로운 리스트에 저장하는 코드 - 리스트 컴프리헨션을 사용해서 작성 '"
      ]
     },
     "execution_count": 12,
     "metadata": {},
     "output_type": "execute_result"
    },
    {
     "data": {
      "text/plain": [
       "[1, 3, 5, 7, 9]"
      ]
     },
     "execution_count": 12,
     "metadata": {},
     "output_type": "execute_result"
    },
    {
     "data": {
      "text/plain": [
       "[1, 9, 25, 49, 81]"
      ]
     },
     "execution_count": 12,
     "metadata": {},
     "output_type": "execute_result"
    }
   ],
   "source": [
    "from IPython.core.interactiveshell import InteractiveShell\n",
    "InteractiveShell.ast_node_interactivity = \"all\"\n",
    "\n",
    "# 1번 - 리스트 컴프리헨션\n",
    "odd_numbers = [x for x in range(11) if x%2 != 0] # 0~10 사이의 숫자 중 조건문에 일치하는 숫자만 리스트에 저장\n",
    "odd_squares = [y * y for y in odd_numbers] # 저장된 리스트 요소들을 제곱하여 새로운 리스트에 저장\n",
    "\n",
    "odd_numbers\n",
    "odd_squares"
   ]
  },
  {
   "cell_type": "code",
   "execution_count": 2,
   "metadata": {},
   "outputs": [
    {
     "data": {
      "text/plain": [
       "Counter({'never': 3, 'give': 1, 'up': 1})"
      ]
     },
     "execution_count": 2,
     "metadata": {},
     "output_type": "execute_result"
    }
   ],
   "source": [
    "# 2번\n",
    "from collections import Counter\n",
    "\n",
    "\"\"\"Counter 모듈은 key와 값의 빈도를 계산할 때 용이하다.\"\"\"\n",
    "text = [\"never\", \"never\", \"never\", \"give\", \"up\"]\n",
    "result = Counter(text) # 리스트 안의 요소들을 검사하여 key와 빈도수를 출력해준다.\n",
    "\n",
    "result"
   ]
  },
  {
   "cell_type": "code",
   "execution_count": 3,
   "metadata": {},
   "outputs": [
    {
     "data": {
      "text/plain": [
       "(3, 3)"
      ]
     },
     "execution_count": 3,
     "metadata": {},
     "output_type": "execute_result"
    },
    {
     "data": {
      "text/plain": [
       "(5, 3)"
      ]
     },
     "execution_count": 3,
     "metadata": {},
     "output_type": "execute_result"
    },
    {
     "data": {
      "text/plain": [
       "(5, 5)"
      ]
     },
     "execution_count": 3,
     "metadata": {},
     "output_type": "execute_result"
    },
    {
     "data": {
      "text/plain": [
       "(2, 10)"
      ]
     },
     "execution_count": 3,
     "metadata": {},
     "output_type": "execute_result"
    }
   ],
   "source": [
    "# 3번\n",
    "class Point:\n",
    "    # __init__ 메서드를 통해 입력 받은 x,y 값 초기화\n",
    "    def __init__(self, x, y):\n",
    "        self.x = x\n",
    "        self.y = y\n",
    "    # x값 설정하는 메서드\n",
    "    def setX(self, x):\n",
    "        self.x = x\n",
    "    # y값 설정하는 메서드\n",
    "    def setY(self, y):\n",
    "        self.y = y\n",
    "    # x, y 값을 return 하는 메서드\n",
    "    def get(self):\n",
    "        return self.x,self.y\n",
    "    # x, y 값을 입력받은 파라미터만큼 이동시키는 메서드\n",
    "    def move(self, dx, dy):\n",
    "        self.x += dx\n",
    "        self.y += dy\n",
    "\n",
    "point = Point(3,3)\n",
    "point.get()\n",
    "point.setX(5)\n",
    "point.get()\n",
    "point.setY(5)\n",
    "point.get()\n",
    "point.move(-3,5)\n",
    "point.get()"
   ]
  },
  {
   "cell_type": "code",
   "execution_count": 21,
   "metadata": {},
   "outputs": [
    {
     "data": {
      "text/plain": [
       "[('x', 'y', 'z'), (1, 2, 3)]"
      ]
     },
     "execution_count": 21,
     "metadata": {},
     "output_type": "execute_result"
    },
    {
     "data": {
      "text/plain": [
       "['x', 'y', 'z']"
      ]
     },
     "execution_count": 21,
     "metadata": {},
     "output_type": "execute_result"
    },
    {
     "data": {
      "text/plain": [
       "[1, 2, 3]"
      ]
     },
     "execution_count": 21,
     "metadata": {},
     "output_type": "execute_result"
    }
   ],
   "source": [
    "# 4번\n",
    "list1 = ['x', 'y', 'z']\n",
    "list2 = [1,2,3]\n",
    "list3 = list() # 빈 리스트 생성\n",
    "list1 = tuple(list1) # expected : ('x','y','z')\n",
    "list2 = tuple(list2) # expected : (1, 2, 3)\n",
    "\n",
    "list3.append(list1) # 빈 리스트에 추가\n",
    "list3.append(list2) # 빈 리스트에 추가\n",
    "list3\n",
    "\n",
    "temp_list1,temp_list2 = [i for i in list3] # 리스트 안의 두 개의 요소(튜플)를 임시 리스트 1,2에 각각 저장\n",
    "list4 = list(temp_list1) # expected : ['x','y','z']\n",
    "list5 = list(temp_list2) # expected : [1, 2, 3]\n",
    "list4\n",
    "list5"
   ]
  },
  {
   "cell_type": "code",
   "execution_count": 29,
   "metadata": {},
   "outputs": [
    {
     "name": "stdout",
     "output_type": "stream",
     "text": [
      "0.5714025946899135\n",
      "0.5714025946899135\n",
      "0.36152277491407514\n"
     ]
    },
    {
     "data": {
      "text/plain": [
       "11"
      ]
     },
     "execution_count": 29,
     "metadata": {},
     "output_type": "execute_result"
    },
    {
     "data": {
      "text/plain": [
       "11"
      ]
     },
     "execution_count": 29,
     "metadata": {},
     "output_type": "execute_result"
    },
    {
     "data": {
      "text/plain": [
       "4"
      ]
     },
     "execution_count": 29,
     "metadata": {},
     "output_type": "execute_result"
    },
    {
     "name": "stdout",
     "output_type": "stream",
     "text": [
      "[9, 10, 3, 6, 1, 4, 2, 7, 5, 8]\n"
     ]
    }
   ],
   "source": [
    "# 5번\n",
    "import random\n",
    "\n",
    "# seed가 같다면 동일한 난수를 출력하기 때문에 결과가 같다.\n",
    "\n",
    "random.seed(10) # 시드 설정\n",
    "print(random.random()) # 출력\n",
    "random.seed(10) # 위와 같은 시드 설정\n",
    "print(random.random()) # 시드가 같으므로 동일한 결과 출력\n",
    "random.seed(16) # 새로운 시드 설정\n",
    "print(random.random()) # 출력\n",
    "random.seed(16) \n",
    "random.randrange(16)  \n",
    "random.seed(16)\n",
    "random.randrange(16)\n",
    "random.randrange(1,6)\n",
    "up_to_ten = [1, 2, 3, 4, 5, 6, 7, 8, 9, 10]\n",
    "random.shuffle(up_to_ten) # random.shuffle은 리스트의 항목을 임의 순서로 재정렬\n",
    "print(up_to_ten)"
   ]
  },
  {
   "cell_type": "code",
   "execution_count": null,
   "metadata": {},
   "outputs": [],
   "source": []
  }
 ],
 "metadata": {
  "kernelspec": {
   "display_name": "Python 3",
   "language": "python",
   "name": "python3"
  },
  "language_info": {
   "codemirror_mode": {
    "name": "ipython",
    "version": 3
   },
   "file_extension": ".py",
   "mimetype": "text/x-python",
   "name": "python",
   "nbconvert_exporter": "python",
   "pygments_lexer": "ipython3",
   "version": "3.8.3"
  }
 },
 "nbformat": 4,
 "nbformat_minor": 4
}
