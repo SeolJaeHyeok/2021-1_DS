{
 "cells": [
  {
   "cell_type": "markdown",
   "metadata": {},
   "source": [
    "# 201700949 설재혁\n",
    "\n",
    "\n",
    "## 단순식과 경사해석\n",
    "### 1. f(x,y) = xy"
   ]
  },
  {
   "cell_type": "code",
   "execution_count": 17,
   "metadata": {},
   "outputs": [
    {
     "name": "stdout",
     "output_type": "stream",
     "text": [
      "f = 8\n",
      "dfdx = 4\n",
      "dfdy = 2\n"
     ]
    }
   ],
   "source": [
    "x = 2; y = 4\n",
    "\n",
    "f = x * y # f becomes 8\n",
    "\n",
    "dfdx = y # dfdx becomes 4\n",
    "dfdy = x # dfdy becomes 2\n",
    "\n",
    "print(\"f =\",f)\n",
    "print(\"dfdx =\",dfdx)\n",
    "print(\"dfdy =\",dfdy)"
   ]
  },
  {
   "cell_type": "markdown",
   "metadata": {},
   "source": [
    "### 2. f(x,y) = x + y"
   ]
  },
  {
   "cell_type": "code",
   "execution_count": 18,
   "metadata": {},
   "outputs": [
    {
     "name": "stdout",
     "output_type": "stream",
     "text": [
      "f = 6\n",
      "dfdx = 1\n",
      "dfdy = 1\n"
     ]
    }
   ],
   "source": [
    "f = x + y # f becomes 6\n",
    "\n",
    "dfdx = 1 # dfdx becomes 1\n",
    "dfdy = 1 # dfdy becomes 1\n",
    "\n",
    "print(\"f =\",f)\n",
    "print(\"dfdx =\",dfdx)\n",
    "print(\"dfdy =\",dfdy)"
   ]
  },
  {
   "cell_type": "markdown",
   "metadata": {},
   "source": [
    "### 3. f(x,y) = max(x,y)"
   ]
  },
  {
   "cell_type": "code",
   "execution_count": 19,
   "metadata": {},
   "outputs": [
    {
     "name": "stdout",
     "output_type": "stream",
     "text": [
      "f = 4\n",
      "dfdx = 0\n",
      "dfdy = 1\n"
     ]
    }
   ],
   "source": [
    "f = max(x,y)\n",
    "\n",
    "# x값이 y보다 크다면 결과는 y값에 영향을 받지 않는다.\n",
    "if(x >= y): \n",
    "    dfdx = 1\n",
    "    dfdy = 0\n",
    "# y값이 x보다 크다면 결과는 x값에 영향을 받지 않는다.    \n",
    "elif (x <= y):\n",
    "    dfdy = 1\n",
    "    dfdx = 0\n",
    "\n",
    "print(\"f =\",f)\n",
    "print(\"dfdx =\",dfdx)\n",
    "print(\"dfdy =\",dfdy)"
   ]
  },
  {
   "cell_type": "markdown",
   "metadata": {},
   "source": [
    "## 복합식의 연쇄법칙\n",
    "### 4. f(x,y,z) = (x+y)z"
   ]
  },
  {
   "cell_type": "code",
   "execution_count": 20,
   "metadata": {},
   "outputs": [
    {
     "name": "stdout",
     "output_type": "stream",
     "text": [
      "q = 3\n",
      "f = -12\n",
      "dfdz= 3\n",
      "dfdq= -4\n",
      "dfdx = -4.0\n",
      "dfdy = -4.0\n"
     ]
    }
   ],
   "source": [
    "# set some inputs\n",
    "x = -2; y = 5; z = -4\n",
    "\n",
    "# perform the forward pass\n",
    "q = x + y # q becomes 3\n",
    "f = q * z # f becomes -12\n",
    "\n",
    "# perform the backward pass (backpropagation) in reverse order:\n",
    "# first backprop through f = q * z\n",
    "dfdz = q # df/dz = q, so gradient on z becomes 3\n",
    "dfdq = z # df/dq = z, so gradient on q becomes -4\n",
    "# now backprop through q = x + y\n",
    "dfdx = 1.0 * dfdq # dq/dx = 1. And the multiplication here is the chain rule!\n",
    "dfdy = 1.0 * dfdq # dq/dy = 1\n",
    "\n",
    "print(\"q =\",q)\n",
    "print(\"f =\",f)\n",
    "print(\"dfdz=\",dfdz)\n",
    "print(\"dfdq=\",dfdq)\n",
    "print(\"dfdx =\",dfdx)\n",
    "print(\"dfdy =\",dfdy)"
   ]
  },
  {
   "cell_type": "markdown",
   "metadata": {},
   "source": [
    "## 5. 시그모이드 예제\n",
    "### 𝑥 = 1/(1+ 𝑒^(−(𝑤_0 𝑥_0+𝑤_1 𝑤_1+𝑤_2)))"
   ]
  },
  {
   "cell_type": "code",
   "execution_count": 21,
   "metadata": {},
   "outputs": [
    {
     "name": "stdout",
     "output_type": "stream",
     "text": [
      "dot = 1\n",
      "f = 0.7310585786300049\n",
      "ddot = 0.19661193324148185\n",
      "dx = [0.3932238664829637, -0.5898357997244456]\n",
      "dw = [-0.19661193324148185, -0.3932238664829637, 0.19661193324148185]\n"
     ]
    }
   ],
   "source": [
    "import math\n",
    "\n",
    "w = [2,-3,-3] # assume some random weights and data\n",
    "x = [-1, -2]\n",
    "\n",
    "# forward pass\n",
    "dot = w[0]*x[0] + w[1]*x[1] + w[2]\n",
    "f = 1.0 / (1 + math.exp(-dot)) # sigmoid function\n",
    "\n",
    "# backward pass through the neuron (backpropagation)\n",
    "ddot = (1 - f) * f # gradient on dot variable, using the sigmoid gradient derivation\n",
    "dx = [w[0] * ddot, w[1] * ddot] # backprop into x\n",
    "dw = [x[0] * ddot, x[1] * ddot, 1.0 * ddot] # backprop into w\n",
    "# we're done! we have the gradients on the inputs to the circuit\n",
    "\n",
    "print(\"dot =\",dot)\n",
    "print(\"f =\",f)\n",
    "print(\"ddot =\",ddot)\n",
    "print(\"dx =\",dx)\n",
    "print(\"dw =\",dw)"
   ]
  },
  {
   "cell_type": "raw",
   "metadata": {},
   "source": [
    "#="
   ]
  }
 ],
 "metadata": {
  "kernelspec": {
   "display_name": "Python 3",
   "language": "python",
   "name": "python3"
  },
  "language_info": {
   "codemirror_mode": {
    "name": "ipython",
    "version": 3
   },
   "file_extension": ".py",
   "mimetype": "text/x-python",
   "name": "python",
   "nbconvert_exporter": "python",
   "pygments_lexer": "ipython3",
   "version": "3.8.3"
  }
 },
 "nbformat": 4,
 "nbformat_minor": 4
}
