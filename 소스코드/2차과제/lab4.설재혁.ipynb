{
 "cells": [
  {
   "cell_type": "markdown",
   "metadata": {},
   "source": [
    "# 201700949 설재혁"
   ]
  },
  {
   "cell_type": "markdown",
   "metadata": {},
   "source": [
    "# 1. SL과 PL의 시각화"
   ]
  },
  {
   "cell_type": "code",
   "execution_count": 12,
   "metadata": {},
   "outputs": [
    {
     "data": {
      "text/html": [
       "<div>\n",
       "<style scoped>\n",
       "    .dataframe tbody tr th:only-of-type {\n",
       "        vertical-align: middle;\n",
       "    }\n",
       "\n",
       "    .dataframe tbody tr th {\n",
       "        vertical-align: top;\n",
       "    }\n",
       "\n",
       "    .dataframe thead th {\n",
       "        text-align: right;\n",
       "    }\n",
       "</style>\n",
       "<table border=\"1\" class=\"dataframe\">\n",
       "  <thead>\n",
       "    <tr style=\"text-align: right;\">\n",
       "      <th></th>\n",
       "      <th>sepal length (cm)</th>\n",
       "      <th>sepal width (cm)</th>\n",
       "      <th>petal length (cm)</th>\n",
       "      <th>petal width (cm)</th>\n",
       "      <th>target</th>\n",
       "    </tr>\n",
       "  </thead>\n",
       "  <tbody>\n",
       "    <tr>\n",
       "      <th>0</th>\n",
       "      <td>5.1</td>\n",
       "      <td>3.5</td>\n",
       "      <td>1.4</td>\n",
       "      <td>0.2</td>\n",
       "      <td>setosa</td>\n",
       "    </tr>\n",
       "    <tr>\n",
       "      <th>1</th>\n",
       "      <td>4.9</td>\n",
       "      <td>3.0</td>\n",
       "      <td>1.4</td>\n",
       "      <td>0.2</td>\n",
       "      <td>setosa</td>\n",
       "    </tr>\n",
       "    <tr>\n",
       "      <th>2</th>\n",
       "      <td>4.7</td>\n",
       "      <td>3.2</td>\n",
       "      <td>1.3</td>\n",
       "      <td>0.2</td>\n",
       "      <td>setosa</td>\n",
       "    </tr>\n",
       "    <tr>\n",
       "      <th>3</th>\n",
       "      <td>4.6</td>\n",
       "      <td>3.1</td>\n",
       "      <td>1.5</td>\n",
       "      <td>0.2</td>\n",
       "      <td>setosa</td>\n",
       "    </tr>\n",
       "    <tr>\n",
       "      <th>4</th>\n",
       "      <td>5.0</td>\n",
       "      <td>3.6</td>\n",
       "      <td>1.4</td>\n",
       "      <td>0.2</td>\n",
       "      <td>setosa</td>\n",
       "    </tr>\n",
       "    <tr>\n",
       "      <th>...</th>\n",
       "      <td>...</td>\n",
       "      <td>...</td>\n",
       "      <td>...</td>\n",
       "      <td>...</td>\n",
       "      <td>...</td>\n",
       "    </tr>\n",
       "    <tr>\n",
       "      <th>145</th>\n",
       "      <td>6.7</td>\n",
       "      <td>3.0</td>\n",
       "      <td>5.2</td>\n",
       "      <td>2.3</td>\n",
       "      <td>virginica</td>\n",
       "    </tr>\n",
       "    <tr>\n",
       "      <th>146</th>\n",
       "      <td>6.3</td>\n",
       "      <td>2.5</td>\n",
       "      <td>5.0</td>\n",
       "      <td>1.9</td>\n",
       "      <td>virginica</td>\n",
       "    </tr>\n",
       "    <tr>\n",
       "      <th>147</th>\n",
       "      <td>6.5</td>\n",
       "      <td>3.0</td>\n",
       "      <td>5.2</td>\n",
       "      <td>2.0</td>\n",
       "      <td>virginica</td>\n",
       "    </tr>\n",
       "    <tr>\n",
       "      <th>148</th>\n",
       "      <td>6.2</td>\n",
       "      <td>3.4</td>\n",
       "      <td>5.4</td>\n",
       "      <td>2.3</td>\n",
       "      <td>virginica</td>\n",
       "    </tr>\n",
       "    <tr>\n",
       "      <th>149</th>\n",
       "      <td>5.9</td>\n",
       "      <td>3.0</td>\n",
       "      <td>5.1</td>\n",
       "      <td>1.8</td>\n",
       "      <td>virginica</td>\n",
       "    </tr>\n",
       "  </tbody>\n",
       "</table>\n",
       "<p>150 rows × 5 columns</p>\n",
       "</div>"
      ],
      "text/plain": [
       "     sepal length (cm)  sepal width (cm)  petal length (cm)  petal width (cm)  \\\n",
       "0                  5.1               3.5                1.4               0.2   \n",
       "1                  4.9               3.0                1.4               0.2   \n",
       "2                  4.7               3.2                1.3               0.2   \n",
       "3                  4.6               3.1                1.5               0.2   \n",
       "4                  5.0               3.6                1.4               0.2   \n",
       "..                 ...               ...                ...               ...   \n",
       "145                6.7               3.0                5.2               2.3   \n",
       "146                6.3               2.5                5.0               1.9   \n",
       "147                6.5               3.0                5.2               2.0   \n",
       "148                6.2               3.4                5.4               2.3   \n",
       "149                5.9               3.0                5.1               1.8   \n",
       "\n",
       "        target  \n",
       "0       setosa  \n",
       "1       setosa  \n",
       "2       setosa  \n",
       "3       setosa  \n",
       "4       setosa  \n",
       "..         ...  \n",
       "145  virginica  \n",
       "146  virginica  \n",
       "147  virginica  \n",
       "148  virginica  \n",
       "149  virginica  \n",
       "\n",
       "[150 rows x 5 columns]"
      ]
     },
     "execution_count": 12,
     "metadata": {},
     "output_type": "execute_result"
    }
   ],
   "source": [
    "import pandas\n",
    "from sklearn.datasets import load_iris\n",
    "\n",
    "iris = load_iris()\n",
    "irisdf = pandas.DataFrame(iris.data, columns=iris.feature_names)\n",
    "irisdf['target']= iris.target\n",
    "irisdf['target'] = irisdf['target'].map({0: 'setosa', 1: 'versicolor', 2: 'virginica'})\n",
    "irisdf"
   ]
  },
  {
   "cell_type": "code",
   "execution_count": 23,
   "metadata": {},
   "outputs": [
    {
     "data": {
      "image/png": "[encoded data removed]",
      "text/plain": [
       "<Figure size 432x288 with 1 Axes>"
      ]
     },
     "metadata": {
      "needs_background": "light"
     },
     "output_type": "display_data"
    }
   ],
   "source": [
    "import matplotlib.pyplot as plt\n",
    "\n",
    "SL = irisdf.iloc[:, 0]\n",
    "SW = irisdf.iloc[:, 1]\n",
    "PL = irisdf.iloc[:, 2]\n",
    "PW = irisdf.iloc[:, 3]\n",
    "name = irisdf.iloc[:, 4]\n",
    "plt.scatter(SL, PL, c=iris.target)\n",
    "plt.show()"
   ]
  },
  {
   "cell_type": "markdown",
   "metadata": {},
   "source": [
    "# 2.1 붓꽃 종류에 따른 평균 데이터 (1)"
   ]
  },
  {
   "cell_type": "code",
   "execution_count": 133,
   "metadata": {},
   "outputs": [
    {
     "data": {
      "text/html": [
       "<div>\n",
       "<style scoped>\n",
       "    .dataframe tbody tr th:only-of-type {\n",
       "        vertical-align: middle;\n",
       "    }\n",
       "\n",
       "    .dataframe tbody tr th {\n",
       "        vertical-align: top;\n",
       "    }\n",
       "\n",
       "    .dataframe thead th {\n",
       "        text-align: right;\n",
       "    }\n",
       "</style>\n",
       "<table border=\"1\" class=\"dataframe\">\n",
       "  <thead>\n",
       "    <tr style=\"text-align: right;\">\n",
       "      <th></th>\n",
       "      <th>target</th>\n",
       "      <th>sepal length (cm)</th>\n",
       "      <th>sepal width (cm)</th>\n",
       "      <th>petal length (cm)</th>\n",
       "      <th>petal width (cm)</th>\n",
       "    </tr>\n",
       "  </thead>\n",
       "  <tbody>\n",
       "    <tr>\n",
       "      <th>0</th>\n",
       "      <td>setosa</td>\n",
       "      <td>5.006</td>\n",
       "      <td>3.428</td>\n",
       "      <td>1.462</td>\n",
       "      <td>0.246</td>\n",
       "    </tr>\n",
       "    <tr>\n",
       "      <th>1</th>\n",
       "      <td>versicolor</td>\n",
       "      <td>5.936</td>\n",
       "      <td>2.770</td>\n",
       "      <td>4.260</td>\n",
       "      <td>1.326</td>\n",
       "    </tr>\n",
       "    <tr>\n",
       "      <th>2</th>\n",
       "      <td>virginica</td>\n",
       "      <td>6.470</td>\n",
       "      <td>2.914</td>\n",
       "      <td>5.450</td>\n",
       "      <td>1.990</td>\n",
       "    </tr>\n",
       "  </tbody>\n",
       "</table>\n",
       "</div>"
      ],
      "text/plain": [
       "       target  sepal length (cm)  sepal width (cm)  petal length (cm)  \\\n",
       "0      setosa              5.006             3.428              1.462   \n",
       "1  versicolor              5.936             2.770              4.260   \n",
       "2   virginica              6.470             2.914              5.450   \n",
       "\n",
       "   petal width (cm)  \n",
       "0             0.246  \n",
       "1             1.326  \n",
       "2             1.990  "
      ]
     },
     "execution_count": 133,
     "metadata": {},
     "output_type": "execute_result"
    }
   ],
   "source": [
    "# 붓꽃 종류에 따라 평균 내는 함수\n",
    "def averageSL(df):\n",
    "    All = df.loc[:, ['sepal length (cm)']] # SL의 모든 데이터를 가져오고\n",
    "\n",
    "    seaRes = 0 # seatosa의 결과값을 저장할 변수\n",
    "    verRes = 0 # versicolor의 결과값을 저장할 변수\n",
    "    virRes = 0 # virginica의 결과값을 저장할 변수\n",
    "\n",
    "    for i in range(len(All) - 1):\n",
    "        # seatosa일 경우 = index 0 ~ 49\n",
    "        if(i < 50):  \n",
    "            seaRes += All.iloc[i]\n",
    "        # versicolor일 경우 = index 50 ~ 99   \n",
    "        elif(i < 100):\n",
    "            verRes += All.iloc[i]\n",
    "        # virginica일 경우 = index 100 ~ 149\n",
    "        else:\n",
    "            virRes += All.iloc[i]\n",
    "    return [seaRes/50, verRes/50, virRes/50] # 각각 50개이므로 50으로 나눠 평균 값 리턴\n",
    "\n",
    "# 아래 함수들 모두 동일하게 작성\n",
    "def averageSW(df):\n",
    "    All = df.loc[:, ['sepal width (cm)']]\n",
    "\n",
    "    seaRes = 0\n",
    "    verRes = 0\n",
    "    virRes = 0\n",
    "\n",
    "    for i in range(len(All) - 1):\n",
    "        if(i < 50):\n",
    "            seaRes += All.iloc[i]\n",
    "        elif(i < 100):\n",
    "            verRes += All.iloc[i]\n",
    "        else:\n",
    "            virRes += All.iloc[i]\n",
    "    return [seaRes/50, verRes/50, virRes/50]\n",
    "\n",
    "def averagePL(df):\n",
    "    All = df.loc[:, ['petal length (cm)']]\n",
    "\n",
    "    seaRes = 0\n",
    "    verRes = 0\n",
    "    virRes = 0\n",
    "\n",
    "    for i in range(len(All) - 1):\n",
    "        if(i < 50):\n",
    "            seaRes += All.iloc[i]\n",
    "        elif(i < 100):\n",
    "            verRes += All.iloc[i]\n",
    "        else:\n",
    "            virRes += All.iloc[i]\n",
    "    return [seaRes/50, verRes/50, virRes/50]\n",
    "\n",
    "def averagePW(df):\n",
    "    All = df.loc[:, ['petal width (cm)']]\n",
    "\n",
    "    seaRes = 0\n",
    "    verRes = 0\n",
    "    virRes = 0\n",
    "\n",
    "    for i in range(len(All) - 1):\n",
    "        if(i < 50):\n",
    "            seaRes += All.iloc[i]\n",
    "        elif(i < 100):\n",
    "            verRes += All.iloc[i]\n",
    "        else:\n",
    "            virRes += All.iloc[i]\n",
    "    return [seaRes/50, verRes/50, virRes/50]\n",
    "\n",
    "SL = averageSL(irisdf) \n",
    "SW = averageSW(irisdf) \n",
    "PL = averagePL(irisdf) \n",
    "PW = averagePW(irisdf) \n",
    "\n",
    "inputData = {\"target\" : [irisdf.target[0],irisdf.target[50],irisdf.target[100]],\n",
    "             \"sepal length (cm)\" : [SL[0].values[0], SL[1].values[0], SL[2].values[0]],\n",
    "             \"sepal width (cm)\" : [SW[0].values[0], SW[1].values[0], SW[2].values[0]],\n",
    "             \"petal length (cm)\" : [PL[0].values[0], PL[1].values[0], PL[2].values[0]],\n",
    "             \"petal width (cm)\" : [PW[0].values[0], PW[1].values[0], PW[2].values[0]],\n",
    "            }\n",
    "inputFrame = pandas.DataFrame(inputData)\n",
    "inputFrame"
   ]
  },
  {
   "cell_type": "markdown",
   "metadata": {},
   "source": [
    "# 붓꽃 종류에 따른 평균 데이터 (2)"
   ]
  },
  {
   "cell_type": "code",
   "execution_count": 292,
   "metadata": {},
   "outputs": [
    {
     "data": {
      "text/plain": [
       "pandas.core.frame.DataFrame"
      ]
     },
     "execution_count": 292,
     "metadata": {},
     "output_type": "execute_result"
    }
   ],
   "source": [
    "averageData = irisdf.groupby('target').mean() # groupby를 통해 target으로 구별하여 평균값 도출\n",
    "averageData "
   ]
  },
  {
   "cell_type": "code",
   "execution_count": 234,
   "metadata": {},
   "outputs": [
    {
     "data": {
      "text/plain": [
       "target\n",
       "setosa        5.006\n",
       "versicolor    5.936\n",
       "virginica     6.588\n",
       "Name: sepal length (cm), dtype: float64"
      ]
     },
     "execution_count": 234,
     "metadata": {},
     "output_type": "execute_result"
    }
   ],
   "source": [
    "averageData1 = irisdf.groupby('target')[\"sepal length (cm)\"].mean() # groupby를 통해 target으로 구별하여 SL의 평균값 도출\n",
    "averageData1"
   ]
  },
  {
   "cell_type": "markdown",
   "metadata": {},
   "source": [
    "# 2.2 시각화"
   ]
  },
  {
   "cell_type": "code",
   "execution_count": 231,
   "metadata": {},
   "outputs": [
    {
     "data": {
      "image/png": "[encoded data removed]",
      "text/plain": [
       "<Figure size 432x288 with 1 Axes>"
      ]
     },
     "metadata": {
      "needs_background": "light"
     },
     "output_type": "display_data"
    },
    {
     "data": {
      "image/png": "[encoded data removed]",
      "text/plain": [
       "<Figure size 432x288 with 1 Axes>"
      ]
     },
     "metadata": {
      "needs_background": "light"
     },
     "output_type": "display_data"
    },
    {
     "data": {
      "image/png": "[encoded data removed]",
      "text/plain": [
       "<Figure size 432x288 with 1 Axes>"
      ]
     },
     "metadata": {
      "needs_background": "light"
     },
     "output_type": "display_data"
    },
    {
     "data": {
      "image/png": "[encoded data removed]",
      "text/plain": [
       "<Figure size 432x288 with 1 Axes>"
      ]
     },
     "metadata": {
      "needs_background": "light"
     },
     "output_type": "display_data"
    }
   ],
   "source": [
    "averageData.plot(kind='line')\n",
    "averageData.plot(kind='bar')\n",
    "averageData.plot(kind='barh')\n",
    "averageData.plot(kind='box')\n",
    "plt.show()"
   ]
  },
  {
   "cell_type": "markdown",
   "metadata": {},
   "source": [
    "# 2.3 데이터를 가장 잘 나타내는 그래프\n",
    "## : Bar Chart가 평균 데이터를 가장 구분하기 쉽게 나타내므로 데이터를 가장 잘 나타낸다고 생각한다."
   ]
  },
  {
   "cell_type": "markdown",
   "metadata": {},
   "source": [
    "# 3. 데이터셋 분할"
   ]
  },
  {
   "cell_type": "code",
   "execution_count": 321,
   "metadata": {},
   "outputs": [],
   "source": [
    "from sklearn.model_selection import train_test_split\n",
    "import csv\n",
    "\n",
    "# 데이터셋 분리\n",
    "data = iris['data']\n",
    "target = iris['target']\n",
    "\n",
    "# train_test_split 모듈을 통해 test set과 train set 분류\n",
    "# test set의 비율은 default 값이 0.25이다. 이 말은 즉, 전체 데이터 셋의 25%를 테스트 set으로 지정하겠다는 말이다.\n",
    "# stratify의 default 값은 None인데, startify 값을 target으로 해주면 각각의 class 비율을 train/validation에 유지해준다. \n",
    "# 즉, 한 쪽으로 쏠려서 분배되는 것을 방지해준다. 이 옵션을 설정하지 않고 classification 문제를 다뤘을 때, 성능의 차이가 많이 날 수 있다.\n",
    "x_train, x_test, y_train, y_test = train_test_split(data, target, stratify=target)\n",
    "\n",
    "# train_dataset.csv 파일로 만들기\n",
    "train_df = pandas.DataFrame(x_train, y_train)\n",
    "train_df.to_csv('train_dataset.csv', index=False)\n",
    "\n",
    "# test_dataset.csv 파일로 만들기\n",
    "test_df = pandas.DataFrame(x_test, y_test)\n",
    "test_df.to_csv('test_dataset.csv', index=False)"
   ]
  },
  {
   "cell_type": "markdown",
   "metadata": {},
   "source": [
    "# 4. 분할된 데이터셋 가시화 "
   ]
  },
  {
   "cell_type": "code",
   "execution_count": 402,
   "metadata": {},
   "outputs": [
    {
     "name": "stdout",
     "output_type": "stream",
     "text": [
      "Test            0\n",
      "SL  5.694737\n",
      "SW  2.986842\n",
      "PL  3.594737\n",
      "PW  1.136842\n",
      "\n",
      "\n",
      "Train            0\n",
      "SL  5.893750\n",
      "SW  3.081250\n",
      "PL  3.813393\n",
      "PW  1.220536\n"
     ]
    },
    {
     "data": {
      "image/png": "[encoded data removed]",
      "text/plain": [
       "<Figure size 432x288 with 1 Axes>"
      ]
     },
     "metadata": {
      "needs_background": "light"
     },
     "output_type": "display_data"
    },
    {
     "data": {
      "image/png": "[encoded data removed]",
      "text/plain": [
       "<Figure size 432x288 with 1 Axes>"
      ]
     },
     "metadata": {
      "needs_background": "light"
     },
     "output_type": "display_data"
    }
   ],
   "source": [
    "# dataset 불러오기\n",
    "train = pandas.read_csv('train_dataset.csv')\n",
    "test = pandas.read_csv('test_dataset.csv')\n",
    "\n",
    "average_train = train.sum() / 112 # train 평균 구하기\n",
    "average_test = test.sum() / 38 # test 평균 구하기\n",
    "\n",
    "# train 평균 데이터 가시화\n",
    "average_train_df = pandas.DataFrame(average_train)\n",
    "avgTrain = average_train_df.rename(index={'0': 'SL', '1': 'SW', '2': 'PL', '3': 'PW'})\n",
    "avgTrain.plot(kind='bar', color=\"#dd0000\")\n",
    "\n",
    "# test 평균 데이터 가시화\n",
    "average_test_df = pandas.DataFrame(average_test)\n",
    "avgTest = average_test_df.rename(index={'0': 'SL', '1': 'SW', '2': 'PL', '3': 'PW'})\n",
    "avgTest.plot(kind='bar', color=\"#ddff00\")\n",
    "\n",
    "print(\"Test\", avgTest)\n",
    "print(\"\\n\")\n",
    "print(\"Train\", avgTrain)"
   ]
  },
  {
   "cell_type": "markdown",
   "metadata": {},
   "source": [
    " - Train data set과 Test dataset 사이의 미세한 차이가 있음을 알 수 있다.\n",
    " - Train data set이 Test dataset 보다 약간 큰 경향을 보인다."
   ]
  },
  {
   "cell_type": "markdown",
   "metadata": {},
   "source": [
    "# 201700949 설재혁"
   ]
  },
  {
   "cell_type": "code",
   "execution_count": null,
   "metadata": {},
   "outputs": [],
   "source": []
  }
 ],
 "metadata": {
  "kernelspec": {
   "display_name": "Python 3",
   "language": "python",
   "name": "python3"
  },
  "language_info": {
   "codemirror_mode": {
    "name": "ipython",
    "version": 3
   },
   "file_extension": ".py",
   "mimetype": "text/x-python",
   "name": "python",
   "nbconvert_exporter": "python",
   "pygments_lexer": "ipython3",
   "version": "3.8.3"
  }
 },
 "nbformat": 4,
 "nbformat_minor": 4
}
