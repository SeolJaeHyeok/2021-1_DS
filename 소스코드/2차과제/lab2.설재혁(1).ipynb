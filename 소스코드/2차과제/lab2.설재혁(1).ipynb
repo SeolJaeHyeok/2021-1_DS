{
 "cells": [
  {
   "cell_type": "markdown",
   "metadata": {},
   "source": [
    "## 201700949 설재혁"
   ]
  },
  {
   "cell_type": "code",
   "execution_count": 90,
   "metadata": {},
   "outputs": [
    {
     "data": {
      "image/png": "[encoded data removed]",
      "text/plain": [
       "<Figure size 432x288 with 1 Axes>"
      ]
     },
     "metadata": {
      "needs_background": "light"
     },
     "output_type": "display_data"
    }
   ],
   "source": [
    "import numpy as np\n",
    "import matplotlib.pyplot as plt\n",
    "%matplotlib inline\n",
    "\n",
    "x = np.arange(0.0, 20.0, 0.1)\n",
    "\n",
    "def function_1(x):\n",
    "    return x ** 2\n",
    "\n",
    "def function_2(x):\n",
    "    return x**3 + x**2 + x\n",
    "\n",
    "def function_3(x):\n",
    "    return x * np.sin(x*x*x + 3)\n",
    "\n",
    "def function_4(x):\n",
    "    return np.cos(np.sqrt(np.e**x + 1) / 2)\n",
    "\n",
    "\n",
    "\n",
    "plt.xlabel('x') \n",
    "plt.ylabel('f(x)')\n",
    "plt.plot(x, function_1(x), color=\"green\")\n",
    "plt.plot(x, function_2(x), color=\"red\")\n",
    "plt.plot(x, function_3(x), color=\"blue\")\n",
    "plt.plot(x, function_4(x), color=\"yellow\")\n",
    "plt.show()"
   ]
  },
  {
   "cell_type": "markdown",
   "metadata": {},
   "source": [
    "## 201700949 설재혁"
   ]
  },
  {
   "cell_type": "code",
   "execution_count": 89,
   "metadata": {},
   "outputs": [],
   "source": [
    "# import numpy as np\n",
    "# import matplotlib.pyplot as plt\n",
    "# %matplotlib inline\n",
    "\n",
    "# def numerical_diff(f, x):\n",
    "#     h = 1e-4  # 0.0001\n",
    "#     return (f(x+h) - f(x-h)) / (2*h)\n",
    "\n",
    "# def tangent_line(f, x):\n",
    "#     d = numerical_diff(f, x)\n",
    "#     y = f(x) - d*x\n",
    "#     return lambda t: d*t + y\n",
    "\n",
    "# def function_1(x):\n",
    "#     return x ** 2\n",
    "\n",
    "# def function_2(x):\n",
    "#     return x**3 + x**2 + x\n",
    "\n",
    "# def function_3(x):\n",
    "#     return x * np.sin(x*x*x + 3)\n",
    "\n",
    "# def function_4(x):\n",
    "#     return np.cos(np.sqrt(np.e**x + 1) / 2)\n",
    "\n",
    "# x = np.arange(0.0, 20.0, 0.1)  # 0에서 20까지 0.1 간격의 배열 x를 만든다.\n",
    "\n",
    "# y1 = function_1(x)\n",
    "# tf = tangent_line(function_1, 10)\n",
    "# y2 = tf(x)\n",
    "\n",
    "# y3 = function_1(x)\n",
    "# tf = tangent_line(function_2, 10)\n",
    "# y4 = tf(x)\n",
    "\n",
    "# y5 = function_1(x)\n",
    "# tf = tangent_line(function_3, 10)\n",
    "# y6 = tf(x)\n",
    "\n",
    "# y7 = function_1(x)\n",
    "# tf = tangent_line(function_4, 10)\n",
    "# y8 = tf(x)\n",
    "\n",
    "# plt.xlabel('x') \n",
    "# plt.ylabel('f(x)')\n",
    "# plt.plot(x, y1)\n",
    "# plt.plot(x, y2)\n",
    "# plt.show()"
   ]
  }
 ],
 "metadata": {
  "kernelspec": {
   "display_name": "Python 3",
   "language": "python",
   "name": "python3"
  },
  "language_info": {
   "codemirror_mode": {
    "name": "ipython",
    "version": 3
   },
   "file_extension": ".py",
   "mimetype": "text/x-python",
   "name": "python",
   "nbconvert_exporter": "python",
   "pygments_lexer": "ipython3",
   "version": "3.8.3"
  }
 },
 "nbformat": 4,
 "nbformat_minor": 4
}
