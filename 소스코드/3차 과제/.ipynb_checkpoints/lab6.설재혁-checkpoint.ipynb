{
 "cells": [
  {
   "cell_type": "markdown",
   "metadata": {},
   "source": [
    "# 201700949 설재혁"
   ]
  },
  {
   "cell_type": "code",
   "execution_count": 124,
   "metadata": {},
   "outputs": [
    {
     "name": "stdout",
     "output_type": "stream",
     "text": [
      "Populating the interactive namespace from numpy and matplotlib\n"
     ]
    },
    {
     "name": "stderr",
     "output_type": "stream",
     "text": [
      "/Users/seoljaehyeok/opt/anaconda3/lib/python3.8/site-packages/IPython/core/magics/pylab.py:159: UserWarning: pylab import has clobbered these variables: ['plt', 'mean', 'f', 'dot', 'quantile', 'median']\n",
      "`%matplotlib` prevents importing * from pylab and numpy\n",
      "  warn(\"pylab import has clobbered these variables: %s\"  % clobbered +\n"
     ]
    }
   ],
   "source": [
    "def sum_of_squares(v):\t# linear_algebra.py 코드에서 임포트 하는 대신 여기에 코딩\n",
    "    \"\"\"v_1 * v_1 + … + v_n * v_n\"\"\"\n",
    "    return dot(v, v)\n",
    "\n",
    "def dot(v, w):\t\t # linear_algebra.py 코드에서 임포트 하는 대신 여기에 코딩\n",
    "    \"\"\"v_1 * w_1 + … + v_n * w_n\"\"\"\n",
    "    return sum(v_i * w_i for v_i, w_i in zip(v, w))\n",
    "\n",
    "from IPython.core.interactiveshell import InteractiveShell \n",
    "InteractiveShell.ast_node_interactivity = \"all\"\n",
    "\n",
    "from collections import Counter\n",
    "#from linear_algebra import sum_of_squares, dot # linear_algebra.py 코드에서 임포트\n",
    "import math\n",
    "import numpy as np\n",
    "import matplotlib as plt\n",
    "%pylab inline\n"
   ]
  },
  {
   "cell_type": "markdown",
   "metadata": {},
   "source": [
    "# 친구 수 히스토그램"
   ]
  },
  {
   "cell_type": "code",
   "execution_count": 9,
   "metadata": {},
   "outputs": [
    {
     "data": {
      "image/png": "[encoded data removed]",
      "text/plain": [
       "<Figure size 432x288 with 1 Axes>"
      ]
     },
     "metadata": {
      "needs_background": "light"
     },
     "output_type": "display_data"
    }
   ],
   "source": [
    "num_friends = [100,49,41,40,25,21,21,19,19,18,18,16,15,15,15,15,14,14,13,13,13,13,12,12,11,10,10,10,10,10,10,10,10,10,10,10,10,10,10,10,9,9,9,9,9,9,9,9,9,9,9,9,9,9,9,9,9,9,8,8,8,8,8,8,8,8,8,8,8,8,8,7,7,7,7,7,7,7,7,7,7,7,7,7,7,7,6,6,6,6,6,6,6,6,6,6,6,6,6,6,6,6,6,6,6,6,6,6,5,5,5,5,5,5,5,5,5,5,5,5,5,5,5,5,5,4,4,4,4,4,4,4,4,4,4,4,4,4,4,4,4,4,4,4,4,3,3,3,3,3,3,3,3,3,3,3,3,3,3,3,3,3,3,3,3,2,2,2,2,2,2,2,2,2,2,2,2,2,2,2,2,2,1,1,1,1,1,1,1,1,1,1,1,1,1,1,1,1,1,1,1,1,1,1]\n",
    "\n",
    "def make_friend_count_histogram(plt):\n",
    "    friend_counts = Counter(num_friends)\n",
    "    xs = range(101)\n",
    "    ys = [friend_counts[x] for x in xs]\n",
    "    plt.bar(xs,ys)\n",
    "    plt.axis([0,101,0,25])\n",
    "    plt.title('Histogram of friend counts')\n",
    "    plt.xlabel('# of friends')\n",
    "    plt.ylabel('# of people')\n",
    "    plt.show()\n",
    "\n",
    "make_friend_count_histogram(plt)"
   ]
  },
  {
   "cell_type": "markdown",
   "metadata": {},
   "source": [
    "# 기본 통계치"
   ]
  },
  {
   "cell_type": "code",
   "execution_count": 11,
   "metadata": {},
   "outputs": [
    {
     "name": "stdout",
     "output_type": "stream",
     "text": [
      "204\n",
      "100\n",
      "1\n",
      "[1, 1, 1, 1, 1, 1, 1, 1, 1, 1, 1, 1, 1, 1, 1, 1, 1, 1, 1, 1, 1, 1, 2, 2, 2, 2, 2, 2, 2, 2, 2, 2, 2, 2, 2, 2, 2, 2, 2, 3, 3, 3, 3, 3, 3, 3, 3, 3, 3, 3, 3, 3, 3, 3, 3, 3, 3, 3, 3, 4, 4, 4, 4, 4, 4, 4, 4, 4, 4, 4, 4, 4, 4, 4, 4, 4, 4, 4, 4, 5, 5, 5, 5, 5, 5, 5, 5, 5, 5, 5, 5, 5, 5, 5, 5, 5, 6, 6, 6, 6, 6, 6, 6, 6, 6, 6, 6, 6, 6, 6, 6, 6, 6, 6, 6, 6, 6, 6, 7, 7, 7, 7, 7, 7, 7, 7, 7, 7, 7, 7, 7, 7, 7, 8, 8, 8, 8, 8, 8, 8, 8, 8, 8, 8, 8, 8, 9, 9, 9, 9, 9, 9, 9, 9, 9, 9, 9, 9, 9, 9, 9, 9, 9, 9, 10, 10, 10, 10, 10, 10, 10, 10, 10, 10, 10, 10, 10, 10, 10, 11, 12, 12, 13, 13, 13, 13, 14, 14, 15, 15, 15, 15, 16, 18, 18, 19, 19, 21, 21, 25, 40, 41, 49, 100]\n",
      "1\n",
      "1\n",
      "49\n"
     ]
    }
   ],
   "source": [
    "num_points = len(num_friends)                   # 204\n",
    "largest_value = max(num_friends)               # 100\n",
    "smallest_value = min(num_friends)              # 1\n",
    "sorted_values = sorted(num_friends)\n",
    "smallest_value = sorted_values[0]                # 1\n",
    "second_smallest_value = sorted_values[1]    # 1\n",
    "second_largest_value = sorted_values[-2]    # 49\n",
    "\n",
    "print(num_points)\n",
    "print(largest_value)\n",
    "print(smallest_value)\n",
    "print(sorted_values)\n",
    "print(smallest_value)\n",
    "print(second_smallest_value)\n",
    "print(second_largest_value)"
   ]
  },
  {
   "cell_type": "markdown",
   "metadata": {},
   "source": [
    "# 중심 경향성 : 평균(average)"
   ]
  },
  {
   "cell_type": "code",
   "execution_count": 13,
   "metadata": {},
   "outputs": [
    {
     "data": {
      "text/plain": [
       "7.333333333333333"
      ]
     },
     "execution_count": 13,
     "metadata": {},
     "output_type": "execute_result"
    },
    {
     "data": {
      "text/plain": [
       "7.333333333333333"
      ]
     },
     "execution_count": 13,
     "metadata": {},
     "output_type": "execute_result"
    }
   ],
   "source": [
    "def mean(x):\n",
    "    return sum(x)/len(x)\n",
    "\n",
    "mean(num_friends)\n",
    "\n",
    "# Numpy version\n",
    "np.mean(num_friends)"
   ]
  },
  {
   "cell_type": "markdown",
   "metadata": {},
   "source": [
    "# 중심 경향성 : 중앙값(median)"
   ]
  },
  {
   "cell_type": "code",
   "execution_count": 16,
   "metadata": {},
   "outputs": [
    {
     "data": {
      "text/plain": [
       "6.0"
      ]
     },
     "execution_count": 16,
     "metadata": {},
     "output_type": "execute_result"
    },
    {
     "data": {
      "text/plain": [
       "6.0"
      ]
     },
     "execution_count": 16,
     "metadata": {},
     "output_type": "execute_result"
    }
   ],
   "source": [
    "def median(x):\n",
    "    \"\"\"finds the 'middle-most' value of v\"\"\"\n",
    "    n = len(x)\n",
    "    sorted_x = sorted(x)\n",
    "    midpoint = n // 2\n",
    "    \n",
    "    if n % 2 == 1:\n",
    "        # if odd, return the middle value\n",
    "        return sorted_x[midpoint]\n",
    "    else:\n",
    "        # if even, return the average of the middle values\n",
    "        lo = midpoint - 1\n",
    "        hi = midpoint\n",
    "        return (sorted_x[lo] + sorted_x[hi]) / 2\n",
    "\n",
    "median(num_friends)\n",
    "\n",
    "# Numpy version\n",
    "np.median(num_friends)"
   ]
  },
  {
   "cell_type": "markdown",
   "metadata": {},
   "source": [
    "# 분위(Quantile)\n",
    "- 중앙값을 일반화한 개념으로 특정 백분위보다 낮은 분위에 속하는 데이터를 의미합니다\n",
    "- 중앙값은 상위 50%의 데이터보다 작은 값을 의미합니다"
   ]
  },
  {
   "cell_type": "code",
   "execution_count": 17,
   "metadata": {},
   "outputs": [
    {
     "name": "stdout",
     "output_type": "stream",
     "text": [
      "0.00 Percentage value 1\n",
      "0.25 Percentage value 3\n",
      "0.50 Percentage value 6\n",
      "0.75 Percentage value 9\n"
     ]
    },
    {
     "data": {
      "text/plain": [
       "array([1., 3., 6., 9.])"
      ]
     },
     "execution_count": 17,
     "metadata": {},
     "output_type": "execute_result"
    }
   ],
   "source": [
    "def quantile(x, p):\n",
    "    \"\"\"returns the pth-percentile value in x\"\"\"\n",
    "    p_index = int(p * len(x))\n",
    "    return sorted(x)[p_index]\n",
    "\n",
    "for i in range(0, 100, 25):\n",
    "    print(\"%.2f Percentage value\" % (i*0.01) , quantile(num_friends, i * 0.01))\n",
    "\n",
    "# Numpy version\n",
    "np.percentile(num_friends, [i for i in range(0,100,25)])"
   ]
  },
  {
   "cell_type": "markdown",
   "metadata": {},
   "source": [
    "# 최빈값(mode)\n",
    "- 데이터에서 가장 많이 나오는 값"
   ]
  },
  {
   "cell_type": "code",
   "execution_count": 21,
   "metadata": {},
   "outputs": [
    {
     "data": {
      "text/plain": [
       "[6, 1]"
      ]
     },
     "execution_count": 21,
     "metadata": {},
     "output_type": "execute_result"
    }
   ],
   "source": [
    "def mode(x):\n",
    "    \"\"\"returns a list, might be more than one mode\"\"\"\n",
    "    counts = Counter(x)\n",
    "    max_count = max(counts.values())\n",
    "    return [x_i for x_i, count in counts.items()\n",
    "            if count == max_count]\n",
    "\n",
    "mode(num_friends)"
   ]
  },
  {
   "cell_type": "markdown",
   "metadata": {},
   "source": [
    "# 산포도 : 범위\n",
    "- 데이터가 얼마나 퍼져있는지를 나타내는 지표\n",
    "- 범위는 가장 큰 값과 가장 작은 값의 차이"
   ]
  },
  {
   "cell_type": "code",
   "execution_count": 22,
   "metadata": {},
   "outputs": [
    {
     "data": {
      "text/plain": [
       "99"
      ]
     },
     "execution_count": 22,
     "metadata": {},
     "output_type": "execute_result"
    },
    {
     "data": {
      "text/plain": [
       "99"
      ]
     },
     "execution_count": 22,
     "metadata": {},
     "output_type": "execute_result"
    }
   ],
   "source": [
    "# \"range\" already means something in Python, so we'll use a different name\n",
    "def data_range(x):\n",
    "    return max(x) - min(x)\n",
    "\n",
    "data_range(num_friends)\n",
    "\n",
    "np.max(num_friends) - np.min(num_friends)"
   ]
  },
  {
   "cell_type": "markdown",
   "metadata": {},
   "source": [
    "# 분산(Variance)\n",
    "- 데이터들이 기대값(평균)으로부터 얼마나 떨어진 곳에 분포하는지를 가늠하는 숫자\n",
    "- 분산은 편차의 제곱의 평균을 계산하므로 단위는 기존 단위의 제곱이 됩니다"
   ]
  },
  {
   "cell_type": "code",
   "execution_count": 23,
   "metadata": {},
   "outputs": [
    {
     "data": {
      "text/plain": [
       "81.54351395730706"
      ]
     },
     "execution_count": 23,
     "metadata": {},
     "output_type": "execute_result"
    },
    {
     "name": "stdout",
     "output_type": "stream",
     "text": [
      "116 µs ± 3.35 µs per loop (mean ± std. dev. of 7 runs, 10000 loops each)\n",
      "33.3 µs ± 1.21 µs per loop (mean ± std. dev. of 7 runs, 10000 loops each)\n"
     ]
    }
   ],
   "source": [
    "# Mean - value\n",
    "\n",
    "def de_mean(x):\n",
    "    \"\"\"translate x by subtracting its mean (so the result has mean 0)\"\"\"\n",
    "    x_bar = mean(x)\n",
    "    return [x_i - x_bar for x_i in x]\n",
    "\n",
    "def variance(x):\n",
    "    \"\"\"assumes x has at least two elements\"\"\"\n",
    "    n = len(x)\n",
    "    deviations = de_mean(x)\n",
    "    return sum_of_squares(deviations) / (n - 1)\n",
    "\n",
    "variance(num_friends)\n",
    "\n",
    "%timeit variance(num_friends) \n",
    "%timeit np.var(num_friends) # 일반적인 분산 연산도 numpy가 빠름"
   ]
  },
  {
   "cell_type": "markdown",
   "metadata": {},
   "source": [
    "# 표준편차와 사분위간 분위\n",
    "- 분산 대신 원래 데이터의 단위와 같은 단위를 가지는 표준편차를 더 많이 이용\n",
    "- 범위와 표준편차는 이상치(outlier)에 민감하게 반응\n",
    "- 이상치에 덜 민감하게 반응하는 사분위간 분위는 상위 25%와 하위 25%에 해당하는 값의 차이를 계산"
   ]
  },
  {
   "cell_type": "code",
   "execution_count": 24,
   "metadata": {},
   "outputs": [
    {
     "data": {
      "text/plain": [
       "9.030144736232474"
      ]
     },
     "execution_count": 24,
     "metadata": {},
     "output_type": "execute_result"
    },
    {
     "data": {
      "text/plain": [
       "9.007984838446012"
      ]
     },
     "execution_count": 24,
     "metadata": {},
     "output_type": "execute_result"
    },
    {
     "data": {
      "text/plain": [
       "6"
      ]
     },
     "execution_count": 24,
     "metadata": {},
     "output_type": "execute_result"
    }
   ],
   "source": [
    "def standard_deviation(x):\n",
    "    return math.sqrt(variance(x))\n",
    "\n",
    "standard_deviation(num_friends)\n",
    "\n",
    "np.std(num_friends, dtype=np.float64) \n",
    "\n",
    "def interquartile_range(x):\n",
    "    return quantile(x, 0.75) - quantile(x, 0.25)\n",
    "\n",
    "interquartile_range(num_friends)"
   ]
  },
  {
   "cell_type": "markdown",
   "metadata": {},
   "source": [
    "# 공분산(Covariance)\n",
    "- 분산(variance)은 하나의 변수가 평균에서 얼마나 멀리 떨어져 있는지 계산\n",
    "- 공분산(covariance)은 두 변수가 각각의 평균에서 얼마나 멀리 떨어져 있는지 계산\n",
    "- 공분산이 양수이면 x 값이 커질수록 y 값도 커짐을 의미하고, 공분산이 음수이면 x값이 커질수록 y 값은 작아짐을 의미"
   ]
  },
  {
   "cell_type": "code",
   "execution_count": 25,
   "metadata": {},
   "outputs": [
    {
     "data": {
      "text/plain": [
       "22.42543513957307"
      ]
     },
     "execution_count": 25,
     "metadata": {},
     "output_type": "execute_result"
    },
    {
     "data": {
      "text/plain": [
       "array([[ 81.54351396,  22.42543514],\n",
       "       [ 22.42543514, 100.78589895]])"
      ]
     },
     "execution_count": 25,
     "metadata": {},
     "output_type": "execute_result"
    }
   ],
   "source": [
    "daily_minutes = [1,68.77,51.25,52.08,38.36,44.54,57.13,51.4,41.42,31.22,34.76,54.01,38.79,47.59,49.1,27.66,41.03,36.73,48.65,28.12,46.62,35.57,32.98,35,26.07,23.77,39.73,40.57,31.65,31.21,36.32,20.45,21.93,26.02,27.34,23.49,46.94,30.5,33.8,24.23,21.4,27.94,32.24,40.57,25.07,19.42,22.39,18.42,46.96,23.72,26.41,26.97,36.76,40.32,35.02,29.47,30.2,31,38.11,38.18,36.31,21.03,30.86,36.07,28.66,29.08,37.28,15.28,24.17,22.31,30.17,25.53,19.85,35.37,44.6,17.23,13.47,26.33,35.02,32.09,24.81,19.33,28.77,24.26,31.98,25.73,24.86,16.28,34.51,15.23,39.72,40.8,26.06,35.76,34.76,16.13,44.04,18.03,19.65,32.62,35.59,39.43,14.18,35.24,40.13,41.82,35.45,36.07,43.67,24.61,20.9,21.9,18.79,27.61,27.21,26.61,29.77,20.59,27.53,13.82,33.2,25,33.1,36.65,18.63,14.87,22.2,36.81,25.53,24.62,26.25,18.21,28.08,19.42,29.79,32.8,35.99,28.32,27.79,35.88,29.06,36.28,14.1,36.63,37.49,26.9,18.58,38.48,24.48,18.95,33.55,14.24,29.04,32.51,25.63,22.22,19,32.73,15.16,13.9,27.2,32.01,29.27,33,13.74,20.42,27.32,18.23,35.35,28.48,9.08,24.62,20.12,35.26,19.92,31.02,16.49,12.16,30.7,31.22,34.65,13.13,27.51,33.2,31.57,14.1,33.42,17.44,10.12,24.42,9.82,23.39,30.93,15.03,21.67,31.09,33.29,22.61,26.89,23.48,8.38,27.81,32.35,23.84]\n",
    "\n",
    "def covariance(x, y):\n",
    "    n = len(x)\n",
    "    return dot(de_mean(x), de_mean(y)) / (n - 1)\n",
    "\n",
    "covariance(num_friends, daily_minutes)\n",
    "\n",
    "np.cov(num_friends,daily_minutes)"
   ]
  },
  {
   "cell_type": "markdown",
   "metadata": {},
   "source": [
    "# 상관관계(Correlation)\n",
    "- 공분산의 절대값이 크다고 상관관계가 더 크다고 판단하기 어렵다\n",
    "- 상관관계(correlation)는 공분산에서 각각의 표준편차를 나눠준다\n",
    "- 상관관계는 단위가 없으며 항상 -1 ~ 1 사이의 값을 가진다"
   ]
  },
  {
   "cell_type": "code",
   "execution_count": 26,
   "metadata": {},
   "outputs": [
    {
     "data": {
      "text/plain": [
       "0.2473695736647823"
      ]
     },
     "execution_count": 26,
     "metadata": {},
     "output_type": "execute_result"
    },
    {
     "data": {
      "text/plain": [
       "array([[1.        , 0.24736957],\n",
       "       [0.24736957, 1.        ]])"
      ]
     },
     "execution_count": 26,
     "metadata": {},
     "output_type": "execute_result"
    },
    {
     "data": {
      "text/plain": [
       "[<matplotlib.lines.Line2D at 0x7fdc853c1370>]"
      ]
     },
     "execution_count": 26,
     "metadata": {},
     "output_type": "execute_result"
    },
    {
     "data": {
      "text/plain": [
       "(0.0, 110.0, 0.0, 78.77)"
      ]
     },
     "execution_count": 26,
     "metadata": {},
     "output_type": "execute_result"
    },
    {
     "data": {
      "image/png": "[encoded data removed]",
      "text/plain": [
       "<Figure size 432x288 with 1 Axes>"
      ]
     },
     "metadata": {
      "needs_background": "light"
     },
     "output_type": "display_data"
    }
   ],
   "source": [
    "def correlation(x, y):\n",
    "    stdev_x = standard_deviation(x)\n",
    "    stdev_y = standard_deviation(y)\n",
    "    if stdev_x > 0 and stdev_y > 0:\n",
    "        return covariance(x, y) / stdev_x / stdev_y\n",
    "    else:\n",
    "        return 0 # if no variation, correlation is zero\n",
    "    \n",
    "correlation(num_friends, daily_minutes)\n",
    "\n",
    "np.corrcoef(num_friends, daily_minutes)\n",
    "\n",
    "plt.plot(num_friends, daily_minutes, 'ro')\n",
    "plt.axis([0,max(num_friends)+10,0,max(daily_minutes) +10 ])\n",
    "plt.show()"
   ]
  },
  {
   "cell_type": "markdown",
   "metadata": {},
   "source": [
    "# 이상치를 제거하면 더 강력한 상관관계를 볼 수 있다\n",
    "- 예를 들어, 100명의 친구가 있지만 하루에 1분만 사이트를 이용하는 사용자는 이상치다."
   ]
  },
  {
   "cell_type": "code",
   "execution_count": 27,
   "metadata": {},
   "outputs": [
    {
     "data": {
      "text/plain": [
       "[<matplotlib.lines.Line2D at 0x7fdc84244340>]"
      ]
     },
     "execution_count": 27,
     "metadata": {},
     "output_type": "execute_result"
    },
    {
     "data": {
      "text/plain": [
       "(0.0, 59.0, 0.0, 78.77)"
      ]
     },
     "execution_count": 27,
     "metadata": {},
     "output_type": "execute_result"
    },
    {
     "data": {
      "image/png": "[encoded data removed]",
      "text/plain": [
       "<Figure size 432x288 with 1 Axes>"
      ]
     },
     "metadata": {
      "needs_background": "light"
     },
     "output_type": "display_data"
    }
   ],
   "source": [
    "outlier = num_friends.index(100) # index of outlier\n",
    "\n",
    "num_friends_good = [x \n",
    "                    for i, x in enumerate(num_friends) \n",
    "                    if i != outlier]\n",
    "\n",
    "daily_minutes_good = [x \n",
    "                      for i, x in enumerate(daily_minutes) \n",
    "                      if i != outlier]\n",
    "\n",
    "plt.plot(num_friends_good, daily_minutes_good, 'ro')\n",
    "plt.axis([0,max(num_friends_good)+10,0,max(daily_minutes_good) +10 ])\n",
    "plt.show()"
   ]
  },
  {
   "cell_type": "markdown",
   "metadata": {},
   "source": [
    "# Lab6 (1)"
   ]
  },
  {
   "cell_type": "code",
   "execution_count": 218,
   "metadata": {},
   "outputs": [
    {
     "data": {
      "text/plain": [
       "<matplotlib.collections.PathCollection at 0x7fdc0b2abdc0>"
      ]
     },
     "execution_count": 218,
     "metadata": {},
     "output_type": "execute_result"
    },
    {
     "data": {
      "text/plain": [
       "Text(0.5, 1.0, 'Height-Weight Plotting by Seol Jae hyeok')"
      ]
     },
     "execution_count": 218,
     "metadata": {},
     "output_type": "execute_result"
    },
    {
     "data": {
      "text/plain": [
       "Text(0.5, 0, 'Height in Inches')"
      ]
     },
     "execution_count": 218,
     "metadata": {},
     "output_type": "execute_result"
    },
    {
     "data": {
      "text/plain": [
       "Text(0, 0.5, 'Weight in Lbs')"
      ]
     },
     "execution_count": 218,
     "metadata": {},
     "output_type": "execute_result"
    },
    {
     "data": {
      "image/png": "[encoded data removed]",
      "text/plain": [
       "<Figure size 432x288 with 1 Axes>"
      ]
     },
     "metadata": {
      "needs_background": "light"
     },
     "output_type": "display_data"
    }
   ],
   "source": [
    "import pandas\n",
    "\n",
    "df = pandas.read_csv('height-weight.csv')\n",
    "maleIndex = df[df['Gender'] == 'Male'].index # 남자인 경우 index == 0~4999\n",
    "femaleIndex = df[df['Gender'] == 'Female'].index # 여자인 경우 index == 5000~9999\n",
    "\n",
    "df.loc[maleIndex, \"color\"] = 'b' # 남자인 경우로 슬라이싱 하고 파랑색으로 지정\n",
    "df.loc[femaleIndex, \"color\"] = 'r' # 여자인 경우로 슬라이싱 하고 빨간색으로 지정\n",
    "\n",
    "# scatter_plot = df.plot.scatter(x='Height', y='Weight', s=1, c=df['color'], label=df['Height'])\n",
    "# scatter_plot.plot()\n",
    "plt.scatter(df['Height'], df['Weight'], s=1, c=df['color'])\n",
    "# plt.legend(loc=2)\n",
    "plt.title('Height-Weight Plotting by Seol Jae hyeok')\n",
    "plt.xlabel('Height in Inches')\n",
    "plt.ylabel('Weight in Lbs')\n",
    "plt.show()"
   ]
  },
  {
   "cell_type": "markdown",
   "metadata": {},
   "source": [
    "# (2) 평균 mean"
   ]
  },
  {
   "cell_type": "code",
   "execution_count": 244,
   "metadata": {},
   "outputs": [
    {
     "name": "stdout",
     "output_type": "stream",
     "text": [
      "남자 키 평균 값:  69.02634590621737\n",
      "여자 키 평균 값:  63.708773603424916\n",
      "남자 몸무게 평균 값:  187.0206206581929\n",
      "여자 몸무게 평균 값:  135.8600930074687\n"
     ]
    }
   ],
   "source": [
    "# 남자, 여자 데이터 구분하여 저장\n",
    "is_Male = df['Gender'] == 'Male' \n",
    "is_Female = df['Gender'] == 'Female'\n",
    "male = df[is_Male]\n",
    "female = df[is_Female]\n",
    "\n",
    "# 평균값\n",
    "print('남자 키 평균 값: ',np.mean(male['Height'])) # 남자 키 평균\n",
    "print('여자 키 평균 값: ',np.mean(female['Height'])) # 여자 키 평균\n",
    "print('남자 몸무게 평균 값: ',np.mean(male['Weight'])) # 남자 몸무게 평균\n",
    "print('여자 몸무게 평균 값: ',np.mean(female['Weight'])) # 여자 몸무게 평균"
   ]
  },
  {
   "cell_type": "markdown",
   "metadata": {},
   "source": [
    "# (3) 중앙값 median"
   ]
  },
  {
   "cell_type": "code",
   "execution_count": 245,
   "metadata": {},
   "outputs": [
    {
     "name": "stdout",
     "output_type": "stream",
     "text": [
      "남자 키 중앙 값:  69.02770850939555\n",
      "여자 키 중앙 값:  63.7309238591475\n",
      "남자 몸무게 중앙 값:  187.033546088862\n",
      "여자 몸무게 중앙 값:  136.11758297008498\n"
     ]
    }
   ],
   "source": [
    "print('남자 키 중앙 값: ',np.median(male['Height'])) # 남자 키 중앙값\n",
    "print('여자 키 중앙 값: ',np.median(female['Height'])) # 여자 키 중앙값\n",
    "print('남자 몸무게 중앙 값: ',np.median(male['Weight'])) # 남자 몸무게 중앙값\n",
    "print('여자 몸무게 중앙 값: ',np.median(female['Weight'])) # 여자 몸무게 중앙값"
   ]
  },
  {
   "cell_type": "markdown",
   "metadata": {},
   "source": [
    "# (4) 분위 Quantile"
   ]
  },
  {
   "cell_type": "code",
   "execution_count": 247,
   "metadata": {},
   "outputs": [
    {
     "name": "stdout",
     "output_type": "stream",
     "text": [
      "남자 키 분위 값:  [58.40690493 67.17467907 69.02770851 70.98874363]\n",
      "여자 키 분위 값:  [54.26313333 61.89444149 63.73092386 65.56356518]\n",
      "남자 몸무게 분위 값:  [112.90293945 173.88776733 187.03354609 200.3578018 ]\n",
      "여자 몸무게 분위 값:  [ 64.70012671 122.93409617 136.11758297 148.81092626]\n"
     ]
    }
   ],
   "source": [
    "print('남자 키 분위 값: ',np.percentile(male['Height'],[i for i in range(0,100,25)])) # 남자 키 분위\n",
    "print('여자 키 분위 값: ',np.percentile(female['Height'],[i for i in range(0,100,25)])) # 여자 키 분위\n",
    "print('남자 몸무게 분위 값: ',np.percentile(male['Weight'],[i for i in range(0,100,25)])) # 남자 몸무게 분위\n",
    "print('여자 몸무게 분위 값: ',np.percentile(female['Weight'],[i for i in range(0,100,25)])) # 여자 몸무게 분위"
   ]
  },
  {
   "cell_type": "markdown",
   "metadata": {},
   "source": [
    "# (5) 최빈값 mode"
   ]
  },
  {
   "cell_type": "code",
   "execution_count": 290,
   "metadata": {},
   "outputs": [
    {
     "name": "stdout",
     "output_type": "stream",
     "text": [
      "남자 키 최빈값:  [69]\n",
      "여자 키 최빈값:  [63]\n",
      "남자 몸무게 최빈값:  [192]\n",
      "여자 몸무게 최빈값:  [137]\n"
     ]
    }
   ],
   "source": [
    "parsedMaleHeight = []\n",
    "parsedMaleWeight = []\n",
    "parsedFemaleHeight = []\n",
    "parsedFemaleWeight = []\n",
    "\n",
    "for MH,MW,FH,FW in zip(male[\"Height\"], male['Weight'], female['Height'], female['Weight']):\n",
    "    parsedMaleHeight.append(int(MH))\n",
    "    parsedMaleWeight.append(int(MW))\n",
    "    parsedFemaleHeight.append(int(FH))\n",
    "    parsedFemaleWeight.append(int(FW))\n",
    "\n",
    "print('남자 키 최빈값: ',mode(parsedMaleHeight)) # 남자 키 최빈값\n",
    "print('여자 키 최빈값: ',mode(parsedFemaleHeight)) # 여자 키 최빈값\n",
    "print('남자 몸무게 최빈값: ',mode(parsedMaleWeight)) # 남자 몸무게 최빈값\n",
    "print('여자 몸무게 최빈값: ',mode(parsedFemaleWeight)) # 여자 몸무게 최빈값"
   ]
  },
  {
   "cell_type": "markdown",
   "metadata": {},
   "source": [
    "# (6) 산포도 range"
   ]
  },
  {
   "cell_type": "code",
   "execution_count": 291,
   "metadata": {},
   "outputs": [
    {
     "name": "stdout",
     "output_type": "stream",
     "text": [
      "남자 키 산포도:  20.59183741463979\n",
      "여자 키 산포도:  19.126452540972608\n",
      "남자 몸무게 산포도:  157.086759057288\n",
      "여자 몸무게 산포도:  137.53708702680598\n"
     ]
    }
   ],
   "source": [
    "print('남자 키 산포도: ',np.max(male['Height'])-np.min(male['Height'])) # 남자 키 산포도\n",
    "print('여자 키 산포도: ',np.max(female['Height'])-np.min(female['Height'])) # 여자 키 산포도\n",
    "print('남자 몸무게 산포도: ',np.max(male['Weight'])-np.min(male['Weight'])) # 남자 몸무게 산포도\n",
    "print('여자 몸무게 산포도: ',np.max(female['Weight'])-np.min(female['Weight'])) # 여자 몸무게 산포도"
   ]
  },
  {
   "cell_type": "markdown",
   "metadata": {},
   "source": [
    "# (7) 분산 Variance"
   ]
  },
  {
   "cell_type": "code",
   "execution_count": 292,
   "metadata": {},
   "outputs": [
    {
     "name": "stdout",
     "output_type": "stream",
     "text": [
      "남자 키 분산:  8.19720348386999\n",
      "여자 키 분산:  7.268493504171401\n",
      "남자 몸무게 분산:  391.21581520128217\n",
      "여자 몸무게 분산:  361.7819105481172\n"
     ]
    }
   ],
   "source": [
    "print('남자 키 분산: ',np.var(male['Height'])) # 남자 키 분산\n",
    "print('여자 키 분산: ',np.var(female['Height'])) # 여자 키 분산\n",
    "print('남자 몸무게 분산: ',np.var(male['Weight'])) # 남자 몸무게 분산\n",
    "print('여자 몸무게 분산: ',np.var(female['Weight'])) # 여자 몸무게 분산"
   ]
  },
  {
   "cell_type": "markdown",
   "metadata": {},
   "source": [
    "# (8) 표준편차 "
   ]
  },
  {
   "cell_type": "code",
   "execution_count": 293,
   "metadata": {},
   "outputs": [
    {
     "name": "stdout",
     "output_type": "stream",
     "text": [
      "남자 키 표준편차:  2.8630758781195427\n",
      "여자 키 표준편차:  2.6960143738807107\n",
      "남자 몸무게 표준편차:  19.779176302396472\n",
      "여자 몸무게 표준편차:  19.020565463416624\n"
     ]
    }
   ],
   "source": [
    "print('남자 키 표준편차: ',np.std(male['Height'])) # 남자 키 표준편차\n",
    "print('여자 키 표준편차: ',np.std(female['Height'])) # 여자 키 표준편차\n",
    "print('남자 몸무게 표준편차: ',np.std(male['Weight'])) # 남자 몸무게 표준편차\n",
    "print('여자 몸무게 표준편차: ',np.std(female['Weight'])) # 여자 몸무게 표준편차"
   ]
  },
  {
   "cell_type": "markdown",
   "metadata": {},
   "source": [
    "# (9) 공분산 Covariance"
   ]
  },
  {
   "cell_type": "code",
   "execution_count": 294,
   "metadata": {},
   "outputs": [
    {
     "name": "stdout",
     "output_type": "stream",
     "text": [
      "남자 여자 키 공분산:  [[ 8.19884325 -0.25129107]\n",
      " [-0.25129107  7.26994749]]\n",
      "남자 여자 몸무게 공분산:  [[391.29407402  -7.37151287]\n",
      " [ -7.37151287 361.8542814 ]]\n"
     ]
    }
   ],
   "source": [
    "print('남자 여자 키 공분산: ',np.cov(male['Height'], female['Height'])) # 남자 키 표준편차\n",
    "print('남자 여자 몸무게 공분산: ',np.cov(male['Weight'], female['Weight'])) # 남자 몸무게 표준편차"
   ]
  },
  {
   "cell_type": "markdown",
   "metadata": {},
   "source": [
    "# (10) 상관관계 Correlation"
   ]
  },
  {
   "cell_type": "code",
   "execution_count": 295,
   "metadata": {},
   "outputs": [
    {
     "name": "stdout",
     "output_type": "stream",
     "text": [
      "남자의 키와 몸무게이 상관관계:  [[1.         0.86297885]\n",
      " [0.86297885 1.        ]]\n",
      "여자의 키와 몸무게의 상관관계:  [[1.         0.84960859]\n",
      " [0.84960859 1.        ]]\n"
     ]
    },
    {
     "data": {
      "text/plain": [
       "<matplotlib.collections.PathCollection at 0x7fdc14762820>"
      ]
     },
     "execution_count": 295,
     "metadata": {},
     "output_type": "execute_result"
    },
    {
     "data": {
      "text/plain": [
       "(0.0, 88.99874234638959, 0.0, 279.989698505106)"
      ]
     },
     "execution_count": 295,
     "metadata": {},
     "output_type": "execute_result"
    },
    {
     "data": {
      "text/plain": [
       "<matplotlib.collections.PathCollection at 0x7fdc14762ac0>"
      ]
     },
     "execution_count": 295,
     "metadata": {},
     "output_type": "execute_result"
    },
    {
     "data": {
      "text/plain": [
       "(0.0, 83.38958586606971, 0.0, 212.237213739559)"
      ]
     },
     "execution_count": 295,
     "metadata": {},
     "output_type": "execute_result"
    },
    {
     "data": {
      "image/png": "[encoded data removed]",
      "text/plain": [
       "<Figure size 432x288 with 1 Axes>"
      ]
     },
     "metadata": {
      "needs_background": "light"
     },
     "output_type": "display_data"
    }
   ],
   "source": [
    "print('남자의 키와 몸무게이 상관관계: ',np.corrcoef(male['Height'], male['Weight'])) # 남자의 키와 몸무게의 상관관계\n",
    "print('여자의 키와 몸무게의 상관관계: ',np.corrcoef(female['Height'], female['Weight'])) # 여자의 키와 몸무게의 상관관계\n",
    "\n",
    "plt.scatter(male['Height'], male['Weight'], s=1, color='blue')\n",
    "plt.axis([0,max(male['Height'])+10,0,max(male['Weight']) +10 ])\n",
    "plt.scatter(female['Height'], female['Weight'], s=1, color='red')\n",
    "plt.axis([0,max(female['Height'])+10,0,max(female['Weight']) +10 ])\n",
    "plt.show()"
   ]
  },
  {
   "cell_type": "markdown",
   "metadata": {},
   "source": [
    "- 산점도가 우상향하는 모양이기 때문에 남자 여자 모두 키가 클수록 몸무게가 많이 나가는 것을 확인할 수 있다."
   ]
  },
  {
   "cell_type": "markdown",
   "metadata": {},
   "source": [
    "# 201700949 설재혁"
   ]
  },
  {
   "cell_type": "code",
   "execution_count": null,
   "metadata": {},
   "outputs": [],
   "source": []
  }
 ],
 "metadata": {
  "kernelspec": {
   "display_name": "Python 3",
   "language": "python",
   "name": "python3"
  },
  "language_info": {
   "codemirror_mode": {
    "name": "ipython",
    "version": 3
   },
   "file_extension": ".py",
   "mimetype": "text/x-python",
   "name": "python",
   "nbconvert_exporter": "python",
   "pygments_lexer": "ipython3",
   "version": "3.8.3"
  }
 },
 "nbformat": 4,
 "nbformat_minor": 4
}
