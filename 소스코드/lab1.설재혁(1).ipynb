{
 "cells": [
  {
   "cell_type": "code",
   "execution_count": 27,
   "metadata": {},
   "outputs": [
    {
     "name": "stdout",
     "output_type": "stream",
     "text": [
      "0 : mike\n",
      "1 : nico\n",
      "2 : jacob\n",
      "3 : susan\n",
      "4 : jaehyeok\n",
      "5 : kihyo\n",
      "6 : wooseok\n",
      "7 : hyuk\n",
      "8 : junseok\n",
      "9 : hana\n",
      "10 : eunbi\n",
      "11 : naeun\n",
      "mike,nico,jacob,susan,jaehyeok,kihyo,wooseok,hyuk,junseok,hana,eunbi,naeun,"
     ]
    }
   ],
   "source": [
    "class1 = ['mike', 'nico', 'jacob', 'susan']\n",
    "class2 = ['jaehyeok','kihyo','wooseok','hyuk']\n",
    "class3 = ['junseok', 'hana', 'eunbi', 'naeun']\n",
    "       \n",
    "All = class1 + class2 + class3\n",
    "\n",
    "for index, i in enumerate(All):\n",
    "    print(index, ':', i)\n",
    "\n",
    "for i in range(len(All)):\n",
    "    print(All[i], end=\",\")"
   ]
  },
  {
   "cell_type": "code",
   "execution_count": null,
   "metadata": {},
   "outputs": [],
   "source": []
  }
 ],
 "metadata": {
  "kernelspec": {
   "display_name": "Python 3",
   "language": "python",
   "name": "python3"
  },
  "language_info": {
   "codemirror_mode": {
    "name": "ipython",
    "version": 3
   },
   "file_extension": ".py",
   "mimetype": "text/x-python",
   "name": "python",
   "nbconvert_exporter": "python",
   "pygments_lexer": "ipython3",
   "version": "3.8.3"
  }
 },
 "nbformat": 4,
 "nbformat_minor": 4
}
