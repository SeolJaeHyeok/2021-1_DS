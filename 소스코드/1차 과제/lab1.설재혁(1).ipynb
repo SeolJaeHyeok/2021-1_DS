{
 "cells": [
  {
   "cell_type": "code",
   "execution_count": 1,
   "metadata": {},
   "outputs": [
    {
     "name": "stdout",
     "output_type": "stream",
     "text": [
      "0 : mike\n",
      "1 : nico\n",
      "2 : jacob\n",
      "3 : susan\n",
      "4 : jaehyeok\n",
      "5 : kihyo\n",
      "6 : wooseok\n",
      "7 : hyuk\n",
      "8 : junseok\n",
      "9 : hana\n",
      "10 : eunbi\n",
      "11 : naeun\n"
     ]
    }
   ],
   "source": [
    "import csv\n",
    "\n",
    "class1 = ['mike', 'nico', 'jacob', 'susan']\n",
    "class2 = ['jaehyeok','kihyo','wooseok','hyuk']\n",
    "class3 = ['junseok', 'hana', 'eunbi', 'naeun']\n",
    "       \n",
    "All = class1 + class2 + class3\n",
    "\n",
    "for index, i in enumerate(All):\n",
    "    print(index, ':', i)\n",
    "\n",
    "with open('lab1.csv', 'w', newline='') as f: \n",
    "    writer = csv.writer(f)\n",
    "    writer.writerow(All)"
   ]
  },
  {
   "cell_type": "code",
   "execution_count": null,
   "metadata": {},
   "outputs": [],
   "source": []
  }
 ],
 "metadata": {
  "kernelspec": {
   "display_name": "Python 3",
   "language": "python",
   "name": "python3"
  },
  "language_info": {
   "codemirror_mode": {
    "name": "ipython",
    "version": 3
   },
   "file_extension": ".py",
   "mimetype": "text/x-python",
   "name": "python",
   "nbconvert_exporter": "python",
   "pygments_lexer": "ipython3",
   "version": "3.8.3"
  }
 },
 "nbformat": 4,
 "nbformat_minor": 4
}
